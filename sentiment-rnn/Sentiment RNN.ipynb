{
 "cells": [
  {
   "cell_type": "markdown",
   "metadata": {
    "deletable": true,
    "editable": true
   },
   "source": [
    "# Sentiment Analysis with an RNN\n",
    "\n",
    "In this notebook, you'll implement a recurrent neural network that performs sentiment analysis. Using an RNN rather than a feedfoward network is more accurate since we can include information about the *sequence* of words. Here we'll use a dataset of movie reviews, accompanied by labels.\n",
    "\n",
    "The architecture for this network is shown below.\n",
    "\n",
    "<img src=\"assets/network_diagram.png\" width=400px>\n",
    "\n",
    "Here, we'll pass in words to an embedding layer. We need an embedding layer because we have tens of thousands of words, so we'll need a more efficient representation for our input data than one-hot encoded vectors. You should have seen this before from the word2vec lesson. You can actually train up an embedding with word2vec and use it here. But it's good enough to just have an embedding layer and let the network learn the embedding table on it's own.\n",
    "\n",
    "From the embedding layer, the new representations will be passed to LSTM cells. These will add recurrent connections to the network so we can include information about the sequence of words in the data. Finally, the LSTM cells will go to a sigmoid output layer here. We're using the sigmoid because we're trying to predict if this text has positive or negative sentiment. The output layer will just be a single unit then, with a sigmoid activation function.\n",
    "\n",
    "We don't care about the sigmoid outputs except for the very last one, we can ignore the rest. We'll calculate the cost from the output of the last step and the training label."
   ]
  },
  {
   "cell_type": "code",
   "execution_count": 1,
   "metadata": {
    "collapsed": true,
    "deletable": true,
    "editable": true
   },
   "outputs": [],
   "source": [
    "import numpy as np\n",
    "import tensorflow as tf"
   ]
  },
  {
   "cell_type": "code",
   "execution_count": 2,
   "metadata": {
    "collapsed": false,
    "deletable": true,
    "editable": true
   },
   "outputs": [],
   "source": [
    "with open('./reviews.txt', 'r') as f:\n",
    "    reviews = f.read()\n",
    "with open('./labels.txt', 'r') as f:\n",
    "    labels = f.read()"
   ]
  },
  {
   "cell_type": "code",
   "execution_count": 3,
   "metadata": {
    "collapsed": false,
    "deletable": true,
    "editable": true
   },
   "outputs": [
    {
     "data": {
      "text/plain": [
       "'bromwell high is a cartoon comedy . it ran at the same time as some other programs about school life  such as  teachers  . my   years in the teaching profession lead me to believe that bromwell high  s satire is much closer to reality than is  teachers  . the scramble to survive financially  the insightful students who can see right through their pathetic teachers  pomp  the pettiness of the whole situation  all remind me of the schools i knew and their students . when i saw the episode in which a student repeatedly tried to burn down the school  i immediately recalled . . . . . . . . . at . . . . . . . . . . high . a classic line inspector i  m here to sack one of your teachers . student welcome to bromwell high . i expect that many adults of my age think that bromwell high is far fetched . what a pity that it isn  t   \\nstory of a man who has unnatural feelings for a pig . starts out with a opening scene that is a terrific example of absurd comedy . a formal orchestra audience is turned into an insane  violent mob by the crazy chantings of it  s singers . unfortunately it stays absurd the whole time with no general narrative eventually making it just too off putting . even those from the era should be turned off . the cryptic dialogue would make shakespeare seem easy to a third grader . on a technical level it  s better than you might think with some good cinematography by future great vilmos zsigmond . future stars sally kirkland and frederic forrest can be seen briefly .  \\nhomelessness  or houselessness as george carlin stated  has been an issue for years but never a plan to help those on the street that were once considered human who did everything from going to school  work  or vote for the matter . most people think of the homeless as just a lost cause while worrying about things such as racism  the war on iraq  pressuring kids to succeed  technology  the elections  inflation  or worrying if they  ll be next to end up on the streets .  br    br   but what if y'"
      ]
     },
     "execution_count": 3,
     "metadata": {},
     "output_type": "execute_result"
    }
   ],
   "source": [
    "reviews[:2000]"
   ]
  },
  {
   "cell_type": "markdown",
   "metadata": {
    "deletable": true,
    "editable": true
   },
   "source": [
    "## Data preprocessing\n",
    "\n",
    "The first step when building a neural network model is getting your data into the proper form to feed into the network. Since we're using embedding layers, we'll need to encode each word with an integer. We'll also want to clean it up a bit.\n",
    "\n",
    "You can see an example of the reviews data above. We'll want to get rid of those periods. Also, you might notice that the reviews are delimited with newlines `\\n`. To deal with those, I'm going to split the text into each review using `\\n` as the delimiter. Then I can combined all the reviews back together into one big string.\n",
    "\n",
    "First, let's remove all punctuation. Then get all the text without the newlines and split it into individual words."
   ]
  },
  {
   "cell_type": "code",
   "execution_count": 4,
   "metadata": {
    "collapsed": true,
    "deletable": true,
    "editable": true
   },
   "outputs": [],
   "source": [
    "from string import punctuation\n",
    "all_text = ''.join([c for c in reviews if c not in punctuation])\n",
    "reviews = all_text.split('\\n')\n",
    "\n",
    "all_text = ' '.join(reviews)\n",
    "words = all_text.split()"
   ]
  },
  {
   "cell_type": "code",
   "execution_count": 5,
   "metadata": {
    "collapsed": false,
    "deletable": true,
    "editable": true
   },
   "outputs": [
    {
     "data": {
      "text/plain": [
       "'bromwell high is a cartoon comedy  it ran at the same time as some other programs about school life  such as  teachers   my   years in the teaching profession lead me to believe that bromwell high  s satire is much closer to reality than is  teachers   the scramble to survive financially  the insightful students who can see right through their pathetic teachers  pomp  the pettiness of the whole situation  all remind me of the schools i knew and their students  when i saw the episode in which a student repeatedly tried to burn down the school  i immediately recalled          at           high  a classic line inspector i  m here to sack one of your teachers  student welcome to bromwell high  i expect that many adults of my age think that bromwell high is far fetched  what a pity that it isn  t    story of a man who has unnatural feelings for a pig  starts out with a opening scene that is a terrific example of absurd comedy  a formal orchestra audience is turned into an insane  violent mob by the crazy chantings of it  s singers  unfortunately it stays absurd the whole time with no general narrative eventually making it just too off putting  even those from the era should be turned off  the cryptic dialogue would make shakespeare seem easy to a third grader  on a technical level it  s better than you might think with some good cinematography by future great vilmos zsigmond  future stars sally kirkland and frederic forrest can be seen briefly    homelessness  or houselessness as george carlin stated  has been an issue for years but never a plan to help those on the street that were once considered human who did everything from going to school  work  or vote for the matter  most people think of the homeless as just a lost cause while worrying about things such as racism  the war on iraq  pressuring kids to succeed  technology  the elections  inflation  or worrying if they  ll be next to end up on the streets   br    br   but what if you were given a bet to live on the st'"
      ]
     },
     "execution_count": 5,
     "metadata": {},
     "output_type": "execute_result"
    }
   ],
   "source": [
    "all_text[:2000]"
   ]
  },
  {
   "cell_type": "code",
   "execution_count": 6,
   "metadata": {
    "collapsed": false,
    "deletable": true,
    "editable": true
   },
   "outputs": [
    {
     "data": {
      "text/plain": [
       "['bromwell',\n",
       " 'high',\n",
       " 'is',\n",
       " 'a',\n",
       " 'cartoon',\n",
       " 'comedy',\n",
       " 'it',\n",
       " 'ran',\n",
       " 'at',\n",
       " 'the',\n",
       " 'same',\n",
       " 'time',\n",
       " 'as',\n",
       " 'some',\n",
       " 'other',\n",
       " 'programs',\n",
       " 'about',\n",
       " 'school',\n",
       " 'life',\n",
       " 'such',\n",
       " 'as',\n",
       " 'teachers',\n",
       " 'my',\n",
       " 'years',\n",
       " 'in',\n",
       " 'the',\n",
       " 'teaching',\n",
       " 'profession',\n",
       " 'lead',\n",
       " 'me',\n",
       " 'to',\n",
       " 'believe',\n",
       " 'that',\n",
       " 'bromwell',\n",
       " 'high',\n",
       " 's',\n",
       " 'satire',\n",
       " 'is',\n",
       " 'much',\n",
       " 'closer',\n",
       " 'to',\n",
       " 'reality',\n",
       " 'than',\n",
       " 'is',\n",
       " 'teachers',\n",
       " 'the',\n",
       " 'scramble',\n",
       " 'to',\n",
       " 'survive',\n",
       " 'financially',\n",
       " 'the',\n",
       " 'insightful',\n",
       " 'students',\n",
       " 'who',\n",
       " 'can',\n",
       " 'see',\n",
       " 'right',\n",
       " 'through',\n",
       " 'their',\n",
       " 'pathetic',\n",
       " 'teachers',\n",
       " 'pomp',\n",
       " 'the',\n",
       " 'pettiness',\n",
       " 'of',\n",
       " 'the',\n",
       " 'whole',\n",
       " 'situation',\n",
       " 'all',\n",
       " 'remind',\n",
       " 'me',\n",
       " 'of',\n",
       " 'the',\n",
       " 'schools',\n",
       " 'i',\n",
       " 'knew',\n",
       " 'and',\n",
       " 'their',\n",
       " 'students',\n",
       " 'when',\n",
       " 'i',\n",
       " 'saw',\n",
       " 'the',\n",
       " 'episode',\n",
       " 'in',\n",
       " 'which',\n",
       " 'a',\n",
       " 'student',\n",
       " 'repeatedly',\n",
       " 'tried',\n",
       " 'to',\n",
       " 'burn',\n",
       " 'down',\n",
       " 'the',\n",
       " 'school',\n",
       " 'i',\n",
       " 'immediately',\n",
       " 'recalled',\n",
       " 'at',\n",
       " 'high']"
      ]
     },
     "execution_count": 6,
     "metadata": {},
     "output_type": "execute_result"
    }
   ],
   "source": [
    "words[:100]"
   ]
  },
  {
   "cell_type": "markdown",
   "metadata": {
    "deletable": true,
    "editable": true
   },
   "source": [
    "### Encoding the words\n",
    "\n",
    "The embedding lookup requires that we pass in integers to our network. The easiest way to do this is to create dictionaries that map the words in the vocabulary to integers. Then we can convert each of our reviews into integers so they can be passed into the network.\n",
    "\n",
    "> **Exercise:** Now you're going to encode the words with integers. Build a dictionary that maps words to integers. Later we're going to pad our input vectors with zeros, so make sure the integers **start at 1, not 0**.\n",
    "> Also, convert the reviews to integers and store the reviews in a new list called `reviews_ints`. "
   ]
  },
  {
   "cell_type": "code",
   "execution_count": 7,
   "metadata": {
    "collapsed": true,
    "deletable": true,
    "editable": true
   },
   "outputs": [],
   "source": [
    "# Create your dictionary that maps vocab words to integers here\n",
    "vocab = set(words)\n",
    "vocab_to_int = {word: i for i, word in enumerate(vocab)}\n",
    "\n",
    "def text_to_ints(text):\n",
    "    text_words = text.split()\n",
    "    return [vocab_to_int[word] for word in text_words]\n",
    "\n",
    "# Convert the reviews to integers, same shape as reviews list, but with integers\n",
    "reviews_ints = [text_to_ints(review) for review in reviews]"
   ]
  },
  {
   "cell_type": "code",
   "execution_count": 8,
   "metadata": {
    "collapsed": false
   },
   "outputs": [
    {
     "name": "stdout",
     "output_type": "stream",
     "text": [
      "[[12589, 2651, 2416, 41512, 18376, 30441, 24808, 7593, 35620, 66308, 42053, 51277, 39078, 64454, 38448, 68888, 42725, 5188, 12103, 40679, 39078, 19968, 29852, 67574, 30514, 66308, 63843, 23607, 3567, 37882, 73292, 36393, 9589, 12589, 2651, 57942, 5164, 2416, 67711, 45766, 73292, 73696, 10512, 2416, 19968, 66308, 9677, 73292, 33003, 8377, 66308, 55222, 61830, 9383, 65067, 44207, 62280, 22928, 68013, 3115, 19968, 30885, 66308, 65810, 25464, 66308, 32586, 16852, 65727, 38585, 37882, 25464, 66308, 47265, 35189, 20741, 20230, 68013, 61830, 28974, 35189, 48771, 66308, 28819, 30514, 73197, 41512, 33585, 53794, 59660, 73292, 40843, 37478, 66308, 5188, 35189, 12768, 66171, 35620, 2651, 41512, 73513, 3771, 47799, 35189, 38546, 33618, 73292, 6964, 25311, 25464, 3397, 19968, 33585, 14529, 73292, 12589, 2651, 35189, 6324, 9589, 7796, 37954, 25464, 29852, 40389, 68093, 9589, 12589, 2651, 2416, 70695, 6344, 71242, 41512, 22011, 9589, 24808, 4411, 17484], [32601, 25464, 41512, 641, 9383, 59267, 73752, 69451, 6313, 41512, 10758, 28223, 29177, 37639, 41512, 34236, 47271, 9589, 2416, 41512, 28596, 67224, 25464, 59764, 30441, 41512, 52735, 33252, 12456, 2416, 61322, 3135, 4566, 68651, 7770, 59241, 60555, 66308, 15847, 24844, 25464, 24808, 57942, 27637, 41614, 24808, 18483, 59764, 66308, 32586, 51277, 37639, 6647, 7674, 15854, 39373, 16089, 24808, 42545, 23599, 48792, 35797, 26592, 60172, 32008, 66308, 49960, 56174, 44374, 61322, 48792, 66308, 36624, 6231, 2977, 9465, 933, 29618, 48828, 73292, 41512, 7051, 33328, 67182, 41512, 50558, 42126, 24808, 57942, 25054, 10512, 25343, 65013, 68093, 37639, 64454, 17859, 17264, 60555, 20640, 59871, 16386, 29330, 20640, 1294, 13045, 41439, 20230, 32425, 56189, 65067, 44374, 16011, 23345], [45318, 39369, 20997, 39078, 35761, 20331, 71236, 59267, 65637, 4566, 68463, 6313, 67574, 61034, 68458, 41512, 49372, 73292, 67121, 60172, 67182, 66308, 9001, 9589, 15790, 535, 13601, 28411, 9383, 51664, 734, 32008, 72470, 73292, 5188, 2849, 39369, 59378, 6313, 66308, 64321, 71614, 29970, 68093, 25464, 66308, 43227, 39078, 42545, 41512, 63817, 9960, 49871, 43221, 42725, 3238, 40679, 39078, 16742, 66308, 31268, 67182, 16728, 31865, 9376, 73292, 42848, 25853, 66308, 67228, 53666, 39369, 43221, 73269, 9835, 59898, 44374, 43067, 73292, 52885, 49425, 67182, 66308, 10338, 15616, 15616, 61034, 71242, 73269, 25343, 15790, 38711, 41512, 38210, 73292, 3793, 67182, 66308, 10338, 6313, 41512, 14802, 39633, 66308, 66281, 25343, 535, 28631, 32008, 41512, 45112, 66308, 14394, 12469, 41512, 59850, 26642, 67182, 66308, 65367, 41512, 35567, 20230, 734, 25343, 535, 40762, 73292, 44207, 71242, 24808, 57942, 51980, 73292, 44374, 43227, 9589, 2416, 43748, 12762, 57942, 65568, 15616, 15616, 11203, 41771, 9383, 15643, 9383, 1294, 39078, 12762, 38591, 41512, 60253, 641, 9383, 59267, 734, 30514, 66308, 32850, 23601, 22508, 73292, 9465, 41512, 38210, 37639, 41512, 22468, 6135, 48717, 55358, 73292, 44207, 73269, 54295, 65067, 3793, 30514, 66308, 10338, 6313, 22555, 37536, 39633, 66308, 66281, 73269, 12762, 3393, 54295, 65067, 32137, 71242, 54295, 52792, 37639, 41512, 20640, 52998, 25464, 16089, 9768, 67868, 66308, 38210, 57942, 67182, 20825, 12762, 2416, 56337, 67182, 66308, 9001, 37639, 41512, 36379, 67182, 47823, 46963, 73292, 72893, 47823, 43694, 21144, 20825, 54295, 65067, 17484, 57317, 48792, 66308, 10583, 54295, 57942, 38711, 66308, 16900, 48010, 60555, 41512, 12337, 9953, 24808, 57942, 35825, 67182, 47823, 19343, 20825, 12762, 39469, 38448, 4323, 16623, 41512, 22077, 60555, 66308, 70416, 25464, 31113, 37227, 53321, 64418, 4566, 27041, 73609, 9383, 63961, 70894, 22275, 14177, 33622, 45112, 20230, 33622, 32239, 17196, 5038, 59193, 20230, 64203, 69311, 42590, 9383, 5584, 17881, 52594, 73292, 66308, 10338, 9835, 51352, 43864, 12762, 4411, 17484, 54295, 57942, 50250, 52594, 73292, 42074, 19914, 16004, 51980, 54295, 535, 51664, 28974, 25937, 60253, 20825, 24808, 57942, 7977, 39369, 17038, 17180, 39369, 44374, 46938, 15616, 15616, 49871, 66308, 45529, 7821, 6395, 31113, 20230, 12762, 43376, 17484, 45167, 73292, 51467, 35189, 56447, 12103, 36811, 73292, 44374, 25311, 25464, 11203, 41771, 62940, 62294, 20825, 2537, 73292, 25937, 41512, 30441, 24808, 28896, 41512, 26814, 8153, 71929, 73292, 47823, 32358, 2849, 40679, 39078, 5050, 30353, 18679, 18386, 39369, 30846, 6313, 66308, 64321, 73292, 22686, 71242, 24808, 57942, 51980, 14545, 3698, 20527, 22275, 14177, 24808, 66308, 43067, 28463, 39369, 67182, 66308, 38448, 73863, 16089, 41512, 18353, 38210, 51980, 65727, 60253, 29970, 32137, 28974, 9835, 604, 17484, 19301, 71242, 73292, 32137, 37639, 68013, 25892, 45959, 9835, 56174, 6843, 24808, 73292, 66308, 43227, 29496, 25464, 24122, 24808, 51980, 47375, 25892, 15616, 15616, 39369, 45959, 53139, 13384, 43467, 62378, 25343, 73292, 67121, 11424]]\n"
     ]
    }
   ],
   "source": [
    "print(reviews_ints[0:3])"
   ]
  },
  {
   "cell_type": "markdown",
   "metadata": {
    "collapsed": false,
    "deletable": true,
    "editable": true
   },
   "source": [
    "### Encoding the labels\n",
    "\n",
    "Our labels are \"positive\" or \"negative\". To use these labels in our network, we need to convert them to 0 and 1.\n",
    "\n",
    "> **Exercise:** Convert labels from `positive` and `negative` to 1 and 0, respectively."
   ]
  },
  {
   "cell_type": "code",
   "execution_count": 9,
   "metadata": {
    "collapsed": false
   },
   "outputs": [
    {
     "name": "stdout",
     "output_type": "stream",
     "text": [
      "positive\n",
      "negative\n",
      "po\n"
     ]
    }
   ],
   "source": [
    "print(labels[0:20])"
   ]
  },
  {
   "cell_type": "code",
   "execution_count": 10,
   "metadata": {
    "collapsed": false,
    "deletable": true,
    "editable": true
   },
   "outputs": [
    {
     "name": "stdout",
     "output_type": "stream",
     "text": [
      "[1, 0, 1, 0, 1, 0, 1, 0, 1, 0, 1, 0, 1, 0, 1, 0, 1, 0, 1, 0]\n"
     ]
    }
   ],
   "source": [
    "# Convert labels to 1s and 0s for 'positive' and 'negative'\n",
    "labels = labels.split(\"\\n\")\n",
    "labels = [1 if label == 'positive' else 0 for label in labels]\n",
    "print(labels[0:20])"
   ]
  },
  {
   "cell_type": "markdown",
   "metadata": {},
   "source": [
    "If you built `labels` correctly, you should see the next output."
   ]
  },
  {
   "cell_type": "code",
   "execution_count": 11,
   "metadata": {
    "collapsed": false,
    "deletable": true,
    "editable": true
   },
   "outputs": [
    {
     "name": "stdout",
     "output_type": "stream",
     "text": [
      "Zero-length reviews: 1\n",
      "Maximum review length: 2514\n"
     ]
    }
   ],
   "source": [
    "from collections import Counter\n",
    "review_lens = Counter([len(x) for x in reviews_ints])\n",
    "print(\"Zero-length reviews: {}\".format(review_lens[0]))\n",
    "print(\"Maximum review length: {}\".format(max(review_lens)))"
   ]
  },
  {
   "cell_type": "markdown",
   "metadata": {
    "deletable": true,
    "editable": true
   },
   "source": [
    "Okay, a couple issues here. We seem to have one review with zero length. And, the maximum review length is way too many steps for our RNN. Let's truncate to 200 steps. For reviews shorter than 200, we'll pad with 0s. For reviews longer than 200, we can truncate them to the first 200 characters.\n",
    "\n",
    "> **Exercise:** First, remove the review with zero length from the `reviews_ints` list."
   ]
  },
  {
   "cell_type": "code",
   "execution_count": 13,
   "metadata": {
    "collapsed": false,
    "deletable": true,
    "editable": true
   },
   "outputs": [
    {
     "name": "stdout",
     "output_type": "stream",
     "text": [
      "set()\n",
      "25000\n",
      "25000\n"
     ]
    }
   ],
   "source": [
    "# Filter out that review with 0 length\n",
    "empty_indices = np.where(len(reviews_ints) == 0)\n",
    "empty_indices = set([i for i in range(len(reviews_ints)) if len(reviews_ints[i]) == 0])\n",
    "print(empty_indices)\n",
    "reviews_ints = [review for index, review in enumerate(reviews_ints) if index not in empty_indices]\n",
    "labels = [label for index, label in enumerate(labels) if index not in empty_indices]\n",
    "\n",
    "print(len(reviews_ints))\n",
    "print(len(labels))"
   ]
  },
  {
   "cell_type": "markdown",
   "metadata": {
    "deletable": true,
    "editable": true
   },
   "source": [
    "> **Exercise:** Now, create an array `features` that contains the data we'll pass to the network. The data should come from `review_ints`, since we want to feed integers to the network. Each row should be 200 elements long. For reviews shorter than 200 words, left pad with 0s. That is, if the review is `['best', 'movie', 'ever']`, `[117, 18, 128]` as integers, the row will look like `[0, 0, 0, ..., 0, 117, 18, 128]`. For reviews longer than 200, use on the first 200 words as the feature vector.\n",
    "\n",
    "This isn't trivial and there are a bunch of ways to do this. But, if you're going to be building your own deep learning networks, you're going to have to get used to preparing your data.\n",
    "\n"
   ]
  },
  {
   "cell_type": "code",
   "execution_count": 14,
   "metadata": {
    "collapsed": false,
    "deletable": true,
    "editable": true
   },
   "outputs": [],
   "source": [
    "seq_len = 200\n",
    "def process_review(review):\n",
    "    truncated = review[0:seq_len]\n",
    "    length = len(truncated)\n",
    "    padding = [0] * (seq_len - length)\n",
    "    return padding + truncated\n",
    "\n",
    "features = np.array([process_review(review) for review in reviews_ints])\n",
    "#print(features[0:3])"
   ]
  },
  {
   "cell_type": "markdown",
   "metadata": {},
   "source": [
    "If you build features correctly, it should look like that cell output below."
   ]
  },
  {
   "cell_type": "code",
   "execution_count": 15,
   "metadata": {
    "collapsed": false,
    "deletable": true,
    "editable": true
   },
   "outputs": [
    {
     "data": {
      "text/plain": [
       "array([[    0,     0,     0,     0,     0,     0,     0,     0,     0,\n",
       "            0,     0,     0,     0,     0,     0,     0,     0,     0,\n",
       "            0,     0,     0,     0,     0,     0,     0,     0,     0,\n",
       "            0,     0,     0,     0,     0,     0,     0,     0,     0,\n",
       "            0,     0,     0,     0,     0,     0,     0,     0,     0,\n",
       "            0,     0,     0,     0,     0,     0,     0,     0,     0,\n",
       "            0,     0,     0,     0,     0,     0, 12589,  2651,  2416,\n",
       "        41512, 18376, 30441, 24808,  7593, 35620, 66308, 42053, 51277,\n",
       "        39078, 64454, 38448, 68888, 42725,  5188, 12103, 40679, 39078,\n",
       "        19968, 29852, 67574, 30514, 66308, 63843, 23607,  3567, 37882,\n",
       "        73292, 36393,  9589, 12589,  2651, 57942,  5164,  2416, 67711,\n",
       "        45766],\n",
       "       [    0,     0,     0,     0,     0,     0,     0,     0,     0,\n",
       "            0,     0,     0,     0,     0,     0,     0,     0,     0,\n",
       "            0,     0,     0,     0,     0,     0,     0,     0,     0,\n",
       "            0,     0,     0,     0,     0,     0,     0,     0,     0,\n",
       "            0,     0,     0,     0,     0,     0,     0,     0,     0,\n",
       "            0,     0,     0,     0,     0,     0,     0,     0,     0,\n",
       "            0,     0,     0,     0,     0,     0,     0,     0,     0,\n",
       "            0,     0,     0,     0,     0,     0,     0,     0,     0,\n",
       "            0,     0,     0,     0,     0,     0,     0,     0,     0,\n",
       "            0,     0,     0,     0,     0, 32601, 25464, 41512,   641,\n",
       "         9383, 59267, 73752, 69451,  6313, 41512, 10758, 28223, 29177,\n",
       "        37639],\n",
       "       [45318, 39369, 20997, 39078, 35761, 20331, 71236, 59267, 65637,\n",
       "         4566, 68463,  6313, 67574, 61034, 68458, 41512, 49372, 73292,\n",
       "        67121, 60172, 67182, 66308,  9001,  9589, 15790,   535, 13601,\n",
       "        28411,  9383, 51664,   734, 32008, 72470, 73292,  5188,  2849,\n",
       "        39369, 59378,  6313, 66308, 64321, 71614, 29970, 68093, 25464,\n",
       "        66308, 43227, 39078, 42545, 41512, 63817,  9960, 49871, 43221,\n",
       "        42725,  3238, 40679, 39078, 16742, 66308, 31268, 67182, 16728,\n",
       "        31865,  9376, 73292, 42848, 25853, 66308, 67228, 53666, 39369,\n",
       "        43221, 73269,  9835, 59898, 44374, 43067, 73292, 52885, 49425,\n",
       "        67182, 66308, 10338, 15616, 15616, 61034, 71242, 73269, 25343,\n",
       "        15790, 38711, 41512, 38210, 73292,  3793, 67182, 66308, 10338,\n",
       "         6313],\n",
       "       [10608, 28223, 39078, 41512, 51282, 13986, 34483,  8962,  2416,\n",
       "        34827, 49425, 37639, 20527, 42398, 40679, 58555, 73292, 60253,\n",
       "        38367,  8473, 34661, 44234, 12172,  9383,  2416,  6119, 49562,\n",
       "        41512, 32738, 25464, 65491, 57942, 73292, 47823, 63938, 30514,\n",
       "         2545, 25464, 24808, 25937, 72963, 73292, 66308, 64439, 39078,\n",
       "        41512,  5388, 58207, 67182, 58441,  2416, 34661, 55019, 27344,\n",
       "         3161, 14890, 33622, 65206, 66308, 34483, 13981, 52276, 48792,\n",
       "        39078, 13123, 61034, 15268, 40087, 66308,  8962,  2416,  2942,\n",
       "        22056, 60555, 66308, 71506, 37768, 46927, 47680, 53370, 47823,\n",
       "        12232, 36161, 57942, 49620, 58383, 20612, 42590, 62571,  8130,\n",
       "         9383, 51688, 66308, 61161, 46578, 29177, 37639, 17491, 54364,\n",
       "         9835],\n",
       "       [    0,     0,     0,     0,     0,     0,     0,     0,     0,\n",
       "            0,     0,     0,     0,     0,     0,     0,     0,     0,\n",
       "            0,     0,     0,     0,     0,     0,     0,     0,     0,\n",
       "            0,     0,     0,     0,     0,     0,     0,     0,     0,\n",
       "            0,     0,     0,     0,     0,     0,     0,     0,     0,\n",
       "            0,     0,     0,     0,     0, 36647, 46973, 72155, 60555,\n",
       "        37227, 53321, 64418, 13396, 51497, 19288, 11086, 35189,  6297,\n",
       "        31503, 16011, 20230, 45529, 67547, 30514, 13594,   912,  5584,\n",
       "        57417, 73292, 29165, 66308, 52334, 67182,  6622,  2416, 41512,\n",
       "        73513, 39078, 17859, 39078, 70926, 30514,  5050, 30353, 66308,\n",
       "        42385, 67182,  6581,  2416, 58207, 51530,  9953, 25937, 51360,\n",
       "        25464],\n",
       "       [    0,     0,     0,     0,     0,     0,     0,     0,     0,\n",
       "            0,     0,     0,     0,     0,     0,     0,     0,     0,\n",
       "            0,     0,     0,     0,     0,     0,     0,     0,     0,\n",
       "            0,     0,     0,     0,     0,     0,     0,     0,     0,\n",
       "            0,     0,     0,     0,     0,     0,     0,     0,     0,\n",
       "            0,     0,     0,     0,     0,     0,     0,     0,     0,\n",
       "        53139, 13384, 65269,  3698, 35189,  5345, 17484, 57929, 29852,\n",
       "        54192, 67182, 35620, 48907, 44054, 67182, 66308, 22571, 25464,\n",
       "        66308, 34818, 62191, 53139, 63552,  6134, 73292, 73706, 25464,\n",
       "         6252, 28974, 59772, 63797, 66308, 48915, 37639, 33622, 34818,\n",
       "          641, 26592, 66308, 34909, 67547, 36818, 70994, 39078, 25937,\n",
       "        66662],\n",
       "       [    0,     0,     0,     0,     0,     0,     0,     0,     0,\n",
       "            0,     0,     0,     0,     0,     0,     0,     0,     0,\n",
       "            0,     0,     0,     0,     0,     0,     0,     0,     0,\n",
       "            0,     0,     0,     0,     0,     0,     0,     0,     0,\n",
       "            0,     0,     0,     0,     0,     0,     0,     0,     0,\n",
       "            0,     0,     0,     0,     0,     0,     0,     0,     0,\n",
       "            0,     0,     0,     0,     0,     0,     0,     0,     0,\n",
       "            0,     0,     0,     0,     0,     0,     0,     0,     0,\n",
       "            0,     0,     0,     0, 53139,  2416, 46682, 66308, 71614,\n",
       "        10570, 13384, 11974, 66308, 41771, 39840, 37712, 26988, 11408,\n",
       "        24808, 52992, 50250,  6843, 41512, 53810, 29494, 25464, 45318,\n",
       "        64968],\n",
       "       [    0,     0,     0,     0,     0,     0,     0,     0,     0,\n",
       "            0,     0,     0,     0,     0,     0,     0,     0,     0,\n",
       "            0,     0,     0,     0,     0,     0,     0,     0,     0,\n",
       "            0,     0,     0,     0,     0,     0,     0,     0,     0,\n",
       "            0,     0,     0,     0,     0,     0,     0,     0,     0,\n",
       "            0,     0,  6138, 73595, 35189, 19301, 53139,  2416, 39597,\n",
       "        73292, 44374,  4566, 40870, 13384, 61034, 25453,  9835, 56174,\n",
       "         6297, 30123, 29177,  7535, 35620, 66308, 12608, 71947, 29970,\n",
       "        52305,  6431, 68013,  5072, 29177, 20230, 50250, 43961, 55936,\n",
       "        66308, 47271, 39525, 20230,  4516, 37790, 31400, 15848, 53139,\n",
       "        32601,  2416, 23599, 60805, 73292, 43961, 66308, 52201, 25464,\n",
       "        41512],\n",
       "       [    0,     0,     0,     0,     0,     0,     0,     0,     0,\n",
       "            0,     0,     0,     0,     0,     0,     0,     0,     0,\n",
       "            0,     0,     0,     0,     0,     0,     0,     0,     0,\n",
       "            0,     0,     0,     0,     0,     0,     0,     0,     0,\n",
       "            0,     0,     0,     0,     0,     0,     0,     0,     0,\n",
       "            0,     0,     0,     0,     0,     0,     0,     0,     0,\n",
       "            0,     0,     0,     0,     0,     0,     0,     0,     0,\n",
       "            0,     0,     0,     0,     0,     0,     0,     0,     0,\n",
       "            0,     0,     0,     0,     0,     0,     0, 53139,  2416,\n",
       "        50250, 66308, 65703, 11203, 41771, 13384, 24808, 31400, 67711,\n",
       "        70574, 32358, 10512, 71614, 25464, 47823,  7973, 20230, 49151,\n",
       "        28631],\n",
       "       [28974, 35189, 31400,  2219, 29852, 17149,  5420, 37882, 44318,\n",
       "        73292, 66308, 54010, 73292, 44207, 48340, 24808, 31400, 25311,\n",
       "        25464,  7796,  7973, 35189, 64081, 37639, 29852, 17149, 61034,\n",
       "        53139, 31400, 66308, 59327, 25311, 28845, 40677, 29177, 25464,\n",
       "        48249, 58465, 35189, 28631, 68458, 16011, 48340, 23601, 42545,\n",
       "        50886, 20230, 35189, 52305,  6297, 56874, 29177, 66308, 56514,\n",
       "        25464, 29852, 12103, 39633, 24808, 71242, 41512,  1254, 48165,\n",
       "        20230, 27011, 51659, 62720, 25464, 57942, 68135, 20230, 44359,\n",
       "         1952, 56307, 19368,  2416, 25311, 25464, 29852, 32563, 52627,\n",
       "        61034, 48340,  2416, 60555, 70695, 66308, 47886, 62720, 25464,\n",
       "        59105, 25464, 47823, 51511, 30514, 66308, 49083, 40054, 25464,\n",
       "        23037]])"
      ]
     },
     "execution_count": 15,
     "metadata": {},
     "output_type": "execute_result"
    }
   ],
   "source": [
    "features[:10,:100]"
   ]
  },
  {
   "cell_type": "markdown",
   "metadata": {
    "deletable": true,
    "editable": true
   },
   "source": [
    "## Training, Validation, Test\n",
    "\n"
   ]
  },
  {
   "cell_type": "markdown",
   "metadata": {
    "deletable": true,
    "editable": true
   },
   "source": [
    "With our data in nice shape, we'll split it into training, validation, and test sets.\n",
    "\n",
    "> **Exercise:** Create the training, validation, and test sets here. You'll need to create sets for the features and the labels, `train_x` and `train_y` for example. Define a split fraction, `split_frac` as the fraction of data to keep in the training set. Usually this is set to 0.8 or 0.9. The rest of the data will be split in half to create the validation and testing data."
   ]
  },
  {
   "cell_type": "code",
   "execution_count": 16,
   "metadata": {
    "collapsed": false
   },
   "outputs": [
    {
     "name": "stdout",
     "output_type": "stream",
     "text": [
      "[ 3306 15244 15419 22988 10393 10271  7305  4088 12143 13193  1621  1482\n",
      " 14435   466 12625  2868 19694 10688 19036  5037]\n"
     ]
    }
   ],
   "source": [
    "shuffled_indices = np.random.permutation(range(len(reviews_ints)))\n",
    "print(shuffled_indices[0:20])"
   ]
  },
  {
   "cell_type": "code",
   "execution_count": 17,
   "metadata": {
    "collapsed": false,
    "deletable": true,
    "editable": true
   },
   "outputs": [
    {
     "name": "stdout",
     "output_type": "stream",
     "text": [
      "\t\t\tFeature Shapes:\n",
      "Train set: \t\t(20000, 200) \n",
      "Validation set: \t(2500, 200) \n",
      "Test set: \t\t(2500, 200)\n"
     ]
    }
   ],
   "source": [
    "split_frac = 0.8\n",
    "\n",
    "labels = np.array(labels)\n",
    "\n",
    "max_training_index = int(split_frac * len(features))\n",
    "shuffled_indices = np.random.permutation(range(len(features)))\n",
    "\n",
    "\n",
    "train_x, val_x = features[shuffled_indices[:max_training_index], :], features[shuffled_indices[max_training_index:], :]\n",
    "train_y, val_y = labels[shuffled_indices[:max_training_index]], labels[shuffled_indices[max_training_index:]]\n",
    "\n",
    "half_index = len(val_x) // 2\n",
    "\n",
    "val_x, test_x = val_x[:half_index, :], val_x[half_index:, :]\n",
    "val_y, test_y = val_y[:half_index], val_y[half_index:]\n",
    "\n",
    "print(\"\\t\\t\\tFeature Shapes:\")\n",
    "print(\"Train set: \\t\\t{}\".format(train_x.shape), \n",
    "      \"\\nValidation set: \\t{}\".format(val_x.shape),\n",
    "      \"\\nTest set: \\t\\t{}\".format(test_x.shape))"
   ]
  },
  {
   "cell_type": "markdown",
   "metadata": {
    "deletable": true,
    "editable": true
   },
   "source": [
    "With train, validation, and text fractions of 0.8, 0.1, 0.1, the final shapes should look like:\n",
    "```\n",
    "                    Feature Shapes:\n",
    "Train set: \t\t (20000, 200) \n",
    "Validation set: \t(2500, 200) \n",
    "Test set: \t\t  (2501, 200)\n",
    "```"
   ]
  },
  {
   "cell_type": "markdown",
   "metadata": {
    "deletable": true,
    "editable": true
   },
   "source": [
    "## Build the graph\n",
    "\n",
    "Here, we'll build the graph. First up, defining the hyperparameters.\n",
    "\n",
    "* `lstm_size`: Number of units in the hidden layers in the LSTM cells. Usually larger is better performance wise. Common values are 128, 256, 512, etc.\n",
    "* `lstm_layers`: Number of LSTM layers in the network. I'd start with 1, then add more if I'm underfitting.\n",
    "* `batch_size`: The number of reviews to feed the network in one training pass. Typically this should be set as high as you can go without running out of memory.\n",
    "* `learning_rate`: Learning rate"
   ]
  },
  {
   "cell_type": "code",
   "execution_count": 18,
   "metadata": {
    "collapsed": true,
    "deletable": true,
    "editable": true
   },
   "outputs": [],
   "source": [
    "lstm_size = 512\n",
    "lstm_layers = 3\n",
    "batch_size = 512\n",
    "learning_rate = 0.001"
   ]
  },
  {
   "cell_type": "markdown",
   "metadata": {
    "deletable": true,
    "editable": true
   },
   "source": [
    "For the network itself, we'll be passing in our 200 element long review vectors. Each batch will be `batch_size` vectors. We'll also be using dropout on the LSTM layer, so we'll make a placeholder for the keep probability."
   ]
  },
  {
   "cell_type": "markdown",
   "metadata": {
    "deletable": true,
    "editable": true
   },
   "source": [
    "> **Exercise:** Create the `inputs_`, `labels_`, and drop out `keep_prob` placeholders using `tf.placeholder`. `labels_` needs to be two-dimensional to work with some functions later.  Since `keep_prob` is a scalar (a 0-dimensional tensor), you shouldn't provide a size to `tf.placeholder`."
   ]
  },
  {
   "cell_type": "code",
   "execution_count": 19,
   "metadata": {
    "collapsed": false,
    "deletable": true,
    "editable": true
   },
   "outputs": [],
   "source": [
    "n_words = len(vocab)\n",
    "\n",
    "# Create the graph object\n",
    "graph = tf.Graph()\n",
    "# Add nodes to the graph\n",
    "with graph.as_default():\n",
    "    inputs_ = tf.placeholder(tf.int32, shape=(None, seq_len))\n",
    "    labels_ = tf.placeholder(tf.int32, shape=(None, None))\n",
    "    keep_prob = tf.placeholder(tf.float32)"
   ]
  },
  {
   "cell_type": "markdown",
   "metadata": {
    "deletable": true,
    "editable": true
   },
   "source": [
    "### Embedding\n",
    "\n",
    "Now we'll add an embedding layer. We need to do this because there are 74000 words in our vocabulary. It is massively inefficient to one-hot encode our classes here. You should remember dealing with this problem from the word2vec lesson. Instead of one-hot encoding, we can have an embedding layer and use that layer as a lookup table. You could train an embedding layer using word2vec, then load it here. But, it's fine to just make a new layer and let the network learn the weights.\n",
    "\n",
    "> **Exercise:** Create the embedding lookup matrix as a `tf.Variable`. Use that embedding matrix to get the embedded vectors to pass to the LSTM cell with [`tf.nn.embedding_lookup`](https://www.tensorflow.org/api_docs/python/tf/nn/embedding_lookup). This function takes the embedding matrix and an input tensor, such as the review vectors. Then, it'll return another tensor with the embedded vectors. So, if the embedding layer has 200 units, the function will return a tensor with size [batch_size, 200].\n",
    "\n"
   ]
  },
  {
   "cell_type": "code",
   "execution_count": 20,
   "metadata": {
    "collapsed": false,
    "deletable": true,
    "editable": true
   },
   "outputs": [],
   "source": [
    "# Size of the embedding vectors (number of units in the embedding layer)\n",
    "embed_size = 300 \n",
    "\n",
    "with graph.as_default():\n",
    "    embedding = tf.Variable(tf.truncated_normal([n_words, embed_size], -1.0, 1.0))\n",
    "    embed = tf.nn.embedding_lookup(embedding, inputs_)"
   ]
  },
  {
   "cell_type": "markdown",
   "metadata": {
    "deletable": true,
    "editable": true
   },
   "source": [
    "### LSTM cell\n",
    "\n",
    "<img src=\"assets/network_diagram.png\" width=400px>\n",
    "\n",
    "Next, we'll create our LSTM cells to use in the recurrent network ([TensorFlow documentation](https://www.tensorflow.org/api_docs/python/tf/contrib/rnn)). Here we are just defining what the cells look like. This isn't actually building the graph, just defining the type of cells we want in our graph.\n",
    "\n",
    "To create a basic LSTM cell for the graph, you'll want to use `tf.contrib.rnn.BasicLSTMCell`. Looking at the function documentation:\n",
    "\n",
    "```\n",
    "tf.contrib.rnn.BasicLSTMCell(num_units, forget_bias=1.0, input_size=None, state_is_tuple=True, activation=<function tanh at 0x109f1ef28>)\n",
    "```\n",
    "\n",
    "you can see it takes a parameter called `num_units`, the number of units in the cell, called `lstm_size` in this code. So then, you can write something like \n",
    "\n",
    "```\n",
    "lstm = tf.contrib.rnn.BasicLSTMCell(num_units)\n",
    "```\n",
    "\n",
    "to create an LSTM cell with `num_units`. Next, you can add dropout to the cell with `tf.contrib.rnn.DropoutWrapper`. This just wraps the cell in another cell, but with dropout added to the inputs and/or outputs. It's a really convenient way to make your network better with almost no effort! So you'd do something like\n",
    "\n",
    "```\n",
    "drop = tf.contrib.rnn.DropoutWrapper(cell, output_keep_prob=keep_prob)\n",
    "```\n",
    "\n",
    "Most of the time, you're network will have better performance with more layers. That's sort of the magic of deep learning, adding more layers allows the network to learn really complex relationships. Again, there is a simple way to create multiple layers of LSTM cells with `tf.contrib.rnn.MultiRNNCell`:\n",
    "\n",
    "```\n",
    "cell = tf.contrib.rnn.MultiRNNCell([drop] * lstm_layers)\n",
    "```\n",
    "\n",
    "Here, `[drop] * lstm_layers` creates a list of cells (`drop`) that is `lstm_layers` long. The `MultiRNNCell` wrapper builds this into multiple layers of RNN cells, one for each cell in the list.\n",
    "\n",
    "So the final cell you're using in the network is actually multiple (or just one) LSTM cells with dropout. But it all works the same from an achitectural viewpoint, just a more complicated graph in the cell.\n",
    "\n",
    "> **Exercise:** Below, use `tf.contrib.rnn.BasicLSTMCell` to create an LSTM cell. Then, add drop out to it with `tf.contrib.rnn.DropoutWrapper`. Finally, create multiple LSTM layers with `tf.contrib.rnn.MultiRNNCell`.\n",
    "\n",
    "Here is [a tutorial on building RNNs](https://www.tensorflow.org/tutorials/recurrent) that will help you out.\n"
   ]
  },
  {
   "cell_type": "code",
   "execution_count": 21,
   "metadata": {
    "collapsed": false,
    "deletable": true,
    "editable": true
   },
   "outputs": [],
   "source": [
    "with graph.as_default():\n",
    "    # Your basic LSTM cell\n",
    "    lstm = tf.contrib.rnn.BasicLSTMCell(lstm_size)\n",
    "    \n",
    "    # Add dropout to the cell\n",
    "    drop = tf.contrib.rnn.DropoutWrapper(lstm, output_keep_prob=keep_prob)\n",
    "    \n",
    "    # Stack up multiple LSTM layers, for deep learning\n",
    "    cell = tf.contrib.rnn.MultiRNNCell([drop] * lstm_layers)\n",
    "    \n",
    "    # Getting an initial state of all zeros\n",
    "    initial_state = cell.zero_state(batch_size, tf.float32)"
   ]
  },
  {
   "cell_type": "markdown",
   "metadata": {
    "deletable": true,
    "editable": true
   },
   "source": [
    "### RNN forward pass\n",
    "\n",
    "<img src=\"assets/network_diagram.png\" width=400px>\n",
    "\n",
    "Now we need to actually run the data through the RNN nodes. You can use [`tf.nn.dynamic_rnn`](https://www.tensorflow.org/api_docs/python/tf/nn/dynamic_rnn) to do this. You'd pass in the RNN cell you created (our multiple layered LSTM `cell` for instance), and the inputs to the network.\n",
    "\n",
    "```\n",
    "outputs, final_state = tf.nn.dynamic_rnn(cell, inputs, initial_state=initial_state)\n",
    "```\n",
    "\n",
    "Above I created an initial state, `initial_state`, to pass to the RNN. This is the cell state that is passed between the hidden layers in successive time steps. `tf.nn.dynamic_rnn` takes care of most of the work for us. We pass in our cell and the input to the cell, then it does the unrolling and everything else for us. It returns outputs for each time step and the final_state of the hidden layer.\n",
    "\n",
    "> **Exercise:** Use `tf.nn.dynamic_rnn` to add the forward pass through the RNN. Remember that we're actually passing in vectors from the embedding layer, `embed`.\n",
    "\n"
   ]
  },
  {
   "cell_type": "code",
   "execution_count": 22,
   "metadata": {
    "collapsed": false,
    "deletable": true,
    "editable": true
   },
   "outputs": [],
   "source": [
    "with graph.as_default():\n",
    "    outputs, final_state = tf.nn.dynamic_rnn(cell, embed, initial_state=initial_state)"
   ]
  },
  {
   "cell_type": "markdown",
   "metadata": {
    "deletable": true,
    "editable": true
   },
   "source": [
    "### Output\n",
    "\n",
    "We only care about the final output, we'll be using that as our sentiment prediction. So we need to grab the last output with `outputs[:, -1]`, the calculate the cost from that and `labels_`."
   ]
  },
  {
   "cell_type": "code",
   "execution_count": 23,
   "metadata": {
    "collapsed": false,
    "deletable": true,
    "editable": true
   },
   "outputs": [],
   "source": [
    "with graph.as_default():\n",
    "    predictions = tf.contrib.layers.fully_connected(outputs[:, -1], 1, activation_fn=tf.sigmoid)\n",
    "    cost = tf.losses.mean_squared_error(labels_, predictions)\n",
    "    \n",
    "    optimizer = tf.train.AdamOptimizer(learning_rate).minimize(cost)"
   ]
  },
  {
   "cell_type": "markdown",
   "metadata": {
    "deletable": true,
    "editable": true
   },
   "source": [
    "### Validation accuracy\n",
    "\n",
    "Here we can add a few nodes to calculate the accuracy which we'll use in the validation pass."
   ]
  },
  {
   "cell_type": "code",
   "execution_count": 24,
   "metadata": {
    "collapsed": false,
    "deletable": true,
    "editable": true
   },
   "outputs": [],
   "source": [
    "with graph.as_default():\n",
    "    correct_pred = tf.equal(tf.cast(tf.round(predictions), tf.int32), labels_)\n",
    "    accuracy = tf.reduce_mean(tf.cast(correct_pred, tf.float32))"
   ]
  },
  {
   "cell_type": "markdown",
   "metadata": {
    "deletable": true,
    "editable": true
   },
   "source": [
    "### Batching\n",
    "\n",
    "This is a simple function for returning batches from our data. First it removes data such that we only have full batches. Then it iterates through the `x` and `y` arrays and returns slices out of those arrays with size `[batch_size]`."
   ]
  },
  {
   "cell_type": "code",
   "execution_count": 25,
   "metadata": {
    "collapsed": true,
    "deletable": true,
    "editable": true
   },
   "outputs": [],
   "source": [
    "def get_batches(x, y, batch_size=100):\n",
    "    \n",
    "    n_batches = len(x)//batch_size\n",
    "    x, y = x[:n_batches*batch_size], y[:n_batches*batch_size]\n",
    "    for ii in range(0, len(x), batch_size):\n",
    "        yield x[ii:ii+batch_size], y[ii:ii+batch_size]"
   ]
  },
  {
   "cell_type": "markdown",
   "metadata": {
    "deletable": true,
    "editable": true
   },
   "source": [
    "## Training\n",
    "\n",
    "Below is the typical training code. If you want to do this yourself, feel free to delete all this code and implement it yourself. Before you run this, make sure the `checkpoints` directory exists."
   ]
  },
  {
   "cell_type": "code",
   "execution_count": 28,
   "metadata": {
    "collapsed": false,
    "deletable": true,
    "editable": true
   },
   "outputs": [
    {
     "name": "stdout",
     "output_type": "stream",
     "text": [
      "Epoch: 0/20 Iteration: 5 Train loss: 0.275\n",
      "Epoch: 0/20 Iteration: 10 Train loss: 0.279\n",
      "Epoch: 0/20 Iteration: 15 Train loss: 0.246\n",
      "Epoch: 0/20 Iteration: 20 Train loss: 0.250\n",
      "Epoch: 0/20 Iteration: 25 Train loss: 0.246\n",
      "Val acc: 0.492\n",
      "Epoch: 0/20 Iteration: 30 Train loss: 0.251\n",
      "Epoch: 0/20 Iteration: 35 Train loss: 0.253\n",
      "Epoch: 1/20 Iteration: 40 Train loss: 0.251\n",
      "Epoch: 1/20 Iteration: 45 Train loss: 0.254\n",
      "Epoch: 1/20 Iteration: 50 Train loss: 0.253\n",
      "Val acc: 0.508\n",
      "Epoch: 1/20 Iteration: 55 Train loss: 0.251\n",
      "Epoch: 1/20 Iteration: 60 Train loss: 0.251\n",
      "Epoch: 1/20 Iteration: 65 Train loss: 0.255\n",
      "Epoch: 1/20 Iteration: 70 Train loss: 0.250\n",
      "Epoch: 1/20 Iteration: 75 Train loss: 0.251\n",
      "Val acc: 0.508\n",
      "Epoch: 2/20 Iteration: 80 Train loss: 0.251\n",
      "Epoch: 2/20 Iteration: 85 Train loss: 0.250\n",
      "Epoch: 2/20 Iteration: 90 Train loss: 0.251\n",
      "Epoch: 2/20 Iteration: 95 Train loss: 0.254\n",
      "Epoch: 2/20 Iteration: 100 Train loss: 0.253\n",
      "Val acc: 0.508\n",
      "Epoch: 2/20 Iteration: 105 Train loss: 0.247\n",
      "Epoch: 2/20 Iteration: 110 Train loss: 0.250\n",
      "Epoch: 2/20 Iteration: 115 Train loss: 0.250\n",
      "Epoch: 3/20 Iteration: 120 Train loss: 0.251\n",
      "Epoch: 3/20 Iteration: 125 Train loss: 0.249\n",
      "Val acc: 0.492\n",
      "Epoch: 3/20 Iteration: 130 Train loss: 0.250\n",
      "Epoch: 3/20 Iteration: 135 Train loss: 0.247\n",
      "Epoch: 3/20 Iteration: 140 Train loss: 0.252\n",
      "Epoch: 3/20 Iteration: 145 Train loss: 0.250\n",
      "Epoch: 3/20 Iteration: 150 Train loss: 0.251\n",
      "Val acc: 0.492\n",
      "Epoch: 3/20 Iteration: 155 Train loss: 0.249\n",
      "Epoch: 4/20 Iteration: 160 Train loss: 0.251\n",
      "Epoch: 4/20 Iteration: 165 Train loss: 0.250\n",
      "Epoch: 4/20 Iteration: 170 Train loss: 0.251\n",
      "Epoch: 4/20 Iteration: 175 Train loss: 0.251\n",
      "Val acc: 0.508\n",
      "Epoch: 4/20 Iteration: 180 Train loss: 0.252\n",
      "Epoch: 4/20 Iteration: 185 Train loss: 0.250\n",
      "Epoch: 4/20 Iteration: 190 Train loss: 0.253\n",
      "Epoch: 4/20 Iteration: 195 Train loss: 0.253\n",
      "Epoch: 5/20 Iteration: 200 Train loss: 0.250\n",
      "Val acc: 0.508\n",
      "Epoch: 5/20 Iteration: 205 Train loss: 0.251\n",
      "Epoch: 5/20 Iteration: 210 Train loss: 0.251\n",
      "Epoch: 5/20 Iteration: 215 Train loss: 0.250\n",
      "Epoch: 5/20 Iteration: 220 Train loss: 0.252\n",
      "Epoch: 5/20 Iteration: 225 Train loss: 0.253\n",
      "Val acc: 0.492\n",
      "Epoch: 5/20 Iteration: 230 Train loss: 0.251\n",
      "Epoch: 6/20 Iteration: 235 Train loss: 0.249\n",
      "Epoch: 6/20 Iteration: 240 Train loss: 0.249\n",
      "Epoch: 6/20 Iteration: 245 Train loss: 0.251\n",
      "Epoch: 6/20 Iteration: 250 Train loss: 0.252\n",
      "Val acc: 0.508\n",
      "Epoch: 6/20 Iteration: 255 Train loss: 0.252\n",
      "Epoch: 6/20 Iteration: 260 Train loss: 0.251\n",
      "Epoch: 6/20 Iteration: 265 Train loss: 0.251\n",
      "Epoch: 6/20 Iteration: 270 Train loss: 0.251\n",
      "Epoch: 7/20 Iteration: 275 Train loss: 0.250\n",
      "Val acc: 0.508\n",
      "Epoch: 7/20 Iteration: 280 Train loss: 0.249\n",
      "Epoch: 7/20 Iteration: 285 Train loss: 0.250\n",
      "Epoch: 7/20 Iteration: 290 Train loss: 0.251\n",
      "Epoch: 7/20 Iteration: 295 Train loss: 0.253\n",
      "Epoch: 7/20 Iteration: 300 Train loss: 0.250\n",
      "Val acc: 0.492\n",
      "Epoch: 7/20 Iteration: 305 Train loss: 0.249\n",
      "Epoch: 7/20 Iteration: 310 Train loss: 0.252\n",
      "Epoch: 8/20 Iteration: 315 Train loss: 0.250\n",
      "Epoch: 8/20 Iteration: 320 Train loss: 0.251\n",
      "Epoch: 8/20 Iteration: 325 Train loss: 0.249\n",
      "Val acc: 0.508\n",
      "Epoch: 8/20 Iteration: 330 Train loss: 0.248\n",
      "Epoch: 8/20 Iteration: 335 Train loss: 0.251\n",
      "Epoch: 8/20 Iteration: 340 Train loss: 0.250\n",
      "Epoch: 8/20 Iteration: 345 Train loss: 0.251\n",
      "Epoch: 8/20 Iteration: 350 Train loss: 0.251\n",
      "Val acc: 0.508\n",
      "Epoch: 9/20 Iteration: 355 Train loss: 0.251\n",
      "Epoch: 9/20 Iteration: 360 Train loss: 0.250\n",
      "Epoch: 9/20 Iteration: 365 Train loss: 0.250\n",
      "Epoch: 9/20 Iteration: 370 Train loss: 0.250\n",
      "Epoch: 9/20 Iteration: 375 Train loss: 0.249\n",
      "Val acc: 0.493\n",
      "Epoch: 9/20 Iteration: 380 Train loss: 0.250\n",
      "Epoch: 9/20 Iteration: 385 Train loss: 0.250\n",
      "Epoch: 9/20 Iteration: 390 Train loss: 0.250\n",
      "Epoch: 10/20 Iteration: 395 Train loss: 0.249\n",
      "Epoch: 10/20 Iteration: 400 Train loss: 0.244\n",
      "Val acc: 0.561\n",
      "Epoch: 10/20 Iteration: 405 Train loss: 0.240\n",
      "Epoch: 10/20 Iteration: 410 Train loss: 0.242\n",
      "Epoch: 10/20 Iteration: 415 Train loss: 0.239\n",
      "Epoch: 10/20 Iteration: 420 Train loss: 0.240\n",
      "Epoch: 10/20 Iteration: 425 Train loss: 0.237\n",
      "Val acc: 0.561\n",
      "Epoch: 11/20 Iteration: 430 Train loss: 0.232\n",
      "Epoch: 11/20 Iteration: 435 Train loss: 0.225\n",
      "Epoch: 11/20 Iteration: 440 Train loss: 0.241\n",
      "Epoch: 11/20 Iteration: 445 Train loss: 0.216\n",
      "Epoch: 11/20 Iteration: 450 Train loss: 0.240\n",
      "Val acc: 0.568\n",
      "Epoch: 11/20 Iteration: 455 Train loss: 0.232\n",
      "Epoch: 11/20 Iteration: 460 Train loss: 0.234\n",
      "Epoch: 11/20 Iteration: 465 Train loss: 0.215\n",
      "Epoch: 12/20 Iteration: 470 Train loss: 0.204\n",
      "Epoch: 12/20 Iteration: 475 Train loss: 0.194\n",
      "Val acc: 0.630\n",
      "Epoch: 12/20 Iteration: 480 Train loss: 0.213\n",
      "Epoch: 12/20 Iteration: 485 Train loss: 0.196\n",
      "Epoch: 12/20 Iteration: 490 Train loss: 0.202\n",
      "Epoch: 12/20 Iteration: 495 Train loss: 0.220\n",
      "Epoch: 12/20 Iteration: 500 Train loss: 0.175\n",
      "Val acc: 0.656\n",
      "Epoch: 12/20 Iteration: 505 Train loss: 0.214\n",
      "Epoch: 13/20 Iteration: 510 Train loss: 0.172\n",
      "Epoch: 13/20 Iteration: 515 Train loss: 0.195\n",
      "Epoch: 13/20 Iteration: 520 Train loss: 0.172\n",
      "Epoch: 13/20 Iteration: 525 Train loss: 0.208\n",
      "Val acc: 0.656\n",
      "Epoch: 13/20 Iteration: 530 Train loss: 0.192\n",
      "Epoch: 13/20 Iteration: 535 Train loss: 0.168\n",
      "Epoch: 13/20 Iteration: 540 Train loss: 0.157\n",
      "Epoch: 13/20 Iteration: 545 Train loss: 0.132\n",
      "Epoch: 14/20 Iteration: 550 Train loss: 0.154\n",
      "Val acc: 0.733\n",
      "Epoch: 14/20 Iteration: 555 Train loss: 0.161\n",
      "Epoch: 14/20 Iteration: 560 Train loss: 0.147\n",
      "Epoch: 14/20 Iteration: 565 Train loss: 0.152\n",
      "Epoch: 14/20 Iteration: 570 Train loss: 0.151\n",
      "Epoch: 14/20 Iteration: 575 Train loss: 0.158\n",
      "Val acc: 0.774\n",
      "Epoch: 14/20 Iteration: 580 Train loss: 0.141\n",
      "Epoch: 14/20 Iteration: 585 Train loss: 0.152\n",
      "Epoch: 15/20 Iteration: 590 Train loss: 0.140\n",
      "Epoch: 15/20 Iteration: 595 Train loss: 0.123\n",
      "Epoch: 15/20 Iteration: 600 Train loss: 0.115\n",
      "Val acc: 0.798\n",
      "Epoch: 15/20 Iteration: 605 Train loss: 0.118\n",
      "Epoch: 15/20 Iteration: 610 Train loss: 0.126\n",
      "Epoch: 15/20 Iteration: 615 Train loss: 0.100\n",
      "Epoch: 15/20 Iteration: 620 Train loss: 0.112\n",
      "Epoch: 16/20 Iteration: 625 Train loss: 0.115\n",
      "Val acc: 0.811\n",
      "Epoch: 16/20 Iteration: 630 Train loss: 0.099\n",
      "Epoch: 16/20 Iteration: 635 Train loss: 0.094\n",
      "Epoch: 16/20 Iteration: 640 Train loss: 0.094\n",
      "Epoch: 16/20 Iteration: 645 Train loss: 0.092\n",
      "Epoch: 16/20 Iteration: 650 Train loss: 0.119\n",
      "Val acc: 0.799\n",
      "Epoch: 16/20 Iteration: 655 Train loss: 0.103\n",
      "Epoch: 16/20 Iteration: 660 Train loss: 0.087\n",
      "Epoch: 17/20 Iteration: 665 Train loss: 0.095\n",
      "Epoch: 17/20 Iteration: 670 Train loss: 0.061\n",
      "Epoch: 17/20 Iteration: 675 Train loss: 0.081\n",
      "Val acc: 0.830\n",
      "Epoch: 17/20 Iteration: 680 Train loss: 0.097\n",
      "Epoch: 17/20 Iteration: 685 Train loss: 0.071\n",
      "Epoch: 17/20 Iteration: 690 Train loss: 0.132\n",
      "Epoch: 17/20 Iteration: 695 Train loss: 0.122\n",
      "Epoch: 17/20 Iteration: 700 Train loss: 0.121\n",
      "Val acc: 0.735\n",
      "Epoch: 18/20 Iteration: 705 Train loss: 0.072\n",
      "Epoch: 18/20 Iteration: 710 Train loss: 0.070\n",
      "Epoch: 18/20 Iteration: 715 Train loss: 0.062\n",
      "Epoch: 18/20 Iteration: 720 Train loss: 0.079\n",
      "Epoch: 18/20 Iteration: 725 Train loss: 0.078\n",
      "Val acc: 0.800\n",
      "Epoch: 18/20 Iteration: 730 Train loss: 0.073\n",
      "Epoch: 18/20 Iteration: 735 Train loss: 0.075\n",
      "Epoch: 18/20 Iteration: 740 Train loss: 0.064\n",
      "Epoch: 19/20 Iteration: 745 Train loss: 0.086\n",
      "Epoch: 19/20 Iteration: 750 Train loss: 0.088\n",
      "Val acc: 0.789\n",
      "Epoch: 19/20 Iteration: 755 Train loss: 0.076\n",
      "Epoch: 19/20 Iteration: 760 Train loss: 0.062\n",
      "Epoch: 19/20 Iteration: 765 Train loss: 0.070\n",
      "Epoch: 19/20 Iteration: 770 Train loss: 0.082\n",
      "Epoch: 19/20 Iteration: 775 Train loss: 0.081\n",
      "Val acc: 0.812\n",
      "Epoch: 19/20 Iteration: 780 Train loss: 0.101\n"
     ]
    }
   ],
   "source": [
    "epochs = 20\n",
    "\n",
    "with graph.as_default():\n",
    "    saver = tf.train.Saver()\n",
    "\n",
    "with tf.Session(graph=graph) as sess:\n",
    "    sess.run(tf.global_variables_initializer())\n",
    "    iteration = 1\n",
    "    for e in range(epochs):\n",
    "        state = sess.run(initial_state)\n",
    "        \n",
    "        for ii, (x, y) in enumerate(get_batches(train_x, train_y, batch_size), 1):\n",
    "            feed = {inputs_: x,\n",
    "                    labels_: y[:, None],\n",
    "                    keep_prob: 0.5,\n",
    "                    initial_state: state}\n",
    "            loss, state, _ = sess.run([cost, final_state, optimizer], feed_dict=feed)\n",
    "            \n",
    "            if iteration%5==0:\n",
    "                print(\"Epoch: {}/{}\".format(e, epochs),\n",
    "                      \"Iteration: {}\".format(iteration),\n",
    "                      \"Train loss: {:.3f}\".format(loss))\n",
    "\n",
    "            if iteration%25==0:\n",
    "                val_acc = []\n",
    "                val_state = sess.run(cell.zero_state(batch_size, tf.float32))\n",
    "                for x, y in get_batches(val_x, val_y, batch_size):\n",
    "                    feed = {inputs_: x,\n",
    "                            labels_: y[:, None],\n",
    "                            keep_prob: 1,\n",
    "                            initial_state: val_state}\n",
    "                    batch_acc, val_state = sess.run([accuracy, final_state], feed_dict=feed)\n",
    "                    val_acc.append(batch_acc)\n",
    "                print(\"Val acc: {:.3f}\".format(np.mean(val_acc)))\n",
    "            iteration +=1\n",
    "    saver.save(sess, \"checkpoints/sentiment.ckpt\")"
   ]
  },
  {
   "cell_type": "markdown",
   "metadata": {
    "deletable": true,
    "editable": true
   },
   "source": [
    "## Testing"
   ]
  },
  {
   "cell_type": "code",
   "execution_count": 30,
   "metadata": {
    "collapsed": false,
    "deletable": true,
    "editable": true
   },
   "outputs": [
    {
     "name": "stdout",
     "output_type": "stream",
     "text": [
      "Test accuracy: 0.782\n"
     ]
    }
   ],
   "source": [
    "test_acc = []\n",
    "with tf.Session(graph=graph) as sess:\n",
    "    saver.restore(sess, tf.train.latest_checkpoint('checkpoints'))\n",
    "    test_state = sess.run(cell.zero_state(batch_size, tf.float32))\n",
    "    for ii, (x, y) in enumerate(get_batches(test_x, test_y, batch_size), 1):\n",
    "        feed = {inputs_: x,\n",
    "                labels_: y[:, None],\n",
    "                keep_prob: 1,\n",
    "                initial_state: test_state}\n",
    "        batch_acc, test_state = sess.run([accuracy, final_state], feed_dict=feed)\n",
    "        test_acc.append(batch_acc)\n",
    "    print(\"Test accuracy: {:.3f}\".format(np.mean(test_acc)))"
   ]
  },
  {
   "cell_type": "code",
   "execution_count": null,
   "metadata": {
    "collapsed": true
   },
   "outputs": [],
   "source": []
  }
 ],
 "metadata": {
  "kernelspec": {
   "display_name": "Python 3",
   "language": "python",
   "name": "python3"
  },
  "language_info": {
   "codemirror_mode": {
    "name": "ipython",
    "version": 3
   },
   "file_extension": ".py",
   "mimetype": "text/x-python",
   "name": "python",
   "nbconvert_exporter": "python",
   "pygments_lexer": "ipython3",
   "version": "3.6.0"
  }
 },
 "nbformat": 4,
 "nbformat_minor": 2
}
