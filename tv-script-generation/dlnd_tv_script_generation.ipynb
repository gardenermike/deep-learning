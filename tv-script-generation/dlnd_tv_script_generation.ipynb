{
 "cells": [
  {
   "cell_type": "markdown",
   "metadata": {
    "deletable": true,
    "editable": true
   },
   "source": [
    "# TV Script Generation\n",
    "In this project, you'll generate your own [Simpsons](https://en.wikipedia.org/wiki/The_Simpsons) TV scripts using RNNs.  You'll be using part of the [Simpsons dataset](https://www.kaggle.com/wcukierski/the-simpsons-by-the-data) of scripts from 27 seasons.  The Neural Network you'll build will generate a new TV script for a scene at [Moe's Tavern](https://simpsonswiki.com/wiki/Moe's_Tavern).\n",
    "## Get the Data\n",
    "The data is already provided for you.  You'll be using a subset of the original dataset.  It consists of only the scenes in Moe's Tavern.  This doesn't include other versions of the tavern, like \"Moe's Cavern\", \"Flaming Moe's\", \"Uncle Moe's Family Feed-Bag\", etc.."
   ]
  },
  {
   "cell_type": "code",
   "execution_count": 1,
   "metadata": {
    "collapsed": false,
    "deletable": true,
    "editable": true
   },
   "outputs": [],
   "source": [
    "\"\"\"\n",
    "DON'T MODIFY ANYTHING IN THIS CELL\n",
    "\"\"\"\n",
    "import helper\n",
    "\n",
    "data_dir = './data/simpsons/moes_tavern_lines.txt'\n",
    "text = helper.load_data(data_dir)\n",
    "# Ignore notice, since we don't use it for analysing the data\n",
    "text = text[81:]"
   ]
  },
  {
   "cell_type": "markdown",
   "metadata": {
    "deletable": true,
    "editable": true
   },
   "source": [
    "## Explore the Data\n",
    "Play around with `view_sentence_range` to view different parts of the data."
   ]
  },
  {
   "cell_type": "code",
   "execution_count": 2,
   "metadata": {
    "collapsed": false,
    "deletable": true,
    "editable": true
   },
   "outputs": [
    {
     "name": "stdout",
     "output_type": "stream",
     "text": [
      "Dataset Stats\n",
      "Roughly the number of unique words: 11492\n",
      "Number of scenes: 262\n",
      "Average number of sentences in each scene: 15.248091603053435\n",
      "Number of lines: 4257\n",
      "Average number of words in each line: 11.50434578341555\n",
      "\n",
      "The sentences 1000 to 1050:\n",
      "Duffman: (PARTY VOICE) Are you ready to get Duffed?\n",
      "Lenny_Leonard: Hey, it's Duffman! The guy in a costume that creates awareness of Duff!\n",
      "Duffman: Duffman wants to party down with the man who sent in ten thousand Duff labels to bring me here today. I've got a bottomless mug of new \"Duff Extra Cold\" for... (READS CARD) BARNEY GUMBEL!\n",
      "Cheerleaders: (CHEERS AND:) Chug! Chug! Chug! Chug!\n",
      "Barney_Gumble: (STRAINING) I can't! I'm the designated driver!\n",
      "Duffman: (PERFUNCTORY, BRUSQUE) Ehhh... That's swell. Duff wholeheartedly supports the designated driver program... Now, who wants to party?!\n",
      "Moe_Szyslak: Face it, Homer, the car is gone. Barney ain't never comin' back.\n",
      "Barney_Gumble: (SHAKY) All I remember about the last two months is giving a guest lecture at Villanova. (BEAT) Or maybe it was a streetcorner.\n",
      "Homer_Simpson: (QUIET ANGER) So you lost my car, eh? Well, that's just grand. I ought to punch you in the nose, but I have to pick up my kids at school.\n",
      "\n",
      "\n",
      "Moe_Szyslak: (COVERING) Uh, that's a parasol.\n",
      "Homer_Simpson: Well, Moe, this is it. Today's the day I get my new air conditioner.\n",
      "Moe_Szyslak: Congratulations. Who's the little chick?\n",
      "Lisa_Simpson: I'm Lisa!\n",
      "Homer_Simpson: (TO MOE, PROUDLY) She has a gift.\n",
      "Lisa_Simpson: You have thirteen pickled eggs in this jar! (CUTE) And one cockroach!\n",
      "Moe_Szyslak: (DISPLEASED CHUCKLE) Who are you, sweetheart, the health inspector?\n",
      "Man_At_Bar: No, but I am.\n",
      "Moe_Szyslak: Uh... here, have a margarita.\n",
      "\n",
      "\n",
      "Homer_Simpson: But you can't leave! We're scammin' an old lady at my house and I need a place to hide out.\n",
      "Moe_Szyslak: Ah, sorry Homer, I've been planning this vacation for years. I'm finally gonna see Easter Island.\n",
      "Homer_Simpson: Oh, right. With the giant heads.\n",
      "Moe_Szyslak: With the what now?\n",
      "Lenny_Leonard: Hey, you seen Apu lately? He looks terrible.\n",
      "Carl_Carlson: Yeah, rumor has it Marge threw him out.\n",
      "Barney_Gumble: Aw, tough break. She's a beautiful lady.\n",
      "Moe_Szyslak: You got that straight, Barn.\n",
      "Barney_Gumble: (RAISING GLASSES) To Marge!\n",
      "Homer_Simpson: Moe, what do you recommend for severe depression?\n",
      "Moe_Szyslak: Booze, booze and more booze.\n",
      "Lenny_Leonard: Ha! Nothin' like a depressant to chase the blues away.\n",
      "Lenny_Leonard: Yeah, you got that... / Oh yeah. / Uh-huh.\n",
      "Apu_Nahasapeemapetilon: Oof, Manjula and I have not seen each other in twenty years. Two people cannot fall in love sight-unseen.\n",
      "Moe_Szyslak: Hey, hold on there! I'm countin' on that.\n",
      "Apu_Nahasapeemapetilon: Well, just twenty-four hours of freedom left...\n",
      "Homer_Simpson: (CHECKING WATCH, CHIPPER) Actually, it's more like twelve. No, I'm so stupid, seven. It's seven hours. You have seven hours. (SHOWING APU WATCH) See? Seven.\n",
      "Apu_Nahasapeemapetilon: (SAD MOAN, THEN SINGING DIRGE-LIKE) \"WELL, I'M HOT BLOODED / CHECK IT AND SEE / I'VE GOT A FEVER OF A HUNDRED AND THREE...\"\n",
      "Homer_Simpson: C'mon. You shouldn't be spending your last hours of bachelorhood in a dump like this.\n",
      "Homer_Simpson: You should be livin' like there's no tomorrow. And I know just the place.\n",
      "Homer_Simpson: Ahh. Is this the life, or what?\n",
      "Jasper_Beardly: (REACHING FOR A SWITCH) You want me to turn on the bubbles?\n",
      "\n",
      "\n",
      "Moe_Szyslak: Geez, this hot-rod is souped up six ways from Sunday. Never had you figured for a gear-head, Homer.\n",
      "Homer_Simpson: (CASUAL) Oh, yeah. I'm a real expert.\n",
      "Moe_Szyslak: What is that? A six-barrel Hollye carb?\n",
      "Homer_Simpson: You betcha.\n"
     ]
    }
   ],
   "source": [
    "view_sentence_range = (1000, 1050)\n",
    "\n",
    "\"\"\"\n",
    "DON'T MODIFY ANYTHING IN THIS CELL\n",
    "\"\"\"\n",
    "import numpy as np\n",
    "\n",
    "print('Dataset Stats')\n",
    "print('Roughly the number of unique words: {}'.format(len({word: None for word in text.split()})))\n",
    "scenes = text.split('\\n\\n')\n",
    "print('Number of scenes: {}'.format(len(scenes)))\n",
    "sentence_count_scene = [scene.count('\\n') for scene in scenes]\n",
    "print('Average number of sentences in each scene: {}'.format(np.average(sentence_count_scene)))\n",
    "\n",
    "sentences = [sentence for scene in scenes for sentence in scene.split('\\n')]\n",
    "print('Number of lines: {}'.format(len(sentences)))\n",
    "word_count_sentence = [len(sentence.split()) for sentence in sentences]\n",
    "print('Average number of words in each line: {}'.format(np.average(word_count_sentence)))\n",
    "\n",
    "print()\n",
    "print('The sentences {} to {}:'.format(*view_sentence_range))\n",
    "print('\\n'.join(text.split('\\n')[view_sentence_range[0]:view_sentence_range[1]]))"
   ]
  },
  {
   "cell_type": "markdown",
   "metadata": {
    "deletable": true,
    "editable": true
   },
   "source": [
    "## Implement Preprocessing Functions\n",
    "The first thing to do to any dataset is preprocessing.  Implement the following preprocessing functions below:\n",
    "- Lookup Table\n",
    "- Tokenize Punctuation\n",
    "\n",
    "### Lookup Table\n",
    "To create a word embedding, you first need to transform the words to ids.  In this function, create two dictionaries:\n",
    "- Dictionary to go from the words to an id, we'll call `vocab_to_int`\n",
    "- Dictionary to go from the id to word, we'll call `int_to_vocab`\n",
    "\n",
    "Return these dictionaries in the following tuple `(vocab_to_int, int_to_vocab)`"
   ]
  },
  {
   "cell_type": "code",
   "execution_count": 3,
   "metadata": {
    "collapsed": false,
    "deletable": true,
    "editable": true
   },
   "outputs": [
    {
     "name": "stdout",
     "output_type": "stream",
     "text": [
      "Tests Passed\n"
     ]
    }
   ],
   "source": [
    "import numpy as np\n",
    "import problem_unittests as tests\n",
    "\n",
    "def create_lookup_tables(text):\n",
    "    \"\"\"\n",
    "    Create lookup tables for vocabulary\n",
    "    :param text: The text of tv scripts split into words\n",
    "    :return: A tuple of dicts (vocab_to_int, int_to_vocab)\n",
    "    \"\"\"\n",
    "    # TODO: Implement Function\n",
    "    vocab_to_int = {word: i for i, word in enumerate(set(text))}\n",
    "    int_to_vocab = dict(enumerate(vocab_to_int))\n",
    "    return vocab_to_int, int_to_vocab\n",
    "\n",
    "\n",
    "\"\"\"\n",
    "DON'T MODIFY ANYTHING IN THIS CELL THAT IS BELOW THIS LINE\n",
    "\"\"\"\n",
    "tests.test_create_lookup_tables(create_lookup_tables)"
   ]
  },
  {
   "cell_type": "markdown",
   "metadata": {
    "deletable": true,
    "editable": true
   },
   "source": [
    "### Tokenize Punctuation\n",
    "We'll be splitting the script into a word array using spaces as delimiters.  However, punctuations like periods and exclamation marks make it hard for the neural network to distinguish between the word \"bye\" and \"bye!\".\n",
    "\n",
    "Implement the function `token_lookup` to return a dict that will be used to tokenize symbols like \"!\" into \"||Exclamation_Mark||\".  Create a dictionary for the following symbols where the symbol is the key and value is the token:\n",
    "- Period ( . )\n",
    "- Comma ( , )\n",
    "- Quotation Mark ( \" )\n",
    "- Semicolon ( ; )\n",
    "- Exclamation mark ( ! )\n",
    "- Question mark ( ? )\n",
    "- Left Parentheses ( ( )\n",
    "- Right Parentheses ( ) )\n",
    "- Dash ( -- )\n",
    "- Return ( \\n )\n",
    "\n",
    "This dictionary will be used to token the symbols and add the delimiter (space) around it.  This separates the symbols as it's own word, making it easier for the neural network to predict on the next word. Make sure you don't use a token that could be confused as a word. Instead of using the token \"dash\", try using something like \"||dash||\"."
   ]
  },
  {
   "cell_type": "code",
   "execution_count": 4,
   "metadata": {
    "collapsed": false,
    "deletable": true,
    "editable": true
   },
   "outputs": [
    {
     "name": "stdout",
     "output_type": "stream",
     "text": [
      "Tests Passed\n"
     ]
    }
   ],
   "source": [
    "def token_lookup():\n",
    "    \"\"\"\n",
    "    Generate a dict to turn punctuation into a token.\n",
    "    :return: Tokenize dictionary where the key is the punctuation and the value is the token\n",
    "    \"\"\"\n",
    "    # TODO: Implement Function\n",
    "    punctuation = {\n",
    "        '.': '||period||',\n",
    "        ',': '||comma||',\n",
    "        '\"': '||quotation_mark||',\n",
    "        ';': '||semicolon||',\n",
    "        '!': '||exclamation_point||',\n",
    "        '?': '||question_mark||',\n",
    "        '(': '||left_parenthesis||',\n",
    "        ')': '||right_parenthesis||',\n",
    "        '--': '||emdash||',\n",
    "        \"\\n\": '||line_break||'\n",
    "    }\n",
    "    return punctuation\n",
    "\n",
    "\"\"\"\n",
    "DON'T MODIFY ANYTHING IN THIS CELL THAT IS BELOW THIS LINE\n",
    "\"\"\"\n",
    "tests.test_tokenize(token_lookup)"
   ]
  },
  {
   "cell_type": "markdown",
   "metadata": {
    "deletable": true,
    "editable": true
   },
   "source": [
    "## Preprocess all the data and save it\n",
    "Running the code cell below will preprocess all the data and save it to file."
   ]
  },
  {
   "cell_type": "code",
   "execution_count": 5,
   "metadata": {
    "collapsed": false,
    "deletable": true,
    "editable": true
   },
   "outputs": [],
   "source": [
    "\"\"\"\n",
    "DON'T MODIFY ANYTHING IN THIS CELL\n",
    "\"\"\"\n",
    "# Preprocess Training, Validation, and Testing Data\n",
    "helper.preprocess_and_save_data(data_dir, token_lookup, create_lookup_tables)"
   ]
  },
  {
   "cell_type": "markdown",
   "metadata": {
    "deletable": true,
    "editable": true
   },
   "source": [
    "# Check Point\n",
    "This is your first checkpoint. If you ever decide to come back to this notebook or have to restart the notebook, you can start from here. The preprocessed data has been saved to disk."
   ]
  },
  {
   "cell_type": "code",
   "execution_count": 6,
   "metadata": {
    "collapsed": false,
    "deletable": true,
    "editable": true
   },
   "outputs": [],
   "source": [
    "\"\"\"\n",
    "DON'T MODIFY ANYTHING IN THIS CELL\n",
    "\"\"\"\n",
    "import helper\n",
    "import numpy as np\n",
    "import problem_unittests as tests\n",
    "\n",
    "int_text, vocab_to_int, int_to_vocab, token_dict = helper.load_preprocess()"
   ]
  },
  {
   "cell_type": "markdown",
   "metadata": {
    "deletable": true,
    "editable": true
   },
   "source": [
    "## Build the Neural Network\n",
    "You'll build the components necessary to build a RNN by implementing the following functions below:\n",
    "- get_inputs\n",
    "- get_init_cell\n",
    "- get_embed\n",
    "- build_rnn\n",
    "- build_nn\n",
    "- get_batches\n",
    "\n",
    "### Check the Version of TensorFlow and Access to GPU"
   ]
  },
  {
   "cell_type": "code",
   "execution_count": 7,
   "metadata": {
    "collapsed": false
   },
   "outputs": [
    {
     "name": "stdout",
     "output_type": "stream",
     "text": [
      "TensorFlow Version: 1.0.0\n",
      "Default GPU Device: /gpu:0\n"
     ]
    }
   ],
   "source": [
    "\"\"\"\n",
    "DON'T MODIFY ANYTHING IN THIS CELL\n",
    "\"\"\"\n",
    "from distutils.version import LooseVersion\n",
    "import warnings\n",
    "import tensorflow as tf\n",
    "\n",
    "# Check TensorFlow Version\n",
    "assert LooseVersion(tf.__version__) >= LooseVersion('1.0'), 'Please use TensorFlow version 1.0 or newer'\n",
    "print('TensorFlow Version: {}'.format(tf.__version__))\n",
    "\n",
    "# Check for a GPU\n",
    "if not tf.test.gpu_device_name():\n",
    "    warnings.warn('No GPU found. Please use a GPU to train your neural network.')\n",
    "else:\n",
    "    print('Default GPU Device: {}'.format(tf.test.gpu_device_name()))"
   ]
  },
  {
   "cell_type": "markdown",
   "metadata": {},
   "source": [
    "### Input\n",
    "Implement the `get_inputs()` function to create TF Placeholders for the Neural Network.  It should create the following placeholders:\n",
    "- Input text placeholder named \"input\" using the [TF Placeholder](https://www.tensorflow.org/api_docs/python/tf/placeholder) `name` parameter.\n",
    "- Targets placeholder\n",
    "- Learning Rate placeholder\n",
    "\n",
    "Return the placeholders in the following the tuple `(Input, Targets, LearingRate)`"
   ]
  },
  {
   "cell_type": "code",
   "execution_count": 8,
   "metadata": {
    "collapsed": false,
    "deletable": true,
    "editable": true
   },
   "outputs": [
    {
     "name": "stdout",
     "output_type": "stream",
     "text": [
      "Tests Passed\n"
     ]
    }
   ],
   "source": [
    "def get_inputs():\n",
    "    \"\"\"\n",
    "    Create TF Placeholders for input, targets, and learning rate.\n",
    "    :return: Tuple (input, targets, learning rate)\n",
    "    \"\"\"\n",
    "    # TODO: Implement Function\n",
    "    inputs = tf.placeholder(tf.int32, shape=(None, None), name=\"input\")\n",
    "    targets = tf.placeholder(tf.int32, shape=(None, None), name=\"targets\")\n",
    "    learning_rate = tf.placeholder(tf.float32, name=\"learning_rate\")\n",
    "    return inputs, targets, learning_rate\n",
    "\n",
    "\n",
    "\"\"\"\n",
    "DON'T MODIFY ANYTHING IN THIS CELL THAT IS BELOW THIS LINE\n",
    "\"\"\"\n",
    "tests.test_get_inputs(get_inputs)"
   ]
  },
  {
   "cell_type": "markdown",
   "metadata": {
    "deletable": true,
    "editable": true
   },
   "source": [
    "### Build RNN Cell and Initialize\n",
    "Stack one or more [`BasicLSTMCells`](https://www.tensorflow.org/api_docs/python/tf/contrib/rnn/BasicLSTMCell) in a [`MultiRNNCell`](https://www.tensorflow.org/api_docs/python/tf/contrib/rnn/MultiRNNCell).\n",
    "- The Rnn size should be set using `rnn_size`\n",
    "- Initalize Cell State using the MultiRNNCell's [`zero_state()`](https://www.tensorflow.org/api_docs/python/tf/contrib/rnn/MultiRNNCell#zero_state) function\n",
    "    - Apply the name \"initial_state\" to the initial state using [`tf.identity()`](https://www.tensorflow.org/api_docs/python/tf/identity)\n",
    "\n",
    "Return the cell and initial state in the following tuple `(Cell, InitialState)`"
   ]
  },
  {
   "cell_type": "code",
   "execution_count": 9,
   "metadata": {
    "collapsed": false,
    "deletable": true,
    "editable": true
   },
   "outputs": [
    {
     "name": "stdout",
     "output_type": "stream",
     "text": [
      "Tests Passed\n"
     ]
    }
   ],
   "source": [
    "def get_init_cell(batch_size, rnn_size):\n",
    "    \"\"\"\n",
    "    Create an RNN Cell and initialize it.\n",
    "    :param batch_size: Size of batches\n",
    "    :param rnn_size: Size of RNNs\n",
    "    :return: Tuple (cell, initialize state)\n",
    "    \"\"\"\n",
    "    # TODO: Implement Function\n",
    "    layer_count = 3\n",
    "    \n",
    "    lstm = tf.contrib.rnn.BasicLSTMCell(rnn_size)\n",
    "    stacked_lstm = tf.contrib.rnn.MultiRNNCell([lstm] * layer_count)\n",
    "    initial_state = stacked_lstm.zero_state(batch_size, tf.float32)\n",
    "    initial_state = tf.identity(initial_state, name=\"initial_state\")\n",
    "    \n",
    "    return stacked_lstm, initial_state\n",
    "\n",
    "\n",
    "\"\"\"\n",
    "DON'T MODIFY ANYTHING IN THIS CELL THAT IS BELOW THIS LINE\n",
    "\"\"\"\n",
    "tests.test_get_init_cell(get_init_cell)"
   ]
  },
  {
   "cell_type": "markdown",
   "metadata": {
    "deletable": true,
    "editable": true
   },
   "source": [
    "### Word Embedding\n",
    "Apply embedding to `input_data` using TensorFlow.  Return the embedded sequence."
   ]
  },
  {
   "cell_type": "code",
   "execution_count": 10,
   "metadata": {
    "collapsed": false,
    "deletable": true,
    "editable": true
   },
   "outputs": [
    {
     "name": "stdout",
     "output_type": "stream",
     "text": [
      "Tests Passed\n"
     ]
    }
   ],
   "source": [
    "def get_embed(input_data, vocab_size, embed_dim):\n",
    "    \"\"\"\n",
    "    Create embedding for <input_data>.\n",
    "    :param input_data: TF placeholder for text input.\n",
    "    :param vocab_size: Number of words in vocabulary.\n",
    "    :param embed_dim: Number of embedding dimensions\n",
    "    :return: Embedded input.\n",
    "    \"\"\"\n",
    "    # TODO: Implement Function\n",
    "    embedding = tf.Variable(tf.truncated_normal([vocab_size, embed_dim], -1.0, 1.0))\n",
    "    embed = tf.nn.embedding_lookup(embedding, input_data)\n",
    "    return embed\n",
    "\n",
    "\n",
    "\"\"\"\n",
    "DON'T MODIFY ANYTHING IN THIS CELL THAT IS BELOW THIS LINE\n",
    "\"\"\"\n",
    "tests.test_get_embed(get_embed)"
   ]
  },
  {
   "cell_type": "markdown",
   "metadata": {
    "deletable": true,
    "editable": true
   },
   "source": [
    "### Build RNN\n",
    "You created a RNN Cell in the `get_init_cell()` function.  Time to use the cell to create a RNN.\n",
    "- Build the RNN using the [`tf.nn.dynamic_rnn()`](https://www.tensorflow.org/api_docs/python/tf/nn/dynamic_rnn)\n",
    " - Apply the name \"final_state\" to the final state using [`tf.identity()`](https://www.tensorflow.org/api_docs/python/tf/identity)\n",
    "\n",
    "Return the outputs and final_state state in the following tuple `(Outputs, FinalState)` "
   ]
  },
  {
   "cell_type": "code",
   "execution_count": 11,
   "metadata": {
    "collapsed": false,
    "deletable": true,
    "editable": true
   },
   "outputs": [
    {
     "name": "stdout",
     "output_type": "stream",
     "text": [
      "Tests Passed\n"
     ]
    }
   ],
   "source": [
    "def build_rnn(cell, inputs):\n",
    "    \"\"\"\n",
    "    Create a RNN using a RNN Cell\n",
    "    :param cell: RNN Cell\n",
    "    :param inputs: Input text data\n",
    "    :return: Tuple (Outputs, Final State)\n",
    "    \"\"\"\n",
    "    # TODO: Implement Function\n",
    "    outputs, state = tf.nn.dynamic_rnn(cell, inputs, dtype=tf.float32)\n",
    "    state = tf.identity(state, name=\"final_state\")\n",
    "    return outputs, state\n",
    "\n",
    "\n",
    "\"\"\"\n",
    "DON'T MODIFY ANYTHING IN THIS CELL THAT IS BELOW THIS LINE\n",
    "\"\"\"\n",
    "tests.test_build_rnn(build_rnn)"
   ]
  },
  {
   "cell_type": "markdown",
   "metadata": {
    "deletable": true,
    "editable": true
   },
   "source": [
    "### Build the Neural Network\n",
    "Apply the functions you implemented above to:\n",
    "- Apply embedding to `input_data` using your `get_embed(input_data, vocab_size, embed_dim)` function.\n",
    "- Build RNN using `cell` and your `build_rnn(cell, inputs)` function.\n",
    "- Apply a fully connected layer with a linear activation and `vocab_size` as the number of outputs.\n",
    "\n",
    "Return the logits and final state in the following tuple (Logits, FinalState) "
   ]
  },
  {
   "cell_type": "code",
   "execution_count": 12,
   "metadata": {
    "collapsed": false,
    "deletable": true,
    "editable": true
   },
   "outputs": [
    {
     "name": "stdout",
     "output_type": "stream",
     "text": [
      "Tests Passed\n"
     ]
    }
   ],
   "source": [
    "def build_nn(cell, rnn_size, input_data, vocab_size):\n",
    "    \"\"\"\n",
    "    Build part of the neural network\n",
    "    :param cell: RNN cell\n",
    "    :param rnn_size: Size of rnns\n",
    "    :param input_data: Input data\n",
    "    :param vocab_size: Vocabulary size\n",
    "    :return: Tuple (Logits, FinalState)\n",
    "    \"\"\"\n",
    "    # TODO: Implement Function\n",
    "    embedding = get_embed(input_data, vocab_size, rnn_size)\n",
    "    outputs, state = build_rnn(cell, embedding)\n",
    "    \n",
    "    logits = tf.layers.dense(inputs=outputs, units=vocab_size)\n",
    "    \n",
    "    return logits, state\n",
    "\n",
    "\n",
    "\"\"\"\n",
    "DON'T MODIFY ANYTHING IN THIS CELL THAT IS BELOW THIS LINE\n",
    "\"\"\"\n",
    "tests.test_build_nn(build_nn)"
   ]
  },
  {
   "cell_type": "markdown",
   "metadata": {
    "deletable": true,
    "editable": true
   },
   "source": [
    "### Batches\n",
    "Implement `get_batches` to create batches of input and targets using `int_text`.  The batches should be a Numpy array with the shape `(number of batches, 2, batch size, sequence length)`. Each batch contains two elements:\n",
    "- The first element is a single batch of **input** with the shape `[batch size, sequence length]`\n",
    "- The second element is a single batch of **targets** with the shape `[batch size, sequence length]`\n",
    "\n",
    "If you can't fill the last batch with enough data, drop the last batch.\n",
    "\n",
    "For exmple, `get_batches([1, 2, 3, 4, 5, 6, 7, 8, 9, 10, 11, 12, 13, 14, 15], 2, 3)` would return a Numpy array of the following:\n",
    "```\n",
    "[\n",
    "  # First Batch\n",
    "  [\n",
    "    # Batch of Input\n",
    "    [[ 1  2  3], [ 7  8  9]],\n",
    "    # Batch of targets\n",
    "    [[ 2  3  4], [ 8  9 10]]\n",
    "  ],\n",
    " \n",
    "  # Second Batch\n",
    "  [\n",
    "    # Batch of Input\n",
    "    [[ 4  5  6], [10 11 12]],\n",
    "    # Batch of targets\n",
    "    [[ 5  6  7], [11 12 13]]\n",
    "  ]\n",
    "]\n",
    "```"
   ]
  },
  {
   "cell_type": "code",
   "execution_count": 13,
   "metadata": {
    "collapsed": false,
    "deletable": true,
    "editable": true
   },
   "outputs": [
    {
     "name": "stdout",
     "output_type": "stream",
     "text": [
      "Tests Passed\n"
     ]
    }
   ],
   "source": [
    "def get_batches(int_text, batch_size, seq_length):\n",
    "    \"\"\"\n",
    "    Return batches of input and target\n",
    "    :param int_text: Text with the words replaced by their ids\n",
    "    :param batch_size: The size of batch\n",
    "    :param seq_length: The length of sequence\n",
    "    :return: Batches as a Numpy array\n",
    "    \"\"\"\n",
    "    # TODO: Implement Function\n",
    "    number_of_batches = len(int_text) // (batch_size * seq_length)\n",
    "    if len(int_text) % number_of_batches <= 1: #if we don't have at least one extra element to predict\n",
    "        number_of_batches -= 1\n",
    "   \n",
    "    batches = np.empty(shape=(number_of_batches, 2, batch_size, seq_length))\n",
    "\n",
    "    for batch_number in range(number_of_batches):\n",
    "        base_index = batch_number * seq_length\n",
    "        inputs = np.array([])\n",
    "        targets = np.array([])\n",
    "        for sequence_number in range(batch_size):\n",
    "            start_index = base_index + (sequence_number * seq_length)\n",
    "            end_index = start_index + seq_length\n",
    "            sequence = int_text[start_index:end_index]\n",
    "            target = int_text[(start_index + 1):(end_index + 1)]\n",
    "            \n",
    "            batches[batch_number, 0, sequence_number] = sequence\n",
    "            batches[batch_number, 1, sequence_number] = target\n",
    "    \n",
    "    return batches\n",
    "\n",
    "\n",
    "\"\"\"\n",
    "DON'T MODIFY ANYTHING IN THIS CELL THAT IS BELOW THIS LINE\n",
    "\"\"\"\n",
    "tests.test_get_batches(get_batches)"
   ]
  },
  {
   "cell_type": "markdown",
   "metadata": {
    "deletable": true,
    "editable": true
   },
   "source": [
    "## Neural Network Training\n",
    "### Hyperparameters\n",
    "Tune the following parameters:\n",
    "\n",
    "- Set `num_epochs` to the number of epochs.\n",
    "- Set `batch_size` to the batch size.\n",
    "- Set `rnn_size` to the size of the RNNs.\n",
    "- Set `seq_length` to the length of sequence.\n",
    "- Set `learning_rate` to the learning rate.\n",
    "- Set `show_every_n_batches` to the number of batches the neural network should print progress."
   ]
  },
  {
   "cell_type": "code",
   "execution_count": 14,
   "metadata": {
    "collapsed": false,
    "deletable": true,
    "editable": true
   },
   "outputs": [],
   "source": [
    "# Number of Epochs\n",
    "num_epochs = 8192\n",
    "# Sequence Length\n",
    "seq_length = 32\n",
    "# Batch Size\n",
    "batch_size = int(len(int_text) / seq_length // 2) #maximize the batch size to not waste data\n",
    "# RNN Size\n",
    "rnn_size = 128\n",
    "# Learning Rate\n",
    "learning_rate = 0.001\n",
    "# Show stats for every n number of batches\n",
    "show_every_n_batches = 20\n",
    "\n",
    "\"\"\"\n",
    "DON'T MODIFY ANYTHING IN THIS CELL THAT IS BELOW THIS LINE\n",
    "\"\"\"\n",
    "save_dir = './save'"
   ]
  },
  {
   "cell_type": "markdown",
   "metadata": {
    "deletable": true,
    "editable": true
   },
   "source": [
    "### Build the Graph\n",
    "Build the graph using the neural network you implemented."
   ]
  },
  {
   "cell_type": "code",
   "execution_count": 15,
   "metadata": {
    "collapsed": false,
    "deletable": true,
    "editable": true
   },
   "outputs": [],
   "source": [
    "\"\"\"\n",
    "DON'T MODIFY ANYTHING IN THIS CELL\n",
    "\"\"\"\n",
    "from tensorflow.contrib import seq2seq\n",
    "\n",
    "train_graph = tf.Graph()\n",
    "with train_graph.as_default():\n",
    "    vocab_size = len(int_to_vocab)\n",
    "    input_text, targets, lr = get_inputs()\n",
    "    input_data_shape = tf.shape(input_text)\n",
    "    cell, initial_state = get_init_cell(input_data_shape[0], rnn_size)\n",
    "    logits, final_state = build_nn(cell, rnn_size, input_text, vocab_size)\n",
    "\n",
    "    # Probabilities for generating words\n",
    "    probs = tf.nn.softmax(logits, name='probs')\n",
    "\n",
    "    # Loss function\n",
    "    cost = seq2seq.sequence_loss(\n",
    "        logits,\n",
    "        targets,\n",
    "        tf.ones([input_data_shape[0], input_data_shape[1]]))\n",
    "\n",
    "    # Optimizer\n",
    "    optimizer = tf.train.AdamOptimizer(lr)\n",
    "\n",
    "    # Gradient Clipping\n",
    "    gradients = optimizer.compute_gradients(cost)\n",
    "    capped_gradients = [(tf.clip_by_value(grad, -1., 1.), var) for grad, var in gradients]\n",
    "    train_op = optimizer.apply_gradients(capped_gradients)"
   ]
  },
  {
   "cell_type": "markdown",
   "metadata": {
    "deletable": true,
    "editable": true
   },
   "source": [
    "## Train\n",
    "Train the neural network on the preprocessed data.  If you have a hard time getting a good loss, check the [forms](https://discussions.udacity.com/) to see if anyone is having the same problem."
   ]
  },
  {
   "cell_type": "code",
   "execution_count": 16,
   "metadata": {
    "collapsed": false,
    "deletable": true,
    "editable": true
   },
   "outputs": [
    {
     "name": "stdout",
     "output_type": "stream",
     "text": [
      "Epoch   0 Batch    0/1   train_loss = 8.824\n",
      "Epoch  20 Batch    0/1   train_loss = 6.430\n",
      "Epoch  40 Batch    0/1   train_loss = 5.841\n",
      "Epoch  60 Batch    0/1   train_loss = 5.794\n",
      "Epoch  80 Batch    0/1   train_loss = 5.786\n",
      "Epoch 100 Batch    0/1   train_loss = 5.783\n",
      "Epoch 120 Batch    0/1   train_loss = 5.781\n",
      "Epoch 140 Batch    0/1   train_loss = 5.780\n",
      "Epoch 160 Batch    0/1   train_loss = 5.779\n",
      "Epoch 180 Batch    0/1   train_loss = 5.779\n",
      "Epoch 200 Batch    0/1   train_loss = 5.778\n",
      "Epoch 220 Batch    0/1   train_loss = 5.777\n",
      "Epoch 240 Batch    0/1   train_loss = 5.776\n",
      "Epoch 260 Batch    0/1   train_loss = 5.773\n",
      "Epoch 280 Batch    0/1   train_loss = 5.772\n",
      "Epoch 300 Batch    0/1   train_loss = 5.765\n",
      "Epoch 320 Batch    0/1   train_loss = 5.760\n",
      "Epoch 340 Batch    0/1   train_loss = 5.757\n",
      "Epoch 360 Batch    0/1   train_loss = 5.753\n",
      "Epoch 380 Batch    0/1   train_loss = 5.750\n",
      "Epoch 400 Batch    0/1   train_loss = 5.752\n",
      "Epoch 420 Batch    0/1   train_loss = 5.743\n",
      "Epoch 440 Batch    0/1   train_loss = 5.740\n",
      "Epoch 460 Batch    0/1   train_loss = 5.736\n",
      "Epoch 480 Batch    0/1   train_loss = 5.732\n",
      "Epoch 500 Batch    0/1   train_loss = 5.730\n",
      "Epoch 520 Batch    0/1   train_loss = 5.724\n",
      "Epoch 540 Batch    0/1   train_loss = 5.719\n",
      "Epoch 560 Batch    0/1   train_loss = 5.715\n",
      "Epoch 580 Batch    0/1   train_loss = 5.708\n",
      "Epoch 600 Batch    0/1   train_loss = 5.703\n",
      "Epoch 620 Batch    0/1   train_loss = 5.702\n",
      "Epoch 640 Batch    0/1   train_loss = 5.695\n",
      "Epoch 660 Batch    0/1   train_loss = 5.699\n",
      "Epoch 680 Batch    0/1   train_loss = 5.689\n",
      "Epoch 700 Batch    0/1   train_loss = 5.688\n",
      "Epoch 720 Batch    0/1   train_loss = 5.685\n",
      "Epoch 740 Batch    0/1   train_loss = 5.678\n",
      "Epoch 760 Batch    0/1   train_loss = 5.676\n",
      "Epoch 780 Batch    0/1   train_loss = 5.669\n",
      "Epoch 800 Batch    0/1   train_loss = 5.666\n",
      "Epoch 820 Batch    0/1   train_loss = 5.661\n",
      "Epoch 840 Batch    0/1   train_loss = 5.671\n",
      "Epoch 860 Batch    0/1   train_loss = 5.658\n",
      "Epoch 880 Batch    0/1   train_loss = 5.653\n",
      "Epoch 900 Batch    0/1   train_loss = 5.653\n",
      "Epoch 920 Batch    0/1   train_loss = 5.648\n",
      "Epoch 940 Batch    0/1   train_loss = 5.645\n",
      "Epoch 960 Batch    0/1   train_loss = 5.643\n",
      "Epoch 980 Batch    0/1   train_loss = 5.639\n",
      "Epoch 1000 Batch    0/1   train_loss = 5.637\n",
      "Epoch 1020 Batch    0/1   train_loss = 5.635\n",
      "Epoch 1040 Batch    0/1   train_loss = 5.635\n",
      "Epoch 1060 Batch    0/1   train_loss = 5.630\n",
      "Epoch 1080 Batch    0/1   train_loss = 5.629\n",
      "Epoch 1100 Batch    0/1   train_loss = 5.627\n",
      "Epoch 1120 Batch    0/1   train_loss = 5.623\n",
      "Epoch 1140 Batch    0/1   train_loss = 5.619\n",
      "Epoch 1160 Batch    0/1   train_loss = 5.617\n",
      "Epoch 1180 Batch    0/1   train_loss = 5.615\n",
      "Epoch 1200 Batch    0/1   train_loss = 5.615\n",
      "Epoch 1220 Batch    0/1   train_loss = 5.610\n",
      "Epoch 1240 Batch    0/1   train_loss = 5.607\n",
      "Epoch 1260 Batch    0/1   train_loss = 5.605\n",
      "Epoch 1280 Batch    0/1   train_loss = 5.603\n",
      "Epoch 1300 Batch    0/1   train_loss = 5.594\n",
      "Epoch 1320 Batch    0/1   train_loss = 5.579\n",
      "Epoch 1340 Batch    0/1   train_loss = 5.582\n",
      "Epoch 1360 Batch    0/1   train_loss = 5.527\n",
      "Epoch 1380 Batch    0/1   train_loss = 5.495\n",
      "Epoch 1400 Batch    0/1   train_loss = 5.464\n",
      "Epoch 1420 Batch    0/1   train_loss = 5.436\n",
      "Epoch 1440 Batch    0/1   train_loss = 5.405\n",
      "Epoch 1460 Batch    0/1   train_loss = 5.378\n",
      "Epoch 1480 Batch    0/1   train_loss = 5.345\n",
      "Epoch 1500 Batch    0/1   train_loss = 5.310\n",
      "Epoch 1520 Batch    0/1   train_loss = 5.274\n",
      "Epoch 1540 Batch    0/1   train_loss = 5.234\n",
      "Epoch 1560 Batch    0/1   train_loss = 5.174\n",
      "Epoch 1580 Batch    0/1   train_loss = 5.106\n",
      "Epoch 1600 Batch    0/1   train_loss = 5.079\n",
      "Epoch 1620 Batch    0/1   train_loss = 4.953\n",
      "Epoch 1640 Batch    0/1   train_loss = 4.866\n",
      "Epoch 1660 Batch    0/1   train_loss = 4.778\n",
      "Epoch 1680 Batch    0/1   train_loss = 4.699\n",
      "Epoch 1700 Batch    0/1   train_loss = 4.621\n",
      "Epoch 1720 Batch    0/1   train_loss = 4.545\n",
      "Epoch 1740 Batch    0/1   train_loss = 4.469\n",
      "Epoch 1760 Batch    0/1   train_loss = 4.394\n",
      "Epoch 1780 Batch    0/1   train_loss = 4.334\n",
      "Epoch 1800 Batch    0/1   train_loss = 4.264\n",
      "Epoch 1820 Batch    0/1   train_loss = 4.200\n",
      "Epoch 1840 Batch    0/1   train_loss = 4.128\n",
      "Epoch 1860 Batch    0/1   train_loss = 4.051\n",
      "Epoch 1880 Batch    0/1   train_loss = 3.996\n",
      "Epoch 1900 Batch    0/1   train_loss = 3.935\n",
      "Epoch 1920 Batch    0/1   train_loss = 3.890\n",
      "Epoch 1940 Batch    0/1   train_loss = 3.818\n",
      "Epoch 1960 Batch    0/1   train_loss = 3.759\n",
      "Epoch 1980 Batch    0/1   train_loss = 3.720\n",
      "Epoch 2000 Batch    0/1   train_loss = 3.654\n",
      "Epoch 2020 Batch    0/1   train_loss = 3.610\n",
      "Epoch 2040 Batch    0/1   train_loss = 3.585\n",
      "Epoch 2060 Batch    0/1   train_loss = 3.506\n",
      "Epoch 2080 Batch    0/1   train_loss = 3.447\n",
      "Epoch 2100 Batch    0/1   train_loss = 3.392\n",
      "Epoch 2120 Batch    0/1   train_loss = 3.358\n",
      "Epoch 2140 Batch    0/1   train_loss = 3.310\n",
      "Epoch 2160 Batch    0/1   train_loss = 3.257\n",
      "Epoch 2180 Batch    0/1   train_loss = 3.202\n",
      "Epoch 2200 Batch    0/1   train_loss = 3.143\n",
      "Epoch 2220 Batch    0/1   train_loss = 3.137\n",
      "Epoch 2240 Batch    0/1   train_loss = 3.039\n",
      "Epoch 2260 Batch    0/1   train_loss = 2.994\n",
      "Epoch 2280 Batch    0/1   train_loss = 2.942\n",
      "Epoch 2300 Batch    0/1   train_loss = 2.911\n",
      "Epoch 2320 Batch    0/1   train_loss = 2.856\n",
      "Epoch 2340 Batch    0/1   train_loss = 2.830\n",
      "Epoch 2360 Batch    0/1   train_loss = 2.781\n",
      "Epoch 2380 Batch    0/1   train_loss = 2.712\n",
      "Epoch 2400 Batch    0/1   train_loss = 2.664\n",
      "Epoch 2420 Batch    0/1   train_loss = 2.640\n",
      "Epoch 2440 Batch    0/1   train_loss = 2.582\n",
      "Epoch 2460 Batch    0/1   train_loss = 2.529\n",
      "Epoch 2480 Batch    0/1   train_loss = 2.490\n",
      "Epoch 2500 Batch    0/1   train_loss = 2.472\n",
      "Epoch 2520 Batch    0/1   train_loss = 2.409\n",
      "Epoch 2540 Batch    0/1   train_loss = 2.374\n",
      "Epoch 2560 Batch    0/1   train_loss = 2.329\n",
      "Epoch 2580 Batch    0/1   train_loss = 2.293\n",
      "Epoch 2600 Batch    0/1   train_loss = 2.289\n",
      "Epoch 2620 Batch    0/1   train_loss = 2.206\n",
      "Epoch 2640 Batch    0/1   train_loss = 2.182\n",
      "Epoch 2660 Batch    0/1   train_loss = 2.175\n",
      "Epoch 2680 Batch    0/1   train_loss = 2.097\n",
      "Epoch 2700 Batch    0/1   train_loss = 2.073\n",
      "Epoch 2720 Batch    0/1   train_loss = 2.059\n",
      "Epoch 2740 Batch    0/1   train_loss = 2.001\n",
      "Epoch 2760 Batch    0/1   train_loss = 1.967\n",
      "Epoch 2780 Batch    0/1   train_loss = 2.006\n",
      "Epoch 2800 Batch    0/1   train_loss = 1.908\n",
      "Epoch 2820 Batch    0/1   train_loss = 1.915\n",
      "Epoch 2840 Batch    0/1   train_loss = 1.848\n",
      "Epoch 2860 Batch    0/1   train_loss = 1.817\n",
      "Epoch 2880 Batch    0/1   train_loss = 1.789\n",
      "Epoch 2900 Batch    0/1   train_loss = 1.758\n",
      "Epoch 2920 Batch    0/1   train_loss = 1.764\n",
      "Epoch 2940 Batch    0/1   train_loss = 1.756\n",
      "Epoch 2960 Batch    0/1   train_loss = 1.680\n",
      "Epoch 2980 Batch    0/1   train_loss = 1.666\n",
      "Epoch 3000 Batch    0/1   train_loss = 1.639\n",
      "Epoch 3020 Batch    0/1   train_loss = 1.620\n",
      "Epoch 3040 Batch    0/1   train_loss = 1.648\n",
      "Epoch 3060 Batch    0/1   train_loss = 1.576\n",
      "Epoch 3080 Batch    0/1   train_loss = 1.539\n",
      "Epoch 3100 Batch    0/1   train_loss = 1.524\n",
      "Epoch 3120 Batch    0/1   train_loss = 1.543\n",
      "Epoch 3140 Batch    0/1   train_loss = 1.467\n",
      "Epoch 3160 Batch    0/1   train_loss = 1.448\n",
      "Epoch 3180 Batch    0/1   train_loss = 1.470\n",
      "Epoch 3200 Batch    0/1   train_loss = 1.401\n",
      "Epoch 3220 Batch    0/1   train_loss = 1.417\n",
      "Epoch 3240 Batch    0/1   train_loss = 1.421\n",
      "Epoch 3260 Batch    0/1   train_loss = 1.340\n",
      "Epoch 3280 Batch    0/1   train_loss = 1.324\n",
      "Epoch 3300 Batch    0/1   train_loss = 1.394\n",
      "Epoch 3320 Batch    0/1   train_loss = 1.284\n",
      "Epoch 3340 Batch    0/1   train_loss = 1.279\n",
      "Epoch 3360 Batch    0/1   train_loss = 1.322\n",
      "Epoch 3380 Batch    0/1   train_loss = 1.238\n",
      "Epoch 3400 Batch    0/1   train_loss = 1.215\n",
      "Epoch 3420 Batch    0/1   train_loss = 1.211\n",
      "Epoch 3440 Batch    0/1   train_loss = 1.272\n",
      "Epoch 3460 Batch    0/1   train_loss = 1.165\n",
      "Epoch 3480 Batch    0/1   train_loss = 1.164\n",
      "Epoch 3500 Batch    0/1   train_loss = 1.141\n",
      "Epoch 3520 Batch    0/1   train_loss = 1.122\n",
      "Epoch 3540 Batch    0/1   train_loss = 1.136\n",
      "Epoch 3560 Batch    0/1   train_loss = 1.093\n",
      "Epoch 3580 Batch    0/1   train_loss = 1.102\n",
      "Epoch 3600 Batch    0/1   train_loss = 1.057\n",
      "Epoch 3620 Batch    0/1   train_loss = 1.065\n",
      "Epoch 3640 Batch    0/1   train_loss = 1.016\n",
      "Epoch 3660 Batch    0/1   train_loss = 1.026\n",
      "Epoch 3680 Batch    0/1   train_loss = 0.989\n",
      "Epoch 3700 Batch    0/1   train_loss = 0.986\n",
      "Epoch 3720 Batch    0/1   train_loss = 0.962\n",
      "Epoch 3740 Batch    0/1   train_loss = 0.993\n",
      "Epoch 3760 Batch    0/1   train_loss = 0.938\n",
      "Epoch 3780 Batch    0/1   train_loss = 0.943\n",
      "Epoch 3800 Batch    0/1   train_loss = 0.944\n",
      "Epoch 3820 Batch    0/1   train_loss = 0.894\n",
      "Epoch 3840 Batch    0/1   train_loss = 0.926\n",
      "Epoch 3860 Batch    0/1   train_loss = 0.874\n",
      "Epoch 3880 Batch    0/1   train_loss = 0.866\n",
      "Epoch 3900 Batch    0/1   train_loss = 0.914\n",
      "Epoch 3920 Batch    0/1   train_loss = 0.869\n",
      "Epoch 3940 Batch    0/1   train_loss = 0.832\n",
      "Epoch 3960 Batch    0/1   train_loss = 0.835\n",
      "Epoch 3980 Batch    0/1   train_loss = 0.834\n",
      "Epoch 4000 Batch    0/1   train_loss = 0.793\n",
      "Epoch 4020 Batch    0/1   train_loss = 0.814\n",
      "Epoch 4040 Batch    0/1   train_loss = 0.770\n",
      "Epoch 4060 Batch    0/1   train_loss = 0.794\n",
      "Epoch 4080 Batch    0/1   train_loss = 0.780\n",
      "Epoch 4100 Batch    0/1   train_loss = 0.744\n",
      "Epoch 4120 Batch    0/1   train_loss = 0.729\n",
      "Epoch 4140 Batch    0/1   train_loss = 0.747\n",
      "Epoch 4160 Batch    0/1   train_loss = 0.711\n",
      "Epoch 4180 Batch    0/1   train_loss = 0.741\n",
      "Epoch 4200 Batch    0/1   train_loss = 0.695\n",
      "Epoch 4220 Batch    0/1   train_loss = 0.775\n",
      "Epoch 4240 Batch    0/1   train_loss = 0.683\n",
      "Epoch 4260 Batch    0/1   train_loss = 0.697\n",
      "Epoch 4280 Batch    0/1   train_loss = 0.664\n",
      "Epoch 4300 Batch    0/1   train_loss = 0.647\n",
      "Epoch 4320 Batch    0/1   train_loss = 0.660\n",
      "Epoch 4340 Batch    0/1   train_loss = 0.631\n",
      "Epoch 4360 Batch    0/1   train_loss = 0.635\n",
      "Epoch 4380 Batch    0/1   train_loss = 0.639\n",
      "Epoch 4400 Batch    0/1   train_loss = 0.638\n",
      "Epoch 4420 Batch    0/1   train_loss = 0.597\n",
      "Epoch 4440 Batch    0/1   train_loss = 0.618\n",
      "Epoch 4460 Batch    0/1   train_loss = 0.587\n",
      "Epoch 4480 Batch    0/1   train_loss = 0.584\n",
      "Epoch 4500 Batch    0/1   train_loss = 0.586\n",
      "Epoch 4520 Batch    0/1   train_loss = 0.555\n",
      "Epoch 4540 Batch    0/1   train_loss = 0.632\n",
      "Epoch 4560 Batch    0/1   train_loss = 0.553\n",
      "Epoch 4580 Batch    0/1   train_loss = 0.545\n",
      "Epoch 4600 Batch    0/1   train_loss = 0.536\n",
      "Epoch 4620 Batch    0/1   train_loss = 0.524\n",
      "Epoch 4640 Batch    0/1   train_loss = 0.645\n",
      "Epoch 4660 Batch    0/1   train_loss = 0.518\n",
      "Epoch 4680 Batch    0/1   train_loss = 0.499\n",
      "Epoch 4700 Batch    0/1   train_loss = 0.548\n",
      "Epoch 4720 Batch    0/1   train_loss = 0.501\n",
      "Epoch 4740 Batch    0/1   train_loss = 0.481\n",
      "Epoch 4760 Batch    0/1   train_loss = 0.490\n",
      "Epoch 4780 Batch    0/1   train_loss = 0.470\n",
      "Epoch 4800 Batch    0/1   train_loss = 0.521\n",
      "Epoch 4820 Batch    0/1   train_loss = 0.465\n",
      "Epoch 4840 Batch    0/1   train_loss = 0.448\n",
      "Epoch 4860 Batch    0/1   train_loss = 0.599\n",
      "Epoch 4880 Batch    0/1   train_loss = 0.461\n",
      "Epoch 4900 Batch    0/1   train_loss = 0.435\n",
      "Epoch 4920 Batch    0/1   train_loss = 0.433\n",
      "Epoch 4940 Batch    0/1   train_loss = 0.426\n",
      "Epoch 4960 Batch    0/1   train_loss = 0.527\n",
      "Epoch 4980 Batch    0/1   train_loss = 0.434\n",
      "Epoch 5000 Batch    0/1   train_loss = 0.408\n",
      "Epoch 5020 Batch    0/1   train_loss = 0.409\n",
      "Epoch 5040 Batch    0/1   train_loss = 0.396\n",
      "Epoch 5060 Batch    0/1   train_loss = 0.438\n",
      "Epoch 5080 Batch    0/1   train_loss = 0.395\n",
      "Epoch 5100 Batch    0/1   train_loss = 0.379\n",
      "Epoch 5120 Batch    0/1   train_loss = 0.477\n",
      "Epoch 5140 Batch    0/1   train_loss = 0.385\n",
      "Epoch 5160 Batch    0/1   train_loss = 0.367\n",
      "Epoch 5180 Batch    0/1   train_loss = 0.361\n",
      "Epoch 5200 Batch    0/1   train_loss = 0.372\n",
      "Epoch 5220 Batch    0/1   train_loss = 0.352\n",
      "Epoch 5240 Batch    0/1   train_loss = 0.440\n",
      "Epoch 5260 Batch    0/1   train_loss = 0.384\n",
      "Epoch 5280 Batch    0/1   train_loss = 0.345\n",
      "Epoch 5300 Batch    0/1   train_loss = 0.334\n",
      "Epoch 5320 Batch    0/1   train_loss = 0.336\n",
      "Epoch 5340 Batch    0/1   train_loss = 0.335\n",
      "Epoch 5360 Batch    0/1   train_loss = 0.321\n",
      "Epoch 5380 Batch    0/1   train_loss = 0.579\n",
      "Epoch 5400 Batch    0/1   train_loss = 0.351\n",
      "Epoch 5420 Batch    0/1   train_loss = 0.317\n",
      "Epoch 5440 Batch    0/1   train_loss = 0.306\n",
      "Epoch 5460 Batch    0/1   train_loss = 0.307\n",
      "Epoch 5480 Batch    0/1   train_loss = 0.301\n",
      "Epoch 5500 Batch    0/1   train_loss = 0.355\n",
      "Epoch 5520 Batch    0/1   train_loss = 0.304\n",
      "Epoch 5540 Batch    0/1   train_loss = 0.290\n",
      "Epoch 5560 Batch    0/1   train_loss = 0.284\n",
      "Epoch 5580 Batch    0/1   train_loss = 0.282\n",
      "Epoch 5600 Batch    0/1   train_loss = 0.882\n",
      "Epoch 5620 Batch    0/1   train_loss = 0.418\n",
      "Epoch 5640 Batch    0/1   train_loss = 0.294\n",
      "Epoch 5660 Batch    0/1   train_loss = 0.276\n",
      "Epoch 5680 Batch    0/1   train_loss = 0.268\n",
      "Epoch 5700 Batch    0/1   train_loss = 0.263\n",
      "Epoch 5720 Batch    0/1   train_loss = 0.260\n",
      "Epoch 5740 Batch    0/1   train_loss = 0.256\n",
      "Epoch 5760 Batch    0/1   train_loss = 0.255\n",
      "Epoch 5780 Batch    0/1   train_loss = 0.249\n",
      "Epoch 5800 Batch    0/1   train_loss = 0.393\n",
      "Epoch 5820 Batch    0/1   train_loss = 0.286\n",
      "Epoch 5840 Batch    0/1   train_loss = 0.251\n",
      "Epoch 5860 Batch    0/1   train_loss = 0.240\n",
      "Epoch 5880 Batch    0/1   train_loss = 0.236\n",
      "Epoch 5900 Batch    0/1   train_loss = 0.234\n",
      "Epoch 5920 Batch    0/1   train_loss = 0.230\n",
      "Epoch 5940 Batch    0/1   train_loss = 0.228\n",
      "Epoch 5960 Batch    0/1   train_loss = 0.316\n",
      "Epoch 5980 Batch    0/1   train_loss = 0.301\n",
      "Epoch 6000 Batch    0/1   train_loss = 0.234\n",
      "Epoch 6020 Batch    0/1   train_loss = 0.221\n",
      "Epoch 6040 Batch    0/1   train_loss = 0.217\n",
      "Epoch 6060 Batch    0/1   train_loss = 0.213\n",
      "Epoch 6080 Batch    0/1   train_loss = 0.210\n",
      "Epoch 6100 Batch    0/1   train_loss = 0.211\n",
      "Epoch 6120 Batch    0/1   train_loss = 0.206\n",
      "Epoch 6140 Batch    0/1   train_loss = 0.962\n",
      "Epoch 6160 Batch    0/1   train_loss = 0.256\n",
      "Epoch 6180 Batch    0/1   train_loss = 0.212\n",
      "Epoch 6200 Batch    0/1   train_loss = 0.201\n",
      "Epoch 6220 Batch    0/1   train_loss = 0.196\n",
      "Epoch 6240 Batch    0/1   train_loss = 0.193\n",
      "Epoch 6260 Batch    0/1   train_loss = 0.191\n",
      "Epoch 6280 Batch    0/1   train_loss = 0.189\n",
      "Epoch 6300 Batch    0/1   train_loss = 0.186\n",
      "Epoch 6320 Batch    0/1   train_loss = 0.890\n",
      "Epoch 6340 Batch    0/1   train_loss = 0.298\n",
      "Epoch 6360 Batch    0/1   train_loss = 0.203\n",
      "Epoch 6380 Batch    0/1   train_loss = 0.187\n",
      "Epoch 6400 Batch    0/1   train_loss = 0.182\n",
      "Epoch 6420 Batch    0/1   train_loss = 0.178\n",
      "Epoch 6440 Batch    0/1   train_loss = 0.176\n",
      "Epoch 6460 Batch    0/1   train_loss = 0.173\n",
      "Epoch 6480 Batch    0/1   train_loss = 0.172\n",
      "Epoch 6500 Batch    0/1   train_loss = 0.169\n",
      "Epoch 6520 Batch    0/1   train_loss = 0.168\n",
      "Epoch 6540 Batch    0/1   train_loss = 0.167\n",
      "Epoch 6560 Batch    0/1   train_loss = 0.164\n",
      "Epoch 6580 Batch    0/1   train_loss = 0.163\n",
      "Epoch 6600 Batch    0/1   train_loss = 0.161\n",
      "Epoch 6620 Batch    0/1   train_loss = 0.161\n",
      "Epoch 6640 Batch    0/1   train_loss = 0.157\n",
      "Epoch 6660 Batch    0/1   train_loss = 0.161\n",
      "Epoch 6680 Batch    0/1   train_loss = 0.418\n",
      "Epoch 6700 Batch    0/1   train_loss = 0.200\n",
      "Epoch 6720 Batch    0/1   train_loss = 0.167\n",
      "Epoch 6740 Batch    0/1   train_loss = 0.158\n",
      "Epoch 6760 Batch    0/1   train_loss = 0.154\n",
      "Epoch 6780 Batch    0/1   train_loss = 0.151\n",
      "Epoch 6800 Batch    0/1   train_loss = 0.149\n",
      "Epoch 6820 Batch    0/1   train_loss = 0.147\n",
      "Epoch 6840 Batch    0/1   train_loss = 0.146\n",
      "Epoch 6860 Batch    0/1   train_loss = 0.144\n",
      "Epoch 6880 Batch    0/1   train_loss = 0.143\n",
      "Epoch 6900 Batch    0/1   train_loss = 0.141\n",
      "Epoch 6920 Batch    0/1   train_loss = 0.141\n",
      "Epoch 6940 Batch    0/1   train_loss = 0.139\n",
      "Epoch 6960 Batch    0/1   train_loss = 0.137\n",
      "Epoch 6980 Batch    0/1   train_loss = 0.137\n",
      "Epoch 7000 Batch    0/1   train_loss = 0.135\n",
      "Epoch 7020 Batch    0/1   train_loss = 0.133\n",
      "Epoch 7040 Batch    0/1   train_loss = 0.132\n",
      "Epoch 7060 Batch    0/1   train_loss = 0.133\n",
      "Epoch 7080 Batch    0/1   train_loss = 0.130\n",
      "Epoch 7100 Batch    0/1   train_loss = 0.130\n",
      "Epoch 7120 Batch    0/1   train_loss = 0.128\n",
      "Epoch 7140 Batch    0/1   train_loss = 0.127\n",
      "Epoch 7160 Batch    0/1   train_loss = 0.131\n",
      "Epoch 7180 Batch    0/1   train_loss = 0.480\n",
      "Epoch 7200 Batch    0/1   train_loss = 0.188\n",
      "Epoch 7220 Batch    0/1   train_loss = 0.143\n",
      "Epoch 7240 Batch    0/1   train_loss = 0.133\n",
      "Epoch 7260 Batch    0/1   train_loss = 0.129\n",
      "Epoch 7280 Batch    0/1   train_loss = 0.127\n",
      "Epoch 7300 Batch    0/1   train_loss = 0.125\n",
      "Epoch 7320 Batch    0/1   train_loss = 0.123\n",
      "Epoch 7340 Batch    0/1   train_loss = 0.122\n",
      "Epoch 7360 Batch    0/1   train_loss = 0.121\n",
      "Epoch 7380 Batch    0/1   train_loss = 0.120\n",
      "Epoch 7400 Batch    0/1   train_loss = 0.119\n",
      "Epoch 7420 Batch    0/1   train_loss = 0.118\n",
      "Epoch 7440 Batch    0/1   train_loss = 0.117\n",
      "Epoch 7460 Batch    0/1   train_loss = 0.116\n",
      "Epoch 7480 Batch    0/1   train_loss = 0.115\n",
      "Epoch 7500 Batch    0/1   train_loss = 0.114\n",
      "Epoch 7520 Batch    0/1   train_loss = 0.114\n",
      "Epoch 7540 Batch    0/1   train_loss = 0.113\n",
      "Epoch 7560 Batch    0/1   train_loss = 0.112\n",
      "Epoch 7580 Batch    0/1   train_loss = 0.111\n",
      "Epoch 7600 Batch    0/1   train_loss = 0.110\n",
      "Epoch 7620 Batch    0/1   train_loss = 0.110\n",
      "Epoch 7640 Batch    0/1   train_loss = 0.109\n",
      "Epoch 7660 Batch    0/1   train_loss = 0.108\n",
      "Epoch 7680 Batch    0/1   train_loss = 0.108\n",
      "Epoch 7700 Batch    0/1   train_loss = 0.109\n",
      "Epoch 7720 Batch    0/1   train_loss = 0.107\n",
      "Epoch 7740 Batch    0/1   train_loss = 0.106\n",
      "Epoch 7760 Batch    0/1   train_loss = 0.105\n",
      "Epoch 7780 Batch    0/1   train_loss = 0.104\n",
      "Epoch 7800 Batch    0/1   train_loss = 0.104\n",
      "Epoch 7820 Batch    0/1   train_loss = 0.103\n",
      "Epoch 7840 Batch    0/1   train_loss = 0.103\n",
      "Epoch 7860 Batch    0/1   train_loss = 0.102\n",
      "Epoch 7880 Batch    0/1   train_loss = 0.102\n",
      "Epoch 7900 Batch    0/1   train_loss = 0.101\n",
      "Epoch 7920 Batch    0/1   train_loss = 0.101\n",
      "Epoch 7940 Batch    0/1   train_loss = 0.100\n",
      "Epoch 7960 Batch    0/1   train_loss = 0.100\n",
      "Epoch 7980 Batch    0/1   train_loss = 0.099\n",
      "Epoch 8000 Batch    0/1   train_loss = 0.098\n",
      "Epoch 8020 Batch    0/1   train_loss = 0.098\n",
      "Epoch 8040 Batch    0/1   train_loss = 1.791\n",
      "Epoch 8060 Batch    0/1   train_loss = 0.398\n",
      "Epoch 8080 Batch    0/1   train_loss = 0.154\n",
      "Epoch 8100 Batch    0/1   train_loss = 0.120\n",
      "Epoch 8120 Batch    0/1   train_loss = 0.111\n",
      "Epoch 8140 Batch    0/1   train_loss = 0.108\n",
      "Epoch 8160 Batch    0/1   train_loss = 0.105\n",
      "Epoch 8180 Batch    0/1   train_loss = 0.104\n",
      "Model Trained and Saved\n"
     ]
    }
   ],
   "source": [
    "\"\"\"\n",
    "DON'T MODIFY ANYTHING IN THIS CELL\n",
    "\"\"\"\n",
    "batches = get_batches(int_text, batch_size, seq_length)\n",
    "\n",
    "with tf.Session(graph=train_graph) as sess:\n",
    "    sess.run(tf.global_variables_initializer())\n",
    "\n",
    "    for epoch_i in range(num_epochs):\n",
    "        state = sess.run(initial_state, {input_text: batches[0][0]})\n",
    "\n",
    "        for batch_i, (x, y) in enumerate(batches):\n",
    "            feed = {\n",
    "                input_text: x,\n",
    "                targets: y,\n",
    "                initial_state: state,\n",
    "                lr: learning_rate}\n",
    "            train_loss, state, _ = sess.run([cost, final_state, train_op], feed)\n",
    "\n",
    "            # Show every <show_every_n_batches> batches\n",
    "            if (epoch_i * len(batches) + batch_i) % show_every_n_batches == 0:\n",
    "                print('Epoch {:>3} Batch {:>4}/{}   train_loss = {:.3f}'.format(\n",
    "                    epoch_i,\n",
    "                    batch_i,\n",
    "                    len(batches),\n",
    "                    train_loss))\n",
    "\n",
    "    # Save Model\n",
    "    saver = tf.train.Saver()\n",
    "    saver.save(sess, save_dir)\n",
    "    print('Model Trained and Saved')"
   ]
  },
  {
   "cell_type": "markdown",
   "metadata": {
    "deletable": true,
    "editable": true
   },
   "source": [
    "## Save Parameters\n",
    "Save `seq_length` and `save_dir` for generating a new TV script."
   ]
  },
  {
   "cell_type": "code",
   "execution_count": 17,
   "metadata": {
    "collapsed": false,
    "deletable": true,
    "editable": true
   },
   "outputs": [],
   "source": [
    "\"\"\"\n",
    "DON'T MODIFY ANYTHING IN THIS CELL\n",
    "\"\"\"\n",
    "# Save parameters for checkpoint\n",
    "helper.save_params((seq_length, save_dir))"
   ]
  },
  {
   "cell_type": "markdown",
   "metadata": {
    "deletable": true,
    "editable": true
   },
   "source": [
    "# Checkpoint"
   ]
  },
  {
   "cell_type": "code",
   "execution_count": 18,
   "metadata": {
    "collapsed": false,
    "deletable": true,
    "editable": true
   },
   "outputs": [],
   "source": [
    "\"\"\"\n",
    "DON'T MODIFY ANYTHING IN THIS CELL\n",
    "\"\"\"\n",
    "import tensorflow as tf\n",
    "import numpy as np\n",
    "import helper\n",
    "import problem_unittests as tests\n",
    "\n",
    "_, vocab_to_int, int_to_vocab, token_dict = helper.load_preprocess()\n",
    "seq_length, load_dir = helper.load_params()"
   ]
  },
  {
   "cell_type": "markdown",
   "metadata": {
    "deletable": true,
    "editable": true
   },
   "source": [
    "## Implement Generate Functions\n",
    "### Get Tensors\n",
    "Get tensors from `loaded_graph` using the function [`get_tensor_by_name()`](https://www.tensorflow.org/api_docs/python/tf/Graph#get_tensor_by_name).  Get the tensors using the following names:\n",
    "- \"input:0\"\n",
    "- \"initial_state:0\"\n",
    "- \"final_state:0\"\n",
    "- \"probs:0\"\n",
    "\n",
    "Return the tensors in the following tuple `(InputTensor, InitialStateTensor, FinalStateTensor, ProbsTensor)` "
   ]
  },
  {
   "cell_type": "code",
   "execution_count": 19,
   "metadata": {
    "collapsed": false,
    "deletable": true,
    "editable": true
   },
   "outputs": [
    {
     "name": "stdout",
     "output_type": "stream",
     "text": [
      "Tests Passed\n"
     ]
    }
   ],
   "source": [
    "def get_tensors(loaded_graph):\n",
    "    \"\"\"\n",
    "    Get input, initial state, final state, and probabilities tensor from <loaded_graph>\n",
    "    :param loaded_graph: TensorFlow graph loaded from file\n",
    "    :return: Tuple (InputTensor, InitialStateTensor, FinalStateTensor, ProbsTensor)\n",
    "    \"\"\"\n",
    "    # TODO: Implement Function\n",
    "    inputs = loaded_graph.get_tensor_by_name('input:0')\n",
    "    initial_state = loaded_graph.get_tensor_by_name('initial_state:0')\n",
    "    final_state = loaded_graph.get_tensor_by_name('final_state:0')\n",
    "    probs = loaded_graph.get_tensor_by_name('probs:0')\n",
    "    return inputs, initial_state, final_state, probs\n",
    "\n",
    "\n",
    "\"\"\"\n",
    "DON'T MODIFY ANYTHING IN THIS CELL THAT IS BELOW THIS LINE\n",
    "\"\"\"\n",
    "tests.test_get_tensors(get_tensors)"
   ]
  },
  {
   "cell_type": "markdown",
   "metadata": {
    "deletable": true,
    "editable": true
   },
   "source": [
    "### Choose Word\n",
    "Implement the `pick_word()` function to select the next word using `probabilities`."
   ]
  },
  {
   "cell_type": "code",
   "execution_count": 20,
   "metadata": {
    "collapsed": false,
    "deletable": true,
    "editable": true
   },
   "outputs": [
    {
     "name": "stdout",
     "output_type": "stream",
     "text": [
      "Tests Passed\n"
     ]
    }
   ],
   "source": [
    "def pick_word(probabilities, int_to_vocab):\n",
    "    \"\"\"\n",
    "    Pick the next word in the generated text\n",
    "    :param probabilities: Probabilites of the next word\n",
    "    :param int_to_vocab: Dictionary of word ids as the keys and words as the values\n",
    "    :return: String of the predicted word\n",
    "    \"\"\"\n",
    "    # TODO: Implement Function\n",
    "    weighted_index = np.searchsorted(np.cumsum(probabilities), np.random.rand())\n",
    "    return int_to_vocab[int(weighted_index)]\n",
    "\n",
    "\n",
    "\"\"\"\n",
    "DON'T MODIFY ANYTHING IN THIS CELL THAT IS BELOW THIS LINE\n",
    "\"\"\"\n",
    "tests.test_pick_word(pick_word)"
   ]
  },
  {
   "cell_type": "markdown",
   "metadata": {
    "deletable": true,
    "editable": true
   },
   "source": [
    "## Generate TV Script\n",
    "This will generate the TV script for you.  Set `gen_length` to the length of TV script you want to generate."
   ]
  },
  {
   "cell_type": "code",
   "execution_count": 22,
   "metadata": {
    "collapsed": false,
    "deletable": true,
    "editable": true
   },
   "outputs": [
    {
     "name": "stdout",
     "output_type": "stream",
     "text": [
      "moe_szyslak:(into phone) moe's tavern. where the elite meet to drink.\n",
      "bart_simpson: eh, yeah, hello, is mike there? last name, rotch.\n",
      "moe_szyslak: okay, who you should about me, here, life-threatening,, and uh... ball's on...\n",
      "moe_szyslak:(scornfully) aw, barney have moe?\n",
      "homer_simpson:(to barney) they couldn't hit it the secret. back. to it, this is is?\n",
      "homer_simpson: gimme it!\n",
      "professor_jonathan_frink: moe it, didn't you ever take the bad or you're this.\n",
      "moe_szyslak: now, what., no. there's better past.\n",
      "homer_simpson: i girl ya from only bart thing germany. beer, you gotta put us in a lot reynolds face) they homer...! tv_father:(points at homer) he makes me happen?\n",
      "krusty_the_clown: don't you care so mr.\n",
      "homer_simpson: moe, i want i want two your\" box,\" let's can the beat. yeah. you'll talk, and couldn't have the punch to\n"
     ]
    }
   ],
   "source": [
    "gen_length = 200\n",
    "# homer_simpson, moe_szyslak, or Barney_Gumble\n",
    "prime_word = 'moe_szyslak'\n",
    "\n",
    "\"\"\"\n",
    "DON'T MODIFY ANYTHING IN THIS CELL THAT IS BELOW THIS LINE\n",
    "\"\"\"\n",
    "loaded_graph = tf.Graph()\n",
    "with tf.Session(graph=loaded_graph) as sess:\n",
    "    # Load saved model\n",
    "    loader = tf.train.import_meta_graph(load_dir + '.meta')\n",
    "    loader.restore(sess, load_dir)\n",
    "\n",
    "    # Get Tensors from loaded model\n",
    "    input_text, initial_state, final_state, probs = get_tensors(loaded_graph)\n",
    "\n",
    "    # Sentences generation setup\n",
    "    gen_sentences = [prime_word + ':']\n",
    "    prev_state = sess.run(initial_state, {input_text: np.array([[1]])})\n",
    "\n",
    "    # Generate sentences\n",
    "    for n in range(gen_length):\n",
    "        # Dynamic Input\n",
    "        dyn_input = [[vocab_to_int[word] for word in gen_sentences[-seq_length:]]]\n",
    "        dyn_seq_length = len(dyn_input[0])\n",
    "\n",
    "        # Get Prediction\n",
    "        probabilities, prev_state = sess.run(\n",
    "            [probs, final_state],\n",
    "            {input_text: dyn_input, initial_state: prev_state})\n",
    "        \n",
    "        pred_word = pick_word(probabilities[dyn_seq_length-1], int_to_vocab)\n",
    "\n",
    "        gen_sentences.append(pred_word)\n",
    "    \n",
    "    # Remove tokens\n",
    "    tv_script = ' '.join(gen_sentences)\n",
    "    for key, token in token_dict.items():\n",
    "        ending = ' ' if key in ['\\n', '(', '\"'] else ''\n",
    "        tv_script = tv_script.replace(' ' + token.lower(), key)\n",
    "    tv_script = tv_script.replace('\\n ', '\\n')\n",
    "    tv_script = tv_script.replace('( ', '(')\n",
    "        \n",
    "    print(tv_script)"
   ]
  },
  {
   "cell_type": "markdown",
   "metadata": {
    "deletable": true,
    "editable": true
   },
   "source": [
    "# The TV Script is Nonsensical\n",
    "It's ok if the TV script doesn't make any sense.  We trained on less than a megabyte of text.  In order to get good results, you'll have to use a smaller vocabulary or get more data.  Luckly there's more data!  As we mentioned in the begging of this project, this is a subset of [another dataset](https://www.kaggle.com/wcukierski/the-simpsons-by-the-data).  We didn't have you train on all the data, because that would take too long.  However, you are free to train your neural network on all the data.  After you complete the project, of course.\n",
    "# Submitting This Project\n",
    "When submitting this project, make sure to run all the cells before saving the notebook. Save the notebook file as \"dlnd_tv_script_generation.ipynb\" and save it as a HTML file under \"File\" -> \"Download as\". Include the \"helper.py\" and \"problem_unittests.py\" files in your submission."
   ]
  }
 ],
 "metadata": {
  "kernelspec": {
   "display_name": "Python 3",
   "language": "python",
   "name": "python3"
  },
  "language_info": {
   "codemirror_mode": {
    "name": "ipython",
    "version": 3
   },
   "file_extension": ".py",
   "mimetype": "text/x-python",
   "name": "python",
   "nbconvert_exporter": "python",
   "pygments_lexer": "ipython3",
   "version": "3.6.0"
  }
 },
 "nbformat": 4,
 "nbformat_minor": 0
}
