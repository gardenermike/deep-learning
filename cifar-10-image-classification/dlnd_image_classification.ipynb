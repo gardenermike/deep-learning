{
 "cells": [
  {
   "cell_type": "markdown",
   "metadata": {
    "collapsed": true
   },
   "source": [
    "# Image Classification\n",
    "In this project, you'll classify images from the [CIFAR-10 dataset](https://www.cs.toronto.edu/~kriz/cifar.html).  The dataset consists of airplanes, dogs, cats, and other objects. You'll preprocess the images, then train a convolutional neural network on all the samples. The images need to be normalized and the labels need to be one-hot encoded.  You'll get to apply what you learned and build a convolutional, max pooling, dropout, and fully connected layers.  At the end, you'll get to see your neural network's predictions on the sample images.\n",
    "## Get the Data\n",
    "Run the following cell to download the [CIFAR-10 dataset for python](https://www.cs.toronto.edu/~kriz/cifar-10-python.tar.gz)."
   ]
  },
  {
   "cell_type": "code",
   "execution_count": 2,
   "metadata": {
    "collapsed": false
   },
   "outputs": [
    {
     "name": "stdout",
     "output_type": "stream",
     "text": [
      "All files found!\n"
     ]
    }
   ],
   "source": [
    "\"\"\"\n",
    "DON'T MODIFY ANYTHING IN THIS CELL THAT IS BELOW THIS LINE\n",
    "\"\"\"\n",
    "from urllib.request import urlretrieve\n",
    "from os.path import isfile, isdir\n",
    "from tqdm import tqdm\n",
    "import problem_unittests as tests\n",
    "import tarfile\n",
    "\n",
    "cifar10_dataset_folder_path = 'cifar-10-batches-py'\n",
    "\n",
    "class DLProgress(tqdm):\n",
    "    last_block = 0\n",
    "\n",
    "    def hook(self, block_num=1, block_size=1, total_size=None):\n",
    "        self.total = total_size\n",
    "        self.update((block_num - self.last_block) * block_size)\n",
    "        self.last_block = block_num\n",
    "\n",
    "if not isfile('cifar-10-python.tar.gz'):\n",
    "    with DLProgress(unit='B', unit_scale=True, miniters=1, desc='CIFAR-10 Dataset') as pbar:\n",
    "        urlretrieve(\n",
    "            'https://www.cs.toronto.edu/~kriz/cifar-10-python.tar.gz',\n",
    "            'cifar-10-python.tar.gz',\n",
    "            pbar.hook)\n",
    "\n",
    "if not isdir(cifar10_dataset_folder_path):\n",
    "    with tarfile.open('cifar-10-python.tar.gz') as tar:\n",
    "        tar.extractall()\n",
    "        tar.close()\n",
    "\n",
    "\n",
    "tests.test_folder_path(cifar10_dataset_folder_path)"
   ]
  },
  {
   "cell_type": "markdown",
   "metadata": {},
   "source": [
    "## Explore the Data\n",
    "The dataset is broken into batches to prevent your machine from running out of memory.  The CIFAR-10 dataset consists of 5 batches, named `data_batch_1`, `data_batch_2`, etc.. Each batch contains the labels and images that are one of the following:\n",
    "* airplane\n",
    "* automobile\n",
    "* bird\n",
    "* cat\n",
    "* deer\n",
    "* dog\n",
    "* frog\n",
    "* horse\n",
    "* ship\n",
    "* truck\n",
    "\n",
    "Understanding a dataset is part of making predictions on the data.  Play around with the code cell below by changing the `batch_id` and `sample_id`. The `batch_id` is the id for a batch (1-5). The `sample_id` is the id for a image and label pair in the batch.\n",
    "\n",
    "Ask yourself \"What are all possible labels?\", \"What is the range of values for the image data?\", \"Are the labels in order or random?\".  Answers to questions like these will help you preprocess the data and end up with better predictions."
   ]
  },
  {
   "cell_type": "code",
   "execution_count": 3,
   "metadata": {
    "collapsed": false
   },
   "outputs": [
    {
     "name": "stdout",
     "output_type": "stream",
     "text": [
      "\n",
      "Stats of batch 2:\n",
      "Samples: 10000\n",
      "Label Counts: {0: 984, 1: 1007, 2: 1010, 3: 995, 4: 1010, 5: 988, 6: 1008, 7: 1026, 8: 987, 9: 985}\n",
      "First 20 Labels: [1, 6, 6, 8, 8, 3, 4, 6, 0, 6, 0, 3, 6, 6, 5, 4, 8, 3, 2, 6]\n",
      "\n",
      "Example of Image 500:\n",
      "Image - Min Value: 13 Max Value: 218\n",
      "Image - Shape: (32, 32, 3)\n",
      "Label - Label Id: 4 Name: deer\n"
     ]
    },
    {
     "data": {
      "image/png": "[encoded data removed]",
      "text/plain": [
       "<matplotlib.figure.Figure at 0x7fa512f70160>"
      ]
     },
     "metadata": {
      "image/png": {
       "height": 250,
       "width": 253
      }
     },
     "output_type": "display_data"
    }
   ],
   "source": [
    "%matplotlib inline\n",
    "%config InlineBackend.figure_format = 'retina'\n",
    "\n",
    "import helper\n",
    "import numpy as np\n",
    "\n",
    "# Explore the dataset\n",
    "batch_id = 2\n",
    "sample_id = 500\n",
    "helper.display_stats(cifar10_dataset_folder_path, batch_id, sample_id)"
   ]
  },
  {
   "cell_type": "markdown",
   "metadata": {},
   "source": [
    "## Implement Preprocess Functions\n",
    "### Normalize\n",
    "In the cell below, implement the `normalize` function to take in image data, `x`, and return it as a normalized Numpy array. The values should be in the range of 0 to 1, inclusive.  The return object should be the same shape as `x`."
   ]
  },
  {
   "cell_type": "code",
   "execution_count": 4,
   "metadata": {
    "collapsed": false
   },
   "outputs": [
    {
     "name": "stdout",
     "output_type": "stream",
     "text": [
      "Tests Passed\n"
     ]
    }
   ],
   "source": [
    "def normalize(x):\n",
    "    \"\"\"\n",
    "    Normalize a list of sample image data in the range of 0 to 1\n",
    "    : x: List of image data.  The image shape is (32, 32, 3)\n",
    "    : return: Numpy array of normalize data\n",
    "    \"\"\"\n",
    "    # TODO: Implement Function\n",
    "    max = np.max(x)\n",
    "    min = np.min(x)\n",
    "    scale = max - min\n",
    "    return (x - min) / scale\n",
    "\n",
    "\n",
    "\"\"\"\n",
    "DON'T MODIFY ANYTHING IN THIS CELL THAT IS BELOW THIS LINE\n",
    "\"\"\"\n",
    "tests.test_normalize(normalize)"
   ]
  },
  {
   "cell_type": "markdown",
   "metadata": {},
   "source": [
    "### One-hot encode\n",
    "Just like the previous code cell, you'll be implementing a function for preprocessing.  This time, you'll implement the `one_hot_encode` function. The input, `x`, are a list of labels.  Implement the function to return the list of labels as One-Hot encoded Numpy array.  The possible values for labels are 0 to 9. The one-hot encoding function should return the same encoding for each value between each call to `one_hot_encode`.  Make sure to save the map of encodings outside the function.\n",
    "\n",
    "Hint: Don't reinvent the wheel."
   ]
  },
  {
   "cell_type": "code",
   "execution_count": 5,
   "metadata": {
    "collapsed": false
   },
   "outputs": [
    {
     "name": "stdout",
     "output_type": "stream",
     "text": [
      "Tests Passed\n"
     ]
    }
   ],
   "source": [
    "from sklearn.preprocessing import OneHotEncoder\n",
    "label_count = 10\n",
    "\n",
    "one_hot_encoder = OneHotEncoder(label_count)\n",
    "\n",
    "def one_hot_encode(x):\n",
    "    \"\"\"\n",
    "    One hot encode a list of sample labels. Return a one-hot encoded vector for each label.\n",
    "    : x: List of sample Labels\n",
    "    : return: Numpy array of one-hot encoded labels\n",
    "    \"\"\"\n",
    "    # TODO: Implement Function\n",
    "    one_hots = one_hot_encoder.fit_transform(np.array(x).reshape(-1, 1)).toarray()\n",
    "    #print(one_hots.shape)\n",
    "    \n",
    "    return one_hots\n",
    "\n",
    "\n",
    "\"\"\"\n",
    "DON'T MODIFY ANYTHING IN THIS CELL THAT IS BELOW THIS LINE\n",
    "\"\"\"\n",
    "tests.test_one_hot_encode(one_hot_encode)"
   ]
  },
  {
   "cell_type": "markdown",
   "metadata": {},
   "source": [
    "### Randomize Data\n",
    "As you saw from exploring the data above, the order of the samples are randomized.  It doesn't hurt to randomize it again, but you don't need to for this dataset."
   ]
  },
  {
   "cell_type": "markdown",
   "metadata": {},
   "source": [
    "## Preprocess all the data and save it\n",
    "Running the code cell below will preprocess all the CIFAR-10 data and save it to file. The code below also uses 10% of the training data for validation."
   ]
  },
  {
   "cell_type": "code",
   "execution_count": 6,
   "metadata": {
    "collapsed": false
   },
   "outputs": [],
   "source": [
    "\"\"\"\n",
    "DON'T MODIFY ANYTHING IN THIS CELL\n",
    "\"\"\"\n",
    "# Preprocess Training, Validation, and Testing Data\n",
    "helper.preprocess_and_save_data(cifar10_dataset_folder_path, normalize, one_hot_encode)"
   ]
  },
  {
   "cell_type": "markdown",
   "metadata": {},
   "source": [
    "# Check Point\n",
    "This is your first checkpoint.  If you ever decide to come back to this notebook or have to restart the notebook, you can start from here.  The preprocessed data has been saved to disk."
   ]
  },
  {
   "cell_type": "code",
   "execution_count": 7,
   "metadata": {
    "collapsed": true
   },
   "outputs": [],
   "source": [
    "\"\"\"\n",
    "DON'T MODIFY ANYTHING IN THIS CELL\n",
    "\"\"\"\n",
    "import pickle\n",
    "import problem_unittests as tests\n",
    "import helper\n",
    "\n",
    "# Load the Preprocessed Validation data\n",
    "valid_features, valid_labels = pickle.load(open('preprocess_validation.p', mode='rb'))"
   ]
  },
  {
   "cell_type": "markdown",
   "metadata": {},
   "source": [
    "## Build the network\n",
    "For the neural network, you'll build each layer into a function.  Most of the code you've seen has been outside of functions. To test your code more thoroughly, we require that you put each layer in a function.  This allows us to give you better feedback and test for simple mistakes using our unittests before you submit your project.\n",
    "\n",
    "If you're finding it hard to dedicate enough time for this course a week, we've provided a small shortcut to this part of the project. In the next couple of problems, you'll have the option to use [TensorFlow Layers](https://www.tensorflow.org/api_docs/python/tf/layers) or [TensorFlow Layers (contrib)](https://www.tensorflow.org/api_guides/python/contrib.layers) to build each layer, except \"Convolutional & Max Pooling\" layer.  TF Layers is similar to Keras's and TFLearn's abstraction to layers, so it's easy to pickup.\n",
    "\n",
    "If you would like to get the most of this course, try to solve all the problems without TF Layers.  Let's begin!\n",
    "### Input\n",
    "The neural network needs to read the image data, one-hot encoded labels, and dropout keep probability. Implement the following functions\n",
    "* Implement `neural_net_image_input`\n",
    " * Return a [TF Placeholder](https://www.tensorflow.org/api_docs/python/tf/placeholder)\n",
    " * Set the shape using `image_shape` with batch size set to `None`.\n",
    " * Name the TensorFlow placeholder \"x\" using the TensorFlow `name` parameter in the [TF Placeholder](https://www.tensorflow.org/api_docs/python/tf/placeholder).\n",
    "* Implement `neural_net_label_input`\n",
    " * Return a [TF Placeholder](https://www.tensorflow.org/api_docs/python/tf/placeholder)\n",
    " * Set the shape using `n_classes` with batch size set to `None`.\n",
    " * Name the TensorFlow placeholder \"y\" using the TensorFlow `name` parameter in the [TF Placeholder](https://www.tensorflow.org/api_docs/python/tf/placeholder).\n",
    "* Implement `neural_net_keep_prob_input`\n",
    " * Return a [TF Placeholder](https://www.tensorflow.org/api_docs/python/tf/placeholder) for dropout keep probability.\n",
    " * Name the TensorFlow placeholder \"keep_prob\" using the TensorFlow `name` parameter in the [TF Placeholder](https://www.tensorflow.org/api_docs/python/tf/placeholder).\n",
    "\n",
    "These names will be used at the end of the project to load your saved model.\n",
    "\n",
    "Note: `None` for shapes in TensorFlow allow for a dynamic size."
   ]
  },
  {
   "cell_type": "code",
   "execution_count": 8,
   "metadata": {
    "collapsed": false
   },
   "outputs": [
    {
     "name": "stdout",
     "output_type": "stream",
     "text": [
      "Image Input Tests Passed.\n",
      "Label Input Tests Passed.\n",
      "Keep Prob Tests Passed.\n"
     ]
    }
   ],
   "source": [
    "import tensorflow as tf\n",
    "\n",
    "def neural_net_image_input(image_shape):\n",
    "    \"\"\"\n",
    "    Return a Tensor for a batch of image input\n",
    "    : image_shape: Shape of the images\n",
    "    : return: Tensor for image input.\n",
    "    \"\"\"\n",
    "    # TODO: Implement Function\n",
    "    shape_with_batch = (None,) + image_shape\n",
    "    #print(shape_with_batch)\n",
    "    return tf.placeholder(tf.float32, shape=shape_with_batch, name='x')\n",
    "\n",
    "\n",
    "def neural_net_label_input(n_classes):\n",
    "    \"\"\"\n",
    "    Return a Tensor for a batch of label input\n",
    "    : n_classes: Number of classes\n",
    "    : return: Tensor for label input.\n",
    "    \"\"\"\n",
    "    # TODO: Implement Function\n",
    "    return tf.placeholder(tf.float32, shape=(None, n_classes), name='y')\n",
    "\n",
    "\n",
    "def neural_net_keep_prob_input():\n",
    "    \"\"\"\n",
    "    Return a Tensor for keep probability\n",
    "    : return: Tensor for keep probability.\n",
    "    \"\"\"\n",
    "    # TODO: Implement Function\n",
    "    return tf.placeholder(tf.float32, name=\"keep_prob\")\n",
    "\n",
    "\n",
    "\"\"\"\n",
    "DON'T MODIFY ANYTHING IN THIS CELL THAT IS BELOW THIS LINE\n",
    "\"\"\"\n",
    "tf.reset_default_graph()\n",
    "tests.test_nn_image_inputs(neural_net_image_input)\n",
    "tests.test_nn_label_inputs(neural_net_label_input)\n",
    "tests.test_nn_keep_prob_inputs(neural_net_keep_prob_input)"
   ]
  },
  {
   "cell_type": "markdown",
   "metadata": {},
   "source": [
    "### Convolution and Max Pooling Layer\n",
    "Convolution layers have a lot of success with images. For this code cell, you should implement the function `conv2d_maxpool` to apply convolution then max pooling:\n",
    "* Create the weight and bias using `conv_ksize`, `conv_num_outputs` and the shape of `x_tensor`.\n",
    "* Apply a convolution to `x_tensor` using weight and `conv_strides`.\n",
    " * We recommend you use same padding, but you're welcome to use any padding.\n",
    "* Add bias\n",
    "* Add a nonlinear activation to the convolution.\n",
    "* Apply Max Pooling using `pool_ksize` and `pool_strides`.\n",
    " * We recommend you use same padding, but you're welcome to use any padding.\n",
    "\n",
    "Note: You **can't** use [TensorFlow Layers](https://www.tensorflow.org/api_docs/python/tf/layers) or [TensorFlow Layers (contrib)](https://www.tensorflow.org/api_guides/python/contrib.layers) for this layer.  You're free to use any TensorFlow package for all the other layers."
   ]
  },
  {
   "cell_type": "code",
   "execution_count": 117,
   "metadata": {
    "collapsed": false,
    "scrolled": true
   },
   "outputs": [
    {
     "name": "stdout",
     "output_type": "stream",
     "text": [
      "Tests Passed\n"
     ]
    }
   ],
   "source": [
    "import re\n",
    "weights = {}\n",
    "biases = {}\n",
    "\n",
    "def conv2d_maxpool(x_tensor, conv_num_outputs, conv_ksize, conv_strides, pool_ksize, pool_strides):\n",
    "    \"\"\"\n",
    "    Apply convolution then max pooling to x_tensor\n",
    "    :param x_tensor: TensorFlow Tensor\n",
    "    :param conv_num_outputs: Number of outputs for the convolutional layer\n",
    "    :param conv_strides: Stride 2-D Tuple for convolution\n",
    "    :param pool_ksize: kernal size 2-D Tuple for pool\n",
    "    :param pool_strides: Stride 2-D Tuple for pool\n",
    "    : return: A tensor that represents convolution and max pooling of x_tensor\n",
    "    \"\"\"\n",
    "    # TODO: Implement Function\n",
    "    x_size = x_tensor.get_shape().as_list()\n",
    "    x_base_name = re.sub(':.*', '',  x_tensor.name)\n",
    "    \n",
    "    if not weights.get(x_base_name):\n",
    "        input_channels = x_size[3]\n",
    "        weights[x_base_name] = tf.Variable(tf.random_normal(conv_ksize + (input_channels, conv_num_outputs)),\n",
    "                      name=\"weights_for_\" + x_base_name)\n",
    "        \n",
    "        biases[x_base_name] = tf.Variable(tf.zeros(conv_num_outputs))\n",
    "        \n",
    "    conv = tf.nn.conv2d(x_tensor, weights[x_base_name], (1,) + conv_strides + (1,), 'SAME')\n",
    "    #conv = tf.Print(conv, [weights[x_base_name]])\n",
    "    conv = tf.add(conv, biases[x_base_name])\n",
    "    conv = tf.nn.relu(conv)\n",
    "    \n",
    "    conv = tf.nn.max_pool(conv, (1,) + pool_ksize + (1,), (1,) + pool_strides + (1,), 'SAME')\n",
    "\n",
    "    return conv \n",
    "\n",
    "\n",
    "\"\"\"\n",
    "DON'T MODIFY ANYTHING IN THIS CELL THAT IS BELOW THIS LINE\n",
    "\"\"\"\n",
    "tests.test_con_pool(conv2d_maxpool)"
   ]
  },
  {
   "cell_type": "markdown",
   "metadata": {},
   "source": [
    "### Flatten Layer\n",
    "Implement the `flatten` function to change the dimension of `x_tensor` from a 4-D tensor to a 2-D tensor.  The output should be the shape (*Batch Size*, *Flattened Image Size*). You can use [TensorFlow Layers](https://www.tensorflow.org/api_docs/python/tf/layers) or [TensorFlow Layers (contrib)](https://www.tensorflow.org/api_guides/python/contrib.layers) for this layer."
   ]
  },
  {
   "cell_type": "code",
   "execution_count": 10,
   "metadata": {
    "collapsed": false
   },
   "outputs": [
    {
     "name": "stdout",
     "output_type": "stream",
     "text": [
      "Tests Passed\n"
     ]
    }
   ],
   "source": [
    "def flatten(x_tensor):\n",
    "    \"\"\"\n",
    "    Flatten x_tensor to (Batch Size, Flattened Image Size)\n",
    "    : x_tensor: A tensor of size (Batch Size, ...), where ... are the image dimensions.\n",
    "    : return: A tensor of size (Batch Size, Flattened Image Size).\n",
    "    \"\"\"\n",
    "    # TODO: Implement Function\n",
    "    return tf.contrib.layers.flatten(x_tensor)\n",
    "\n",
    "\n",
    "\"\"\"\n",
    "DON'T MODIFY ANYTHING IN THIS CELL THAT IS BELOW THIS LINE\n",
    "\"\"\"\n",
    "tests.test_flatten(flatten)"
   ]
  },
  {
   "cell_type": "markdown",
   "metadata": {},
   "source": [
    "### Fully-Connected Layer\n",
    "Implement the `fully_conn` function to apply a fully connected layer to `x_tensor` with the shape (*Batch Size*, *num_outputs*). You can use [TensorFlow Layers](https://www.tensorflow.org/api_docs/python/tf/layers) or [TensorFlow Layers (contrib)](https://www.tensorflow.org/api_guides/python/contrib.layers) for this layer."
   ]
  },
  {
   "cell_type": "code",
   "execution_count": 11,
   "metadata": {
    "collapsed": false
   },
   "outputs": [
    {
     "name": "stdout",
     "output_type": "stream",
     "text": [
      "Tests Passed\n"
     ]
    }
   ],
   "source": [
    "def fully_conn(x_tensor, num_outputs):\n",
    "    \"\"\"\n",
    "    Apply a fully connected layer to x_tensor using weight and bias\n",
    "    : x_tensor: A 2-D tensor where the first dimension is batch size.\n",
    "    : num_outputs: The number of output that the new tensor should be.\n",
    "    : return: A 2-D tensor where the second dimension is num_outputs.\n",
    "    \"\"\"\n",
    "    # TODO: Implement Function\n",
    "    return tf.layers.dense(x_tensor, num_outputs)\n",
    "\n",
    "\n",
    "\"\"\"\n",
    "DON'T MODIFY ANYTHING IN THIS CELL THAT IS BELOW THIS LINE\n",
    "\"\"\"\n",
    "tests.test_fully_conn(fully_conn)"
   ]
  },
  {
   "cell_type": "markdown",
   "metadata": {},
   "source": [
    "### Output Layer\n",
    "Implement the `output` function to apply a fully connected layer to `x_tensor` with the shape (*Batch Size*, *num_outputs*). You can use [TensorFlow Layers](https://www.tensorflow.org/api_docs/python/tf/layers) or [TensorFlow Layers (contrib)](https://www.tensorflow.org/api_guides/python/contrib.layers) for this layer.\n",
    "\n",
    "Note: Activation, softmax, or cross entropy shouldn't be applied to this."
   ]
  },
  {
   "cell_type": "code",
   "execution_count": 12,
   "metadata": {
    "collapsed": false
   },
   "outputs": [
    {
     "name": "stdout",
     "output_type": "stream",
     "text": [
      "Tests Passed\n"
     ]
    }
   ],
   "source": [
    "def output(x_tensor, num_outputs):\n",
    "    \"\"\"\n",
    "    Apply a output layer to x_tensor using weight and bias\n",
    "    : x_tensor: A 2-D tensor where the first dimension is batch size.\n",
    "    : num_outputs: The number of output that the new tensor should be.\n",
    "    : return: A 2-D tensor where the second dimension is num_outputs.\n",
    "    \"\"\"\n",
    "    # TODO: Implement Function\n",
    "    return tf.layers.dense(x_tensor, num_outputs)\n",
    "\n",
    "\n",
    "\"\"\"\n",
    "DON'T MODIFY ANYTHING IN THIS CELL THAT IS BELOW THIS LINE\n",
    "\"\"\"\n",
    "tests.test_output(output)"
   ]
  },
  {
   "cell_type": "markdown",
   "metadata": {},
   "source": [
    "### Create Convolutional Model\n",
    "Implement the function `conv_net` to create a convolutional neural network model. The function takes in a batch of images, `x`, and outputs logits.  Use the layers you created above to create this model:\n",
    "\n",
    "* Apply 1, 2, or 3 Convolution and Max Pool layers\n",
    "* Apply a Flatten Layer\n",
    "* Apply 1, 2, or 3 Fully Connected Layers\n",
    "* Apply an Output Layer\n",
    "* Return the output\n",
    "* Apply [TensorFlow's Dropout](https://www.tensorflow.org/api_docs/python/tf/nn/dropout) to one or more layers in the model using `keep_prob`. "
   ]
  },
  {
   "cell_type": "code",
   "execution_count": 118,
   "metadata": {
    "collapsed": false
   },
   "outputs": [
    {
     "name": "stdout",
     "output_type": "stream",
     "text": [
      "Neural Network Built!\n"
     ]
    }
   ],
   "source": [
    "label_count = 10\n",
    "\n",
    "def conv_net(x, keep_prob):\n",
    "    \"\"\"\n",
    "    Create a convolutional neural network model\n",
    "    : x: Placeholder tensor that holds image data.\n",
    "    : keep_prob: Placeholder tensor that hold dropout keep probability.\n",
    "    : return: Tensor that represents logits\n",
    "    \"\"\"\n",
    "    # TODO: Apply 1, 2, or 3 Convolution and Max Pool layers\n",
    "    #    Play around with different number of outputs, kernel size and stride\n",
    "    # Function Definition from Above:\n",
    "    #    conv2d_maxpool(x_tensor, conv_num_outputs, conv_ksize, conv_strides, pool_ksize, pool_strides)\n",
    "    model = conv2d_maxpool(x, 32, (3, 3), (2, 2), (2, 2), (2, 2))\n",
    "    #model = tf.nn.dropout(model, keep_prob)\n",
    "    model = conv2d_maxpool(model, 64, (2, 2), (1, 1), (2, 2), (1, 1))\n",
    "    #model = tf.nn.dropout(model, keep_prob)\n",
    "    model = conv2d_maxpool(model, 64, (1, 1), (1, 1), (1, 1), (1, 1))\n",
    "    #model = tf.nn.dropout(model, keep_prob)\n",
    "    \n",
    "\n",
    "    # TODO: Apply a Flatten Layer\n",
    "    # Function Definition from Above:\n",
    "    #   flatten(x_tensor)\n",
    "    model = flatten(model)\n",
    "    \n",
    "\n",
    "    # TODO: Apply 1, 2, or 3 Fully Connected Layers\n",
    "    #    Play around with different number of outputs\n",
    "    # Function Definition from Above:\n",
    "    #   fully_conn(x_tensor, num_outputs)\n",
    "    model = fully_conn(model, 512)\n",
    "    \n",
    "    #dropout to output of first fully-connected layer\n",
    "    model = tf.nn.dropout(model, keep_prob)\n",
    "    \n",
    "    model = fully_conn(model, 256)\n",
    "    model = tf.nn.dropout(model, keep_prob)\n",
    "    \n",
    "    model = fully_conn(model, 128)\n",
    "    model = tf.nn.dropout(model, keep_prob)\n",
    "    \n",
    "    \n",
    "    # TODO: Apply an Output Layer\n",
    "    #    Set this to the number of classes\n",
    "    # Function Definition from Above:\n",
    "    #   output(x_tensor, num_outputs)\n",
    "    model = output(model, label_count)\n",
    "\n",
    "    \n",
    "    \n",
    "    # TODO: return output\n",
    "    return model\n",
    "\n",
    "\n",
    "\"\"\"\n",
    "DON'T MODIFY ANYTHING IN THIS CELL THAT IS BELOW THIS LINE\n",
    "\"\"\"\n",
    "\n",
    "##############################\n",
    "## Build the Neural Network ##\n",
    "##############################\n",
    "\n",
    "# Remove previous weights, bias, inputs, etc..\n",
    "tf.reset_default_graph()\n",
    "\n",
    "# Inputs\n",
    "x = neural_net_image_input((32, 32, 3))\n",
    "y = neural_net_label_input(10)\n",
    "keep_prob = neural_net_keep_prob_input()\n",
    "\n",
    "# Model\n",
    "logits = conv_net(x, keep_prob)\n",
    "\n",
    "# Name logits Tensor, so that is can be loaded from disk after training\n",
    "logits = tf.identity(logits, name='logits')\n",
    "\n",
    "# Loss and Optimizer\n",
    "cost = tf.reduce_mean(tf.nn.softmax_cross_entropy_with_logits(logits=logits, labels=y))\n",
    "optimizer = tf.train.AdamOptimizer().minimize(cost)\n",
    "\n",
    "# Accuracy\n",
    "correct_pred = tf.equal(tf.argmax(logits, 1), tf.argmax(y, 1))\n",
    "accuracy = tf.reduce_mean(tf.cast(correct_pred, tf.float32), name='accuracy')\n",
    "\n",
    "tests.test_conv_net(conv_net)"
   ]
  },
  {
   "cell_type": "markdown",
   "metadata": {},
   "source": [
    "## Train the Neural Network\n",
    "### Single Optimization\n",
    "Implement the function `train_neural_network` to do a single optimization.  The optimization should use `optimizer` to optimize in `session` with a `feed_dict` of the following:\n",
    "* `x` for image input\n",
    "* `y` for labels\n",
    "* `keep_prob` for keep probability for dropout\n",
    "\n",
    "This function will be called for each batch, so `tf.global_variables_initializer()` has already been called.\n",
    "\n",
    "Note: Nothing needs to be returned. This function is only optimizing the neural network."
   ]
  },
  {
   "cell_type": "code",
   "execution_count": 16,
   "metadata": {
    "collapsed": false
   },
   "outputs": [
    {
     "name": "stdout",
     "output_type": "stream",
     "text": [
      "Tests Passed\n"
     ]
    }
   ],
   "source": [
    "def train_neural_network(session, optimizer, keep_probability, feature_batch, label_batch):\n",
    "    \"\"\"\n",
    "    Optimize the session on a batch of images and labels\n",
    "    : session: Current TensorFlow session\n",
    "    : optimizer: TensorFlow optimizer function\n",
    "    : keep_probability: keep probability\n",
    "    : feature_batch: Batch of Numpy image data\n",
    "    : label_batch: Batch of Numpy label data\n",
    "    \"\"\"\n",
    "    # TODO: Implement Function\n",
    "    session.run(optimizer, feed_dict={x: feature_batch, y: label_batch,\n",
    "                                       keep_prob: keep_probability})\n",
    "\n",
    "\n",
    "\"\"\"\n",
    "DON'T MODIFY ANYTHING IN THIS CELL THAT IS BELOW THIS LINE\n",
    "\"\"\"\n",
    "tests.test_train_nn(train_neural_network)"
   ]
  },
  {
   "cell_type": "markdown",
   "metadata": {},
   "source": [
    "### Show Stats\n",
    "Implement the function `print_stats` to print loss and validation accuracy.  Use the global variables `valid_features` and `valid_labels` to calculate validation accuracy.  Use a keep probability of `1.0` to calculate the loss and validation accuracy."
   ]
  },
  {
   "cell_type": "code",
   "execution_count": 17,
   "metadata": {
    "collapsed": false
   },
   "outputs": [],
   "source": [
    "def print_stats(session, feature_batch, label_batch, cost, accuracy):\n",
    "    \"\"\"\n",
    "    Print information about loss and validation accuracy\n",
    "    : session: Current TensorFlow session\n",
    "    : feature_batch: Batch of Numpy image data\n",
    "    : label_batch: Batch of Numpy label data\n",
    "    : cost: TensorFlow cost function\n",
    "    : accuracy: TensorFlow accuracy function\n",
    "    \"\"\"\n",
    "    # TODO: Implement Function\n",
    "    loss, acc = session.run([cost, accuracy], feed_dict={x: feature_batch, y: label_batch, keep_prob: 1.})\n",
    "    print(\"Batch Loss= \" + \\\n",
    "        \"{:.6f}\".format(loss) + \\\n",
    "        \", Training Accuracy= \" + \\\n",
    "        \"{:.5f}\".format(acc))\n",
    "    "
   ]
  },
  {
   "cell_type": "markdown",
   "metadata": {},
   "source": [
    "### Hyperparameters\n",
    "Tune the following parameters:\n",
    "* Set `epochs` to the number of iterations until the network stops learning or start overfitting\n",
    "* Set `batch_size` to the highest number that your machine has memory for.  Most people set them to common sizes of memory:\n",
    " * 64\n",
    " * 128\n",
    " * 256\n",
    " * ...\n",
    "* Set `keep_probability` to the probability of keeping a node using dropout"
   ]
  },
  {
   "cell_type": "code",
   "execution_count": 126,
   "metadata": {
    "collapsed": true
   },
   "outputs": [],
   "source": [
    "# TODO: Tune Parameters\n",
    "epochs = 75\n",
    "batch_size = 8192\n",
    "keep_probability = 0.7"
   ]
  },
  {
   "cell_type": "markdown",
   "metadata": {},
   "source": [
    "### Train on a Single CIFAR-10 Batch\n",
    "Instead of training the neural network on all the CIFAR-10 batches of data, let's use a single batch. This should save time while you iterate on the model to get a better accuracy.  Once the final validation accuracy is 50% or greater, run the model on all the data in the next section."
   ]
  },
  {
   "cell_type": "code",
   "execution_count": 127,
   "metadata": {
    "collapsed": false
   },
   "outputs": [
    {
     "name": "stdout",
     "output_type": "stream",
     "text": [
      "Checking the Training on a Single Batch...\n",
      "Epoch  1, CIFAR-10 Batch 1:  Batch Loss= 2650.652100, Training Accuracy= 0.10396\n",
      "Epoch  2, CIFAR-10 Batch 1:  Batch Loss= 2060.007080, Training Accuracy= 0.09777\n",
      "Epoch  3, CIFAR-10 Batch 1:  Batch Loss= 1480.156250, Training Accuracy= 0.09901\n",
      "Epoch  4, CIFAR-10 Batch 1:  Batch Loss= 1305.602173, Training Accuracy= 0.10396\n",
      "Epoch  5, CIFAR-10 Batch 1:  Batch Loss= 651.281921, Training Accuracy= 0.15594\n",
      "Epoch  6, CIFAR-10 Batch 1:  Batch Loss= 617.518738, Training Accuracy= 0.11634\n",
      "Epoch  7, CIFAR-10 Batch 1:  Batch Loss= 378.616241, Training Accuracy= 0.15842\n",
      "Epoch  8, CIFAR-10 Batch 1:  Batch Loss= 246.783325, Training Accuracy= 0.21782\n",
      "Epoch  9, CIFAR-10 Batch 1:  Batch Loss= 229.974121, Training Accuracy= 0.24381\n",
      "Epoch 10, CIFAR-10 Batch 1:  Batch Loss= 251.707367, Training Accuracy= 0.21658\n",
      "Epoch 11, CIFAR-10 Batch 1:  Batch Loss= 179.444031, Training Accuracy= 0.23639\n",
      "Epoch 12, CIFAR-10 Batch 1:  Batch Loss= 113.044846, Training Accuracy= 0.31807\n",
      "Epoch 13, CIFAR-10 Batch 1:  Batch Loss= 138.667542, Training Accuracy= 0.25619\n",
      "Epoch 14, CIFAR-10 Batch 1:  Batch Loss= 119.958374, Training Accuracy= 0.29084\n",
      "Epoch 15, CIFAR-10 Batch 1:  Batch Loss= 62.201656, Training Accuracy= 0.40347\n",
      "Epoch 16, CIFAR-10 Batch 1:  Batch Loss= 62.623848, Training Accuracy= 0.39233\n",
      "Epoch 17, CIFAR-10 Batch 1:  Batch Loss= 55.728546, Training Accuracy= 0.40965\n",
      "Epoch 18, CIFAR-10 Batch 1:  Batch Loss= 47.518154, Training Accuracy= 0.45297\n",
      "Epoch 19, CIFAR-10 Batch 1:  Batch Loss= 43.959064, Training Accuracy= 0.46906\n",
      "Epoch 20, CIFAR-10 Batch 1:  Batch Loss= 38.629265, Training Accuracy= 0.47401\n",
      "Epoch 21, CIFAR-10 Batch 1:  Batch Loss= 34.888924, Training Accuracy= 0.49752\n",
      "Epoch 22, CIFAR-10 Batch 1:  Batch Loss= 32.456390, Training Accuracy= 0.50124\n",
      "Epoch 23, CIFAR-10 Batch 1:  Batch Loss= 26.513016, Training Accuracy= 0.53342\n",
      "Epoch 24, CIFAR-10 Batch 1:  Batch Loss= 24.082823, Training Accuracy= 0.52475\n",
      "Epoch 25, CIFAR-10 Batch 1:  Batch Loss= 21.897131, Training Accuracy= 0.57426\n",
      "Epoch 26, CIFAR-10 Batch 1:  Batch Loss= 19.019600, Training Accuracy= 0.58540\n",
      "Epoch 27, CIFAR-10 Batch 1:  Batch Loss= 16.984213, Training Accuracy= 0.59653\n",
      "Epoch 28, CIFAR-10 Batch 1:  Batch Loss= 17.120966, Training Accuracy= 0.59035\n",
      "Epoch 29, CIFAR-10 Batch 1:  Batch Loss= 16.258671, Training Accuracy= 0.61757\n",
      "Epoch 30, CIFAR-10 Batch 1:  Batch Loss= 14.422939, Training Accuracy= 0.63119\n",
      "Epoch 31, CIFAR-10 Batch 1:  Batch Loss= 15.239635, Training Accuracy= 0.63366\n",
      "Epoch 32, CIFAR-10 Batch 1:  Batch Loss= 15.398676, Training Accuracy= 0.61634\n",
      "Epoch 33, CIFAR-10 Batch 1:  Batch Loss= 12.465914, Training Accuracy= 0.65718\n",
      "Epoch 34, CIFAR-10 Batch 1:  Batch Loss= 13.459995, Training Accuracy= 0.65718\n",
      "Epoch 35, CIFAR-10 Batch 1:  Batch Loss= 9.820022, Training Accuracy= 0.69802\n",
      "Epoch 36, CIFAR-10 Batch 1:  Batch Loss= 10.378623, Training Accuracy= 0.66955\n",
      "Epoch 37, CIFAR-10 Batch 1:  Batch Loss= 7.848393, Training Accuracy= 0.73144\n",
      "Epoch 38, CIFAR-10 Batch 1:  Batch Loss= 7.290900, Training Accuracy= 0.73886\n",
      "Epoch 39, CIFAR-10 Batch 1:  Batch Loss= 6.677406, Training Accuracy= 0.74629\n",
      "Epoch 40, CIFAR-10 Batch 1:  Batch Loss= 6.750481, Training Accuracy= 0.74876\n",
      "Epoch 41, CIFAR-10 Batch 1:  Batch Loss= 6.150746, Training Accuracy= 0.74629\n",
      "Epoch 42, CIFAR-10 Batch 1:  Batch Loss= 5.992141, Training Accuracy= 0.76609\n",
      "Epoch 43, CIFAR-10 Batch 1:  Batch Loss= 6.659091, Training Accuracy= 0.74629\n",
      "Epoch 44, CIFAR-10 Batch 1:  Batch Loss= 6.532151, Training Accuracy= 0.74752\n",
      "Epoch 45, CIFAR-10 Batch 1:  Batch Loss= 5.156762, Training Accuracy= 0.78837\n",
      "Epoch 46, CIFAR-10 Batch 1:  Batch Loss= 4.533476, Training Accuracy= 0.80074\n",
      "Epoch 47, CIFAR-10 Batch 1:  Batch Loss= 6.127605, Training Accuracy= 0.75619\n",
      "Epoch 48, CIFAR-10 Batch 1:  Batch Loss= 5.781339, Training Accuracy= 0.78094\n",
      "Epoch 49, CIFAR-10 Batch 1:  Batch Loss= 5.080435, Training Accuracy= 0.77351\n",
      "Epoch 50, CIFAR-10 Batch 1:  Batch Loss= 5.364045, Training Accuracy= 0.78589\n",
      "Epoch 51, CIFAR-10 Batch 1:  Batch Loss= 4.851193, Training Accuracy= 0.79084\n",
      "Epoch 52, CIFAR-10 Batch 1:  Batch Loss= 5.517272, Training Accuracy= 0.77599\n",
      "Epoch 53, CIFAR-10 Batch 1:  Batch Loss= 4.012429, Training Accuracy= 0.80941\n",
      "Epoch 54, CIFAR-10 Batch 1:  Batch Loss= 4.049273, Training Accuracy= 0.82673\n",
      "Epoch 55, CIFAR-10 Batch 1:  Batch Loss= 9.344522, Training Accuracy= 0.73020\n",
      "Epoch 56, CIFAR-10 Batch 1:  Batch Loss= 11.454159, Training Accuracy= 0.70668\n",
      "Epoch 57, CIFAR-10 Batch 1:  Batch Loss= 10.291881, Training Accuracy= 0.72525\n",
      "Epoch 58, CIFAR-10 Batch 1:  Batch Loss= 9.973820, Training Accuracy= 0.74381\n",
      "Epoch 59, CIFAR-10 Batch 1:  Batch Loss= 9.425293, Training Accuracy= 0.70792\n",
      "Epoch 60, CIFAR-10 Batch 1:  Batch Loss= 8.696928, Training Accuracy= 0.71906\n",
      "Epoch 61, CIFAR-10 Batch 1:  Batch Loss= 6.082809, Training Accuracy= 0.78465\n",
      "Epoch 62, CIFAR-10 Batch 1:  Batch Loss= 4.127244, Training Accuracy= 0.82302\n",
      "Epoch 63, CIFAR-10 Batch 1:  Batch Loss= 5.552701, Training Accuracy= 0.78837\n",
      "Epoch 64, CIFAR-10 Batch 1:  Batch Loss= 6.302419, Training Accuracy= 0.76733\n",
      "Epoch 65, CIFAR-10 Batch 1:  Batch Loss= 7.300603, Training Accuracy= 0.75495\n",
      "Epoch 66, CIFAR-10 Batch 1:  Batch Loss= 6.161915, Training Accuracy= 0.77104\n",
      "Epoch 67, CIFAR-10 Batch 1:  Batch Loss= 8.384263, Training Accuracy= 0.75866\n",
      "Epoch 68, CIFAR-10 Batch 1:  Batch Loss= 4.228240, Training Accuracy= 0.80693\n",
      "Epoch 69, CIFAR-10 Batch 1:  Batch Loss= 7.962542, Training Accuracy= 0.78094\n",
      "Epoch 70, CIFAR-10 Batch 1:  Batch Loss= 6.795936, Training Accuracy= 0.75371\n",
      "Epoch 71, CIFAR-10 Batch 1:  Batch Loss= 11.442718, Training Accuracy= 0.70173\n",
      "Epoch 72, CIFAR-10 Batch 1:  Batch Loss= 15.707530, Training Accuracy= 0.63366\n",
      "Epoch 73, CIFAR-10 Batch 1:  Batch Loss= 11.879913, Training Accuracy= 0.76609\n",
      "Epoch 74, CIFAR-10 Batch 1:  Batch Loss= 6.671702, Training Accuracy= 0.75124\n",
      "Epoch 75, CIFAR-10 Batch 1:  Batch Loss= 4.318388, Training Accuracy= 0.83663\n"
     ]
    }
   ],
   "source": [
    "\"\"\"\n",
    "DON'T MODIFY ANYTHING IN THIS CELL\n",
    "\"\"\"\n",
    "print('Checking the Training on a Single Batch...')\n",
    "with tf.Session() as sess:\n",
    "    # Initializing the variables\n",
    "    sess.run(tf.global_variables_initializer())\n",
    "    \n",
    "    # Training cycle\n",
    "    for epoch in range(epochs):\n",
    "        batch_i = 1\n",
    "        for batch_features, batch_labels in helper.load_preprocess_training_batch(batch_i, batch_size):\n",
    "            train_neural_network(sess, optimizer, keep_probability, batch_features, batch_labels)\n",
    "        print('Epoch {:>2}, CIFAR-10 Batch {}:  '.format(epoch + 1, batch_i), end='')\n",
    "        print_stats(sess, batch_features, batch_labels, cost, accuracy)"
   ]
  },
  {
   "cell_type": "markdown",
   "metadata": {},
   "source": [
    "### Fully Train the Model\n",
    "Now that you got a good accuracy with a single CIFAR-10 batch, try it with all five batches."
   ]
  },
  {
   "cell_type": "code",
   "execution_count": 128,
   "metadata": {
    "collapsed": false
   },
   "outputs": [
    {
     "name": "stdout",
     "output_type": "stream",
     "text": [
      "Training...\n",
      "Epoch  1, CIFAR-10 Batch 1:  Batch Loss= 2469.845459, Training Accuracy= 0.09901\n",
      "Epoch  1, CIFAR-10 Batch 2:  Batch Loss= 2012.942017, Training Accuracy= 0.09901\n",
      "Epoch  1, CIFAR-10 Batch 3:  Batch Loss= 1564.744873, Training Accuracy= 0.14728\n",
      "Epoch  1, CIFAR-10 Batch 4:  Batch Loss= 766.965759, Training Accuracy= 0.14604\n",
      "Epoch  1, CIFAR-10 Batch 5:  Batch Loss= 737.003967, Training Accuracy= 0.16708\n",
      "Epoch  2, CIFAR-10 Batch 1:  Batch Loss= 453.263733, Training Accuracy= 0.16832\n",
      "Epoch  2, CIFAR-10 Batch 2:  Batch Loss= 433.192413, Training Accuracy= 0.17822\n",
      "Epoch  2, CIFAR-10 Batch 3:  Batch Loss= 248.989227, Training Accuracy= 0.24010\n",
      "Epoch  2, CIFAR-10 Batch 4:  Batch Loss= 293.055481, Training Accuracy= 0.25866\n",
      "Epoch  2, CIFAR-10 Batch 5:  Batch Loss= 234.875244, Training Accuracy= 0.26856\n",
      "Epoch  3, CIFAR-10 Batch 1:  Batch Loss= 177.363327, Training Accuracy= 0.29208\n",
      "Epoch  3, CIFAR-10 Batch 2:  Batch Loss= 154.811371, Training Accuracy= 0.28589\n",
      "Epoch  3, CIFAR-10 Batch 3:  Batch Loss= 162.927719, Training Accuracy= 0.21040\n",
      "Epoch  3, CIFAR-10 Batch 4:  Batch Loss= 128.796478, Training Accuracy= 0.29827\n",
      "Epoch  3, CIFAR-10 Batch 5:  Batch Loss= 99.411697, Training Accuracy= 0.31683\n",
      "Epoch  4, CIFAR-10 Batch 1:  Batch Loss= 87.555183, Training Accuracy= 0.31559\n",
      "Epoch  4, CIFAR-10 Batch 2:  Batch Loss= 74.593445, Training Accuracy= 0.33911\n",
      "Epoch  4, CIFAR-10 Batch 3:  Batch Loss= 62.325600, Training Accuracy= 0.34282\n",
      "Epoch  4, CIFAR-10 Batch 4:  Batch Loss= 62.215744, Training Accuracy= 0.36634\n",
      "Epoch  4, CIFAR-10 Batch 5:  Batch Loss= 51.664154, Training Accuracy= 0.38119\n",
      "Epoch  5, CIFAR-10 Batch 1:  Batch Loss= 48.465576, Training Accuracy= 0.37871\n",
      "Epoch  5, CIFAR-10 Batch 2:  Batch Loss= 44.803825, Training Accuracy= 0.41089\n",
      "Epoch  5, CIFAR-10 Batch 3:  Batch Loss= 38.187836, Training Accuracy= 0.39851\n",
      "Epoch  5, CIFAR-10 Batch 4:  Batch Loss= 35.363289, Training Accuracy= 0.44554\n",
      "Epoch  5, CIFAR-10 Batch 5:  Batch Loss= 30.852386, Training Accuracy= 0.44678\n",
      "Epoch  6, CIFAR-10 Batch 1:  Batch Loss= 32.998405, Training Accuracy= 0.46163\n",
      "Epoch  6, CIFAR-10 Batch 2:  Batch Loss= 27.309168, Training Accuracy= 0.46411\n",
      "Epoch  6, CIFAR-10 Batch 3:  Batch Loss= 27.619289, Training Accuracy= 0.41708\n",
      "Epoch  6, CIFAR-10 Batch 4:  Batch Loss= 27.117388, Training Accuracy= 0.46163\n",
      "Epoch  6, CIFAR-10 Batch 5:  Batch Loss= 27.742577, Training Accuracy= 0.45173\n",
      "Epoch  7, CIFAR-10 Batch 1:  Batch Loss= 24.034912, Training Accuracy= 0.48391\n",
      "Epoch  7, CIFAR-10 Batch 2:  Batch Loss= 23.911814, Training Accuracy= 0.49752\n",
      "Epoch  7, CIFAR-10 Batch 3:  Batch Loss= 23.210363, Training Accuracy= 0.42822\n",
      "Epoch  7, CIFAR-10 Batch 4:  Batch Loss= 24.141117, Training Accuracy= 0.50000\n",
      "Epoch  7, CIFAR-10 Batch 5:  Batch Loss= 20.023247, Training Accuracy= 0.47401\n",
      "Epoch  8, CIFAR-10 Batch 1:  Batch Loss= 21.377386, Training Accuracy= 0.49381\n",
      "Epoch  8, CIFAR-10 Batch 2:  Batch Loss= 19.943298, Training Accuracy= 0.48639\n",
      "Epoch  8, CIFAR-10 Batch 3:  Batch Loss= 19.103622, Training Accuracy= 0.49134\n",
      "Epoch  8, CIFAR-10 Batch 4:  Batch Loss= 20.020033, Training Accuracy= 0.49010\n",
      "Epoch  8, CIFAR-10 Batch 5:  Batch Loss= 18.137218, Training Accuracy= 0.50248\n",
      "Epoch  9, CIFAR-10 Batch 1:  Batch Loss= 20.277479, Training Accuracy= 0.49381\n",
      "Epoch  9, CIFAR-10 Batch 2:  Batch Loss= 16.525114, Training Accuracy= 0.50866\n",
      "Epoch  9, CIFAR-10 Batch 3:  Batch Loss= 16.641357, Training Accuracy= 0.50990\n",
      "Epoch  9, CIFAR-10 Batch 4:  Batch Loss= 16.369757, Training Accuracy= 0.51980\n",
      "Epoch  9, CIFAR-10 Batch 5:  Batch Loss= 15.444956, Training Accuracy= 0.52723\n",
      "Epoch 10, CIFAR-10 Batch 1:  Batch Loss= 16.128403, Training Accuracy= 0.54208\n",
      "Epoch 10, CIFAR-10 Batch 2:  Batch Loss= 14.955090, Training Accuracy= 0.52723\n",
      "Epoch 10, CIFAR-10 Batch 3:  Batch Loss= 16.088673, Training Accuracy= 0.49876\n",
      "Epoch 10, CIFAR-10 Batch 4:  Batch Loss= 14.929897, Training Accuracy= 0.56807\n",
      "Epoch 10, CIFAR-10 Batch 5:  Batch Loss= 14.401168, Training Accuracy= 0.54455\n",
      "Epoch 11, CIFAR-10 Batch 1:  Batch Loss= 14.474602, Training Accuracy= 0.55817\n",
      "Epoch 11, CIFAR-10 Batch 2:  Batch Loss= 13.880780, Training Accuracy= 0.52599\n",
      "Epoch 11, CIFAR-10 Batch 3:  Batch Loss= 16.684767, Training Accuracy= 0.50000\n",
      "Epoch 11, CIFAR-10 Batch 4:  Batch Loss= 13.613289, Training Accuracy= 0.56436\n",
      "Epoch 11, CIFAR-10 Batch 5:  Batch Loss= 13.029821, Training Accuracy= 0.57054\n",
      "Epoch 12, CIFAR-10 Batch 1:  Batch Loss= 13.874542, Training Accuracy= 0.54332\n",
      "Epoch 12, CIFAR-10 Batch 2:  Batch Loss= 12.144229, Training Accuracy= 0.57302\n",
      "Epoch 12, CIFAR-10 Batch 3:  Batch Loss= 12.805814, Training Accuracy= 0.55074\n",
      "Epoch 12, CIFAR-10 Batch 4:  Batch Loss= 11.832855, Training Accuracy= 0.60149\n",
      "Epoch 12, CIFAR-10 Batch 5:  Batch Loss= 12.281906, Training Accuracy= 0.57426\n",
      "Epoch 13, CIFAR-10 Batch 1:  Batch Loss= 12.294307, Training Accuracy= 0.57549\n",
      "Epoch 13, CIFAR-10 Batch 2:  Batch Loss= 12.267973, Training Accuracy= 0.59282\n",
      "Epoch 13, CIFAR-10 Batch 3:  Batch Loss= 12.257413, Training Accuracy= 0.56436\n",
      "Epoch 13, CIFAR-10 Batch 4:  Batch Loss= 12.009444, Training Accuracy= 0.57797\n",
      "Epoch 13, CIFAR-10 Batch 5:  Batch Loss= 10.595393, Training Accuracy= 0.60149\n",
      "Epoch 14, CIFAR-10 Batch 1:  Batch Loss= 10.860996, Training Accuracy= 0.60025\n",
      "Epoch 14, CIFAR-10 Batch 2:  Batch Loss= 10.782236, Training Accuracy= 0.61139\n",
      "Epoch 14, CIFAR-10 Batch 3:  Batch Loss= 12.234744, Training Accuracy= 0.56436\n",
      "Epoch 14, CIFAR-10 Batch 4:  Batch Loss= 11.175735, Training Accuracy= 0.58787\n",
      "Epoch 14, CIFAR-10 Batch 5:  Batch Loss= 10.158152, Training Accuracy= 0.60767\n",
      "Epoch 15, CIFAR-10 Batch 1:  Batch Loss= 11.824453, Training Accuracy= 0.58540\n",
      "Epoch 15, CIFAR-10 Batch 2:  Batch Loss= 10.626074, Training Accuracy= 0.58045\n",
      "Epoch 15, CIFAR-10 Batch 3:  Batch Loss= 11.887650, Training Accuracy= 0.56931\n",
      "Epoch 15, CIFAR-10 Batch 4:  Batch Loss= 9.803695, Training Accuracy= 0.61510\n",
      "Epoch 15, CIFAR-10 Batch 5:  Batch Loss= 9.056485, Training Accuracy= 0.61634\n",
      "Epoch 16, CIFAR-10 Batch 1:  Batch Loss= 9.965147, Training Accuracy= 0.61881\n",
      "Epoch 16, CIFAR-10 Batch 2:  Batch Loss= 10.718061, Training Accuracy= 0.59777\n",
      "Epoch 16, CIFAR-10 Batch 3:  Batch Loss= 11.790364, Training Accuracy= 0.55198\n",
      "Epoch 16, CIFAR-10 Batch 4:  Batch Loss= 10.633344, Training Accuracy= 0.59777\n",
      "Epoch 16, CIFAR-10 Batch 5:  Batch Loss= 11.494323, Training Accuracy= 0.57550\n",
      "Epoch 17, CIFAR-10 Batch 1:  Batch Loss= 10.265603, Training Accuracy= 0.58416\n",
      "Epoch 17, CIFAR-10 Batch 2:  Batch Loss= 11.417439, Training Accuracy= 0.58292\n",
      "Epoch 17, CIFAR-10 Batch 3:  Batch Loss= 10.552205, Training Accuracy= 0.58787\n",
      "Epoch 17, CIFAR-10 Batch 4:  Batch Loss= 9.271486, Training Accuracy= 0.61386\n",
      "Epoch 17, CIFAR-10 Batch 5:  Batch Loss= 8.451709, Training Accuracy= 0.63490\n",
      "Epoch 18, CIFAR-10 Batch 1:  Batch Loss= 8.796954, Training Accuracy= 0.62500\n",
      "Epoch 18, CIFAR-10 Batch 2:  Batch Loss= 10.164999, Training Accuracy= 0.58911\n",
      "Epoch 18, CIFAR-10 Batch 3:  Batch Loss= 9.650099, Training Accuracy= 0.59901\n",
      "Epoch 18, CIFAR-10 Batch 4:  Batch Loss= 7.965437, Training Accuracy= 0.63738\n",
      "Epoch 18, CIFAR-10 Batch 5:  Batch Loss= 8.205176, Training Accuracy= 0.63366\n",
      "Epoch 19, CIFAR-10 Batch 1:  Batch Loss= 7.546755, Training Accuracy= 0.64851\n",
      "Epoch 19, CIFAR-10 Batch 2:  Batch Loss= 7.403721, Training Accuracy= 0.66089\n",
      "Epoch 19, CIFAR-10 Batch 3:  Batch Loss= 8.410040, Training Accuracy= 0.63119\n",
      "Epoch 19, CIFAR-10 Batch 4:  Batch Loss= 7.266438, Training Accuracy= 0.65594\n",
      "Epoch 19, CIFAR-10 Batch 5:  Batch Loss= 7.057608, Training Accuracy= 0.66584\n",
      "Epoch 20, CIFAR-10 Batch 1:  Batch Loss= 7.290065, Training Accuracy= 0.64604\n",
      "Epoch 20, CIFAR-10 Batch 2:  Batch Loss= 6.937531, Training Accuracy= 0.68317\n",
      "Epoch 20, CIFAR-10 Batch 3:  Batch Loss= 7.275708, Training Accuracy= 0.64728\n",
      "Epoch 20, CIFAR-10 Batch 4:  Batch Loss= 6.414106, Training Accuracy= 0.66089\n",
      "Epoch 20, CIFAR-10 Batch 5:  Batch Loss= 6.294384, Training Accuracy= 0.67822\n",
      "Epoch 21, CIFAR-10 Batch 1:  Batch Loss= 6.880839, Training Accuracy= 0.65347\n",
      "Epoch 21, CIFAR-10 Batch 2:  Batch Loss= 6.851376, Training Accuracy= 0.67822\n",
      "Epoch 21, CIFAR-10 Batch 3:  Batch Loss= 7.763245, Training Accuracy= 0.64109\n",
      "Epoch 21, CIFAR-10 Batch 4:  Batch Loss= 6.609891, Training Accuracy= 0.67574\n",
      "Epoch 21, CIFAR-10 Batch 5:  Batch Loss= 6.754877, Training Accuracy= 0.65965\n",
      "Epoch 22, CIFAR-10 Batch 1:  Batch Loss= 7.417256, Training Accuracy= 0.66708\n",
      "Epoch 22, CIFAR-10 Batch 2:  Batch Loss= 6.274458, Training Accuracy= 0.68069\n",
      "Epoch 22, CIFAR-10 Batch 3:  Batch Loss= 7.242063, Training Accuracy= 0.65470\n",
      "Epoch 22, CIFAR-10 Batch 4:  Batch Loss= 6.477738, Training Accuracy= 0.66460\n",
      "Epoch 22, CIFAR-10 Batch 5:  Batch Loss= 5.810137, Training Accuracy= 0.68317\n",
      "Epoch 23, CIFAR-10 Batch 1:  Batch Loss= 7.538455, Training Accuracy= 0.65965\n",
      "Epoch 23, CIFAR-10 Batch 2:  Batch Loss= 6.826330, Training Accuracy= 0.65470\n",
      "Epoch 23, CIFAR-10 Batch 3:  Batch Loss= 9.172173, Training Accuracy= 0.60891\n",
      "Epoch 23, CIFAR-10 Batch 4:  Batch Loss= 6.031518, Training Accuracy= 0.68441\n",
      "Epoch 23, CIFAR-10 Batch 5:  Batch Loss= 6.330584, Training Accuracy= 0.68069\n",
      "Epoch 24, CIFAR-10 Batch 1:  Batch Loss= 7.856331, Training Accuracy= 0.64851\n",
      "Epoch 24, CIFAR-10 Batch 2:  Batch Loss= 7.022297, Training Accuracy= 0.67079\n",
      "Epoch 24, CIFAR-10 Batch 3:  Batch Loss= 8.011191, Training Accuracy= 0.62871\n",
      "Epoch 24, CIFAR-10 Batch 4:  Batch Loss= 5.952752, Training Accuracy= 0.69307\n",
      "Epoch 24, CIFAR-10 Batch 5:  Batch Loss= 6.069125, Training Accuracy= 0.67946\n",
      "Epoch 25, CIFAR-10 Batch 1:  Batch Loss= 6.240848, Training Accuracy= 0.66584\n",
      "Epoch 25, CIFAR-10 Batch 2:  Batch Loss= 5.935952, Training Accuracy= 0.70668\n",
      "Epoch 25, CIFAR-10 Batch 3:  Batch Loss= 5.976137, Training Accuracy= 0.69802\n",
      "Epoch 25, CIFAR-10 Batch 4:  Batch Loss= 5.147948, Training Accuracy= 0.70668\n",
      "Epoch 25, CIFAR-10 Batch 5:  Batch Loss= 5.274532, Training Accuracy= 0.70421\n",
      "Epoch 26, CIFAR-10 Batch 1:  Batch Loss= 5.436349, Training Accuracy= 0.69802\n",
      "Epoch 26, CIFAR-10 Batch 2:  Batch Loss= 5.253968, Training Accuracy= 0.72525\n",
      "Epoch 26, CIFAR-10 Batch 3:  Batch Loss= 5.340119, Training Accuracy= 0.69802\n",
      "Epoch 26, CIFAR-10 Batch 4:  Batch Loss= 5.528008, Training Accuracy= 0.69431\n",
      "Epoch 26, CIFAR-10 Batch 5:  Batch Loss= 4.526820, Training Accuracy= 0.71535\n",
      "Epoch 27, CIFAR-10 Batch 1:  Batch Loss= 4.984551, Training Accuracy= 0.70297\n",
      "Epoch 27, CIFAR-10 Batch 2:  Batch Loss= 5.137081, Training Accuracy= 0.71906\n",
      "Epoch 27, CIFAR-10 Batch 3:  Batch Loss= 5.005776, Training Accuracy= 0.69554\n",
      "Epoch 27, CIFAR-10 Batch 4:  Batch Loss= 4.093760, Training Accuracy= 0.71782\n",
      "Epoch 27, CIFAR-10 Batch 5:  Batch Loss= 4.929846, Training Accuracy= 0.69431\n",
      "Epoch 28, CIFAR-10 Batch 1:  Batch Loss= 5.266630, Training Accuracy= 0.69678\n",
      "Epoch 28, CIFAR-10 Batch 2:  Batch Loss= 4.782526, Training Accuracy= 0.72772\n",
      "Epoch 28, CIFAR-10 Batch 3:  Batch Loss= 5.432273, Training Accuracy= 0.68193\n",
      "Epoch 28, CIFAR-10 Batch 4:  Batch Loss= 4.725631, Training Accuracy= 0.71658\n",
      "Epoch 28, CIFAR-10 Batch 5:  Batch Loss= 4.648345, Training Accuracy= 0.71535\n",
      "Epoch 29, CIFAR-10 Batch 1:  Batch Loss= 6.042020, Training Accuracy= 0.67946\n",
      "Epoch 29, CIFAR-10 Batch 2:  Batch Loss= 4.839309, Training Accuracy= 0.72030\n",
      "Epoch 29, CIFAR-10 Batch 3:  Batch Loss= 4.633810, Training Accuracy= 0.72153\n",
      "Epoch 29, CIFAR-10 Batch 4:  Batch Loss= 4.271533, Training Accuracy= 0.73020\n",
      "Epoch 29, CIFAR-10 Batch 5:  Batch Loss= 4.780198, Training Accuracy= 0.72030\n",
      "Epoch 30, CIFAR-10 Batch 1:  Batch Loss= 4.861756, Training Accuracy= 0.70916\n",
      "Epoch 30, CIFAR-10 Batch 2:  Batch Loss= 4.397588, Training Accuracy= 0.72772\n",
      "Epoch 30, CIFAR-10 Batch 3:  Batch Loss= 4.243165, Training Accuracy= 0.74134\n",
      "Epoch 30, CIFAR-10 Batch 4:  Batch Loss= 4.517999, Training Accuracy= 0.72896\n",
      "Epoch 30, CIFAR-10 Batch 5:  Batch Loss= 4.180773, Training Accuracy= 0.72649\n",
      "Epoch 31, CIFAR-10 Batch 1:  Batch Loss= 4.940081, Training Accuracy= 0.68936\n",
      "Epoch 31, CIFAR-10 Batch 2:  Batch Loss= 5.389952, Training Accuracy= 0.70173\n",
      "Epoch 31, CIFAR-10 Batch 3:  Batch Loss= 5.185590, Training Accuracy= 0.69926\n",
      "Epoch 31, CIFAR-10 Batch 4:  Batch Loss= 4.879587, Training Accuracy= 0.72896\n",
      "Epoch 31, CIFAR-10 Batch 5:  Batch Loss= 4.247779, Training Accuracy= 0.73020\n",
      "Epoch 32, CIFAR-10 Batch 1:  Batch Loss= 5.136617, Training Accuracy= 0.69183\n",
      "Epoch 32, CIFAR-10 Batch 2:  Batch Loss= 5.001143, Training Accuracy= 0.70668\n",
      "Epoch 32, CIFAR-10 Batch 3:  Batch Loss= 6.331807, Training Accuracy= 0.66584\n",
      "Epoch 32, CIFAR-10 Batch 4:  Batch Loss= 4.552227, Training Accuracy= 0.74257\n",
      "Epoch 32, CIFAR-10 Batch 5:  Batch Loss= 4.248407, Training Accuracy= 0.72401\n",
      "Epoch 33, CIFAR-10 Batch 1:  Batch Loss= 4.852348, Training Accuracy= 0.69678\n",
      "Epoch 33, CIFAR-10 Batch 2:  Batch Loss= 5.165579, Training Accuracy= 0.70668\n",
      "Epoch 33, CIFAR-10 Batch 3:  Batch Loss= 5.257442, Training Accuracy= 0.69802\n",
      "Epoch 33, CIFAR-10 Batch 4:  Batch Loss= 4.847075, Training Accuracy= 0.71906\n",
      "Epoch 33, CIFAR-10 Batch 5:  Batch Loss= 4.211109, Training Accuracy= 0.74381\n",
      "Epoch 34, CIFAR-10 Batch 1:  Batch Loss= 3.965614, Training Accuracy= 0.72772\n",
      "Epoch 34, CIFAR-10 Batch 2:  Batch Loss= 4.007756, Training Accuracy= 0.74381\n",
      "Epoch 34, CIFAR-10 Batch 3:  Batch Loss= 4.036772, Training Accuracy= 0.73391\n",
      "Epoch 34, CIFAR-10 Batch 4:  Batch Loss= 3.685976, Training Accuracy= 0.75248\n",
      "Epoch 34, CIFAR-10 Batch 5:  Batch Loss= 3.072127, Training Accuracy= 0.76980\n",
      "Epoch 35, CIFAR-10 Batch 1:  Batch Loss= 3.802845, Training Accuracy= 0.74010\n",
      "Epoch 35, CIFAR-10 Batch 2:  Batch Loss= 3.391298, Training Accuracy= 0.75371\n",
      "Epoch 35, CIFAR-10 Batch 3:  Batch Loss= 3.837026, Training Accuracy= 0.73391\n",
      "Epoch 35, CIFAR-10 Batch 4:  Batch Loss= 3.274034, Training Accuracy= 0.77723\n",
      "Epoch 35, CIFAR-10 Batch 5:  Batch Loss= 3.136100, Training Accuracy= 0.77351\n",
      "Epoch 36, CIFAR-10 Batch 1:  Batch Loss= 3.499173, Training Accuracy= 0.75743\n",
      "Epoch 36, CIFAR-10 Batch 2:  Batch Loss= 3.888318, Training Accuracy= 0.73762\n",
      "Epoch 36, CIFAR-10 Batch 3:  Batch Loss= 4.495931, Training Accuracy= 0.72525\n",
      "Epoch 36, CIFAR-10 Batch 4:  Batch Loss= 3.549825, Training Accuracy= 0.76114\n",
      "Epoch 36, CIFAR-10 Batch 5:  Batch Loss= 3.242826, Training Accuracy= 0.77723\n",
      "Epoch 37, CIFAR-10 Batch 1:  Batch Loss= 4.523931, Training Accuracy= 0.71782\n",
      "Epoch 37, CIFAR-10 Batch 2:  Batch Loss= 4.092122, Training Accuracy= 0.72030\n",
      "Epoch 37, CIFAR-10 Batch 3:  Batch Loss= 3.598030, Training Accuracy= 0.76980\n",
      "Epoch 37, CIFAR-10 Batch 4:  Batch Loss= 2.981110, Training Accuracy= 0.78218\n",
      "Epoch 37, CIFAR-10 Batch 5:  Batch Loss= 3.065655, Training Accuracy= 0.76361\n",
      "Epoch 38, CIFAR-10 Batch 1:  Batch Loss= 3.868896, Training Accuracy= 0.73391\n",
      "Epoch 38, CIFAR-10 Batch 2:  Batch Loss= 3.246938, Training Accuracy= 0.76238\n",
      "Epoch 38, CIFAR-10 Batch 3:  Batch Loss= 3.317969, Training Accuracy= 0.75619\n",
      "Epoch 38, CIFAR-10 Batch 4:  Batch Loss= 3.639626, Training Accuracy= 0.75495\n",
      "Epoch 38, CIFAR-10 Batch 5:  Batch Loss= 3.312632, Training Accuracy= 0.74876\n",
      "Epoch 39, CIFAR-10 Batch 1:  Batch Loss= 3.944942, Training Accuracy= 0.74134\n",
      "Epoch 39, CIFAR-10 Batch 2:  Batch Loss= 3.120617, Training Accuracy= 0.75000\n",
      "Epoch 39, CIFAR-10 Batch 3:  Batch Loss= 3.809985, Training Accuracy= 0.73144\n",
      "Epoch 39, CIFAR-10 Batch 4:  Batch Loss= 3.607400, Training Accuracy= 0.76609\n",
      "Epoch 39, CIFAR-10 Batch 5:  Batch Loss= 2.996667, Training Accuracy= 0.77351\n",
      "Epoch 40, CIFAR-10 Batch 1:  Batch Loss= 3.880096, Training Accuracy= 0.75000\n",
      "Epoch 40, CIFAR-10 Batch 2:  Batch Loss= 3.198194, Training Accuracy= 0.75866\n",
      "Epoch 40, CIFAR-10 Batch 3:  Batch Loss= 3.119210, Training Accuracy= 0.77351\n",
      "Epoch 40, CIFAR-10 Batch 4:  Batch Loss= 3.254059, Training Accuracy= 0.75866\n",
      "Epoch 40, CIFAR-10 Batch 5:  Batch Loss= 3.146401, Training Accuracy= 0.76114\n",
      "Epoch 41, CIFAR-10 Batch 1:  Batch Loss= 3.448096, Training Accuracy= 0.75743\n",
      "Epoch 41, CIFAR-10 Batch 2:  Batch Loss= 3.364635, Training Accuracy= 0.75495\n",
      "Epoch 41, CIFAR-10 Batch 3:  Batch Loss= 3.915649, Training Accuracy= 0.73886\n",
      "Epoch 41, CIFAR-10 Batch 4:  Batch Loss= 3.037917, Training Accuracy= 0.79084\n",
      "Epoch 41, CIFAR-10 Batch 5:  Batch Loss= 2.815227, Training Accuracy= 0.77847\n",
      "Epoch 42, CIFAR-10 Batch 1:  Batch Loss= 3.143311, Training Accuracy= 0.74876\n",
      "Epoch 42, CIFAR-10 Batch 2:  Batch Loss= 3.575896, Training Accuracy= 0.76238\n",
      "Epoch 42, CIFAR-10 Batch 3:  Batch Loss= 2.846567, Training Accuracy= 0.77228\n",
      "Epoch 42, CIFAR-10 Batch 4:  Batch Loss= 2.592012, Training Accuracy= 0.78713\n",
      "Epoch 42, CIFAR-10 Batch 5:  Batch Loss= 2.419851, Training Accuracy= 0.79703\n",
      "Epoch 43, CIFAR-10 Batch 1:  Batch Loss= 2.648440, Training Accuracy= 0.77723\n",
      "Epoch 43, CIFAR-10 Batch 2:  Batch Loss= 3.140051, Training Accuracy= 0.76856\n",
      "Epoch 43, CIFAR-10 Batch 3:  Batch Loss= 3.343910, Training Accuracy= 0.75990\n",
      "Epoch 43, CIFAR-10 Batch 4:  Batch Loss= 3.282939, Training Accuracy= 0.76361\n",
      "Epoch 43, CIFAR-10 Batch 5:  Batch Loss= 2.400863, Training Accuracy= 0.79827\n",
      "Epoch 44, CIFAR-10 Batch 1:  Batch Loss= 2.771900, Training Accuracy= 0.77351\n",
      "Epoch 44, CIFAR-10 Batch 2:  Batch Loss= 2.886093, Training Accuracy= 0.77475\n",
      "Epoch 44, CIFAR-10 Batch 3:  Batch Loss= 3.545031, Training Accuracy= 0.75000\n",
      "Epoch 44, CIFAR-10 Batch 4:  Batch Loss= 2.932798, Training Accuracy= 0.77351\n",
      "Epoch 44, CIFAR-10 Batch 5:  Batch Loss= 2.246146, Training Accuracy= 0.80074\n",
      "Epoch 45, CIFAR-10 Batch 1:  Batch Loss= 2.451065, Training Accuracy= 0.78837\n",
      "Epoch 45, CIFAR-10 Batch 2:  Batch Loss= 2.787316, Training Accuracy= 0.78218\n",
      "Epoch 45, CIFAR-10 Batch 3:  Batch Loss= 3.077431, Training Accuracy= 0.75124\n",
      "Epoch 45, CIFAR-10 Batch 4:  Batch Loss= 2.507490, Training Accuracy= 0.79579\n",
      "Epoch 45, CIFAR-10 Batch 5:  Batch Loss= 2.014500, Training Accuracy= 0.82302\n",
      "Epoch 46, CIFAR-10 Batch 1:  Batch Loss= 3.010068, Training Accuracy= 0.76485\n",
      "Epoch 46, CIFAR-10 Batch 2:  Batch Loss= 2.598906, Training Accuracy= 0.79208\n",
      "Epoch 46, CIFAR-10 Batch 3:  Batch Loss= 2.501788, Training Accuracy= 0.77847\n",
      "Epoch 46, CIFAR-10 Batch 4:  Batch Loss= 2.555496, Training Accuracy= 0.79455\n",
      "Epoch 46, CIFAR-10 Batch 5:  Batch Loss= 2.145136, Training Accuracy= 0.79332\n",
      "Epoch 47, CIFAR-10 Batch 1:  Batch Loss= 2.567983, Training Accuracy= 0.77723\n",
      "Epoch 47, CIFAR-10 Batch 2:  Batch Loss= 2.332651, Training Accuracy= 0.79950\n",
      "Epoch 47, CIFAR-10 Batch 3:  Batch Loss= 2.643937, Training Accuracy= 0.76856\n",
      "Epoch 47, CIFAR-10 Batch 4:  Batch Loss= 2.502558, Training Accuracy= 0.80074\n",
      "Epoch 47, CIFAR-10 Batch 5:  Batch Loss= 2.170421, Training Accuracy= 0.81931\n",
      "Epoch 48, CIFAR-10 Batch 1:  Batch Loss= 2.016497, Training Accuracy= 0.80446\n",
      "Epoch 48, CIFAR-10 Batch 2:  Batch Loss= 2.505123, Training Accuracy= 0.79332\n",
      "Epoch 48, CIFAR-10 Batch 3:  Batch Loss= 2.112829, Training Accuracy= 0.80817\n",
      "Epoch 48, CIFAR-10 Batch 4:  Batch Loss= 2.457536, Training Accuracy= 0.80198\n",
      "Epoch 48, CIFAR-10 Batch 5:  Batch Loss= 2.292565, Training Accuracy= 0.77847\n",
      "Epoch 49, CIFAR-10 Batch 1:  Batch Loss= 2.234563, Training Accuracy= 0.80322\n",
      "Epoch 49, CIFAR-10 Batch 2:  Batch Loss= 2.132502, Training Accuracy= 0.79950\n",
      "Epoch 49, CIFAR-10 Batch 3:  Batch Loss= 2.158648, Training Accuracy= 0.80446\n",
      "Epoch 49, CIFAR-10 Batch 4:  Batch Loss= 2.145437, Training Accuracy= 0.80941\n",
      "Epoch 49, CIFAR-10 Batch 5:  Batch Loss= 1.977660, Training Accuracy= 0.79208\n",
      "Epoch 50, CIFAR-10 Batch 1:  Batch Loss= 2.220803, Training Accuracy= 0.78713\n",
      "Epoch 50, CIFAR-10 Batch 2:  Batch Loss= 3.537804, Training Accuracy= 0.75743\n",
      "Epoch 50, CIFAR-10 Batch 3:  Batch Loss= 3.044322, Training Accuracy= 0.76114\n",
      "Epoch 50, CIFAR-10 Batch 4:  Batch Loss= 2.302199, Training Accuracy= 0.80569\n",
      "Epoch 50, CIFAR-10 Batch 5:  Batch Loss= 1.685690, Training Accuracy= 0.82550\n",
      "Epoch 51, CIFAR-10 Batch 1:  Batch Loss= 2.090541, Training Accuracy= 0.81188\n",
      "Epoch 51, CIFAR-10 Batch 2:  Batch Loss= 2.692642, Training Accuracy= 0.78342\n",
      "Epoch 51, CIFAR-10 Batch 3:  Batch Loss= 3.081814, Training Accuracy= 0.75619\n",
      "Epoch 51, CIFAR-10 Batch 4:  Batch Loss= 2.186262, Training Accuracy= 0.81188\n",
      "Epoch 51, CIFAR-10 Batch 5:  Batch Loss= 1.832560, Training Accuracy= 0.82921\n",
      "Epoch 52, CIFAR-10 Batch 1:  Batch Loss= 2.321135, Training Accuracy= 0.78218\n",
      "Epoch 52, CIFAR-10 Batch 2:  Batch Loss= 1.860049, Training Accuracy= 0.82673\n",
      "Epoch 52, CIFAR-10 Batch 3:  Batch Loss= 2.202612, Training Accuracy= 0.80198\n",
      "Epoch 52, CIFAR-10 Batch 4:  Batch Loss= 1.895740, Training Accuracy= 0.83911\n",
      "Epoch 52, CIFAR-10 Batch 5:  Batch Loss= 2.189356, Training Accuracy= 0.79703\n",
      "Epoch 53, CIFAR-10 Batch 1:  Batch Loss= 2.131243, Training Accuracy= 0.79332\n",
      "Epoch 53, CIFAR-10 Batch 2:  Batch Loss= 2.227626, Training Accuracy= 0.79827\n",
      "Epoch 53, CIFAR-10 Batch 3:  Batch Loss= 2.092066, Training Accuracy= 0.80941\n",
      "Epoch 53, CIFAR-10 Batch 4:  Batch Loss= 2.128372, Training Accuracy= 0.81312\n",
      "Epoch 53, CIFAR-10 Batch 5:  Batch Loss= 1.949285, Training Accuracy= 0.79579\n",
      "Epoch 54, CIFAR-10 Batch 1:  Batch Loss= 2.304838, Training Accuracy= 0.80693\n",
      "Epoch 54, CIFAR-10 Batch 2:  Batch Loss= 2.099692, Training Accuracy= 0.79950\n",
      "Epoch 54, CIFAR-10 Batch 3:  Batch Loss= 2.257977, Training Accuracy= 0.80817\n",
      "Epoch 54, CIFAR-10 Batch 4:  Batch Loss= 2.086012, Training Accuracy= 0.81188\n",
      "Epoch 54, CIFAR-10 Batch 5:  Batch Loss= 2.005600, Training Accuracy= 0.80941\n",
      "Epoch 55, CIFAR-10 Batch 1:  Batch Loss= 1.824982, Training Accuracy= 0.82178\n",
      "Epoch 55, CIFAR-10 Batch 2:  Batch Loss= 1.895494, Training Accuracy= 0.82054\n",
      "Epoch 55, CIFAR-10 Batch 3:  Batch Loss= 2.039970, Training Accuracy= 0.80198\n",
      "Epoch 55, CIFAR-10 Batch 4:  Batch Loss= 1.732278, Training Accuracy= 0.83292\n",
      "Epoch 55, CIFAR-10 Batch 5:  Batch Loss= 1.425802, Training Accuracy= 0.84530\n",
      "Epoch 56, CIFAR-10 Batch 1:  Batch Loss= 1.685910, Training Accuracy= 0.81436\n",
      "Epoch 56, CIFAR-10 Batch 2:  Batch Loss= 1.616850, Training Accuracy= 0.82673\n",
      "Epoch 56, CIFAR-10 Batch 3:  Batch Loss= 1.880294, Training Accuracy= 0.82797\n",
      "Epoch 56, CIFAR-10 Batch 4:  Batch Loss= 2.199497, Training Accuracy= 0.80198\n",
      "Epoch 56, CIFAR-10 Batch 5:  Batch Loss= 1.506136, Training Accuracy= 0.83045\n",
      "Epoch 57, CIFAR-10 Batch 1:  Batch Loss= 1.476097, Training Accuracy= 0.84158\n",
      "Epoch 57, CIFAR-10 Batch 2:  Batch Loss= 1.713939, Training Accuracy= 0.81931\n",
      "Epoch 57, CIFAR-10 Batch 3:  Batch Loss= 1.914194, Training Accuracy= 0.82054\n",
      "Epoch 57, CIFAR-10 Batch 4:  Batch Loss= 1.721241, Training Accuracy= 0.83045\n",
      "Epoch 57, CIFAR-10 Batch 5:  Batch Loss= 1.225775, Training Accuracy= 0.84901\n",
      "Epoch 58, CIFAR-10 Batch 1:  Batch Loss= 1.587020, Training Accuracy= 0.82797\n",
      "Epoch 58, CIFAR-10 Batch 2:  Batch Loss= 1.539668, Training Accuracy= 0.83540\n",
      "Epoch 58, CIFAR-10 Batch 3:  Batch Loss= 1.536758, Training Accuracy= 0.83045\n",
      "Epoch 58, CIFAR-10 Batch 4:  Batch Loss= 1.615093, Training Accuracy= 0.83663\n",
      "Epoch 58, CIFAR-10 Batch 5:  Batch Loss= 1.238397, Training Accuracy= 0.85025\n",
      "Epoch 59, CIFAR-10 Batch 1:  Batch Loss= 1.760639, Training Accuracy= 0.83168\n",
      "Epoch 59, CIFAR-10 Batch 2:  Batch Loss= 1.329816, Training Accuracy= 0.84530\n",
      "Epoch 59, CIFAR-10 Batch 3:  Batch Loss= 1.547901, Training Accuracy= 0.84158\n",
      "Epoch 59, CIFAR-10 Batch 4:  Batch Loss= 1.494544, Training Accuracy= 0.84777\n",
      "Epoch 59, CIFAR-10 Batch 5:  Batch Loss= 1.261126, Training Accuracy= 0.84901\n",
      "Epoch 60, CIFAR-10 Batch 1:  Batch Loss= 1.453476, Training Accuracy= 0.83911\n",
      "Epoch 60, CIFAR-10 Batch 2:  Batch Loss= 1.423905, Training Accuracy= 0.83663\n",
      "Epoch 60, CIFAR-10 Batch 3:  Batch Loss= 1.492278, Training Accuracy= 0.84158\n",
      "Epoch 60, CIFAR-10 Batch 4:  Batch Loss= 1.701765, Training Accuracy= 0.82797\n",
      "Epoch 60, CIFAR-10 Batch 5:  Batch Loss= 1.135785, Training Accuracy= 0.85644\n",
      "Epoch 61, CIFAR-10 Batch 1:  Batch Loss= 1.509208, Training Accuracy= 0.83540\n",
      "Epoch 61, CIFAR-10 Batch 2:  Batch Loss= 1.527522, Training Accuracy= 0.82550\n",
      "Epoch 61, CIFAR-10 Batch 3:  Batch Loss= 1.595964, Training Accuracy= 0.81931\n",
      "Epoch 61, CIFAR-10 Batch 4:  Batch Loss= 1.483943, Training Accuracy= 0.84530\n",
      "Epoch 61, CIFAR-10 Batch 5:  Batch Loss= 1.229894, Training Accuracy= 0.84158\n",
      "Epoch 62, CIFAR-10 Batch 1:  Batch Loss= 1.673952, Training Accuracy= 0.81436\n",
      "Epoch 62, CIFAR-10 Batch 2:  Batch Loss= 1.894858, Training Accuracy= 0.81064\n",
      "Epoch 62, CIFAR-10 Batch 3:  Batch Loss= 1.535029, Training Accuracy= 0.82921\n",
      "Epoch 62, CIFAR-10 Batch 4:  Batch Loss= 1.632576, Training Accuracy= 0.83416\n",
      "Epoch 62, CIFAR-10 Batch 5:  Batch Loss= 1.288707, Training Accuracy= 0.84777\n",
      "Epoch 63, CIFAR-10 Batch 1:  Batch Loss= 1.408493, Training Accuracy= 0.84901\n",
      "Epoch 63, CIFAR-10 Batch 2:  Batch Loss= 1.404671, Training Accuracy= 0.83911\n",
      "Epoch 63, CIFAR-10 Batch 3:  Batch Loss= 1.567626, Training Accuracy= 0.83045\n",
      "Epoch 63, CIFAR-10 Batch 4:  Batch Loss= 1.534156, Training Accuracy= 0.81931\n",
      "Epoch 63, CIFAR-10 Batch 5:  Batch Loss= 1.298064, Training Accuracy= 0.84530\n",
      "Epoch 64, CIFAR-10 Batch 1:  Batch Loss= 1.381338, Training Accuracy= 0.83911\n",
      "Epoch 64, CIFAR-10 Batch 2:  Batch Loss= 1.428732, Training Accuracy= 0.84777\n",
      "Epoch 64, CIFAR-10 Batch 3:  Batch Loss= 1.432016, Training Accuracy= 0.85520\n",
      "Epoch 64, CIFAR-10 Batch 4:  Batch Loss= 1.772530, Training Accuracy= 0.82302\n",
      "Epoch 64, CIFAR-10 Batch 5:  Batch Loss= 1.208961, Training Accuracy= 0.85396\n",
      "Epoch 65, CIFAR-10 Batch 1:  Batch Loss= 1.340462, Training Accuracy= 0.85272\n",
      "Epoch 65, CIFAR-10 Batch 2:  Batch Loss= 1.269783, Training Accuracy= 0.86634\n",
      "Epoch 65, CIFAR-10 Batch 3:  Batch Loss= 1.333415, Training Accuracy= 0.86262\n",
      "Epoch 65, CIFAR-10 Batch 4:  Batch Loss= 1.534735, Training Accuracy= 0.83663\n",
      "Epoch 65, CIFAR-10 Batch 5:  Batch Loss= 1.030483, Training Accuracy= 0.87376\n",
      "Epoch 66, CIFAR-10 Batch 1:  Batch Loss= 1.409730, Training Accuracy= 0.84035\n",
      "Epoch 66, CIFAR-10 Batch 2:  Batch Loss= 1.300223, Training Accuracy= 0.84530\n",
      "Epoch 66, CIFAR-10 Batch 3:  Batch Loss= 1.354852, Training Accuracy= 0.85025\n",
      "Epoch 66, CIFAR-10 Batch 4:  Batch Loss= 1.510489, Training Accuracy= 0.83663\n",
      "Epoch 66, CIFAR-10 Batch 5:  Batch Loss= 1.105228, Training Accuracy= 0.85025\n",
      "Epoch 67, CIFAR-10 Batch 1:  Batch Loss= 1.424754, Training Accuracy= 0.83416\n",
      "Epoch 67, CIFAR-10 Batch 2:  Batch Loss= 1.700592, Training Accuracy= 0.81683\n",
      "Epoch 67, CIFAR-10 Batch 3:  Batch Loss= 1.340151, Training Accuracy= 0.84282\n",
      "Epoch 67, CIFAR-10 Batch 4:  Batch Loss= 1.395321, Training Accuracy= 0.84035\n",
      "Epoch 67, CIFAR-10 Batch 5:  Batch Loss= 1.358124, Training Accuracy= 0.84406\n",
      "Epoch 68, CIFAR-10 Batch 1:  Batch Loss= 1.644082, Training Accuracy= 0.81807\n",
      "Epoch 68, CIFAR-10 Batch 2:  Batch Loss= 1.291824, Training Accuracy= 0.84901\n",
      "Epoch 68, CIFAR-10 Batch 3:  Batch Loss= 1.255269, Training Accuracy= 0.84035\n",
      "Epoch 68, CIFAR-10 Batch 4:  Batch Loss= 1.457339, Training Accuracy= 0.84530\n",
      "Epoch 68, CIFAR-10 Batch 5:  Batch Loss= 1.260960, Training Accuracy= 0.83540\n",
      "Epoch 69, CIFAR-10 Batch 1:  Batch Loss= 1.461587, Training Accuracy= 0.83168\n",
      "Epoch 69, CIFAR-10 Batch 2:  Batch Loss= 1.457294, Training Accuracy= 0.83911\n",
      "Epoch 69, CIFAR-10 Batch 3:  Batch Loss= 1.142907, Training Accuracy= 0.85767\n",
      "Epoch 69, CIFAR-10 Batch 4:  Batch Loss= 1.204618, Training Accuracy= 0.85891\n",
      "Epoch 69, CIFAR-10 Batch 5:  Batch Loss= 1.158027, Training Accuracy= 0.85644\n",
      "Epoch 70, CIFAR-10 Batch 1:  Batch Loss= 1.315164, Training Accuracy= 0.83663\n",
      "Epoch 70, CIFAR-10 Batch 2:  Batch Loss= 1.156681, Training Accuracy= 0.85396\n",
      "Epoch 70, CIFAR-10 Batch 3:  Batch Loss= 1.052243, Training Accuracy= 0.87005\n",
      "Epoch 70, CIFAR-10 Batch 4:  Batch Loss= 1.341904, Training Accuracy= 0.83787\n",
      "Epoch 70, CIFAR-10 Batch 5:  Batch Loss= 1.074416, Training Accuracy= 0.84901\n",
      "Epoch 71, CIFAR-10 Batch 1:  Batch Loss= 1.220344, Training Accuracy= 0.84901\n",
      "Epoch 71, CIFAR-10 Batch 2:  Batch Loss= 1.111811, Training Accuracy= 0.86139\n",
      "Epoch 71, CIFAR-10 Batch 3:  Batch Loss= 1.083371, Training Accuracy= 0.85025\n",
      "Epoch 71, CIFAR-10 Batch 4:  Batch Loss= 1.267325, Training Accuracy= 0.84777\n",
      "Epoch 71, CIFAR-10 Batch 5:  Batch Loss= 1.429001, Training Accuracy= 0.83168\n",
      "Epoch 72, CIFAR-10 Batch 1:  Batch Loss= 1.200023, Training Accuracy= 0.84282\n",
      "Epoch 72, CIFAR-10 Batch 2:  Batch Loss= 1.067242, Training Accuracy= 0.86757\n",
      "Epoch 72, CIFAR-10 Batch 3:  Batch Loss= 1.152045, Training Accuracy= 0.85767\n",
      "Epoch 72, CIFAR-10 Batch 4:  Batch Loss= 1.523470, Training Accuracy= 0.83292\n",
      "Epoch 72, CIFAR-10 Batch 5:  Batch Loss= 1.132348, Training Accuracy= 0.85149\n",
      "Epoch 73, CIFAR-10 Batch 1:  Batch Loss= 1.084896, Training Accuracy= 0.85644\n",
      "Epoch 73, CIFAR-10 Batch 2:  Batch Loss= 1.122493, Training Accuracy= 0.85891\n",
      "Epoch 73, CIFAR-10 Batch 3:  Batch Loss= 1.200343, Training Accuracy= 0.85396\n",
      "Epoch 73, CIFAR-10 Batch 4:  Batch Loss= 1.230815, Training Accuracy= 0.86139\n",
      "Epoch 73, CIFAR-10 Batch 5:  Batch Loss= 0.838913, Training Accuracy= 0.88490\n",
      "Epoch 74, CIFAR-10 Batch 1:  Batch Loss= 1.141127, Training Accuracy= 0.86262\n",
      "Epoch 74, CIFAR-10 Batch 2:  Batch Loss= 1.240844, Training Accuracy= 0.85272\n",
      "Epoch 74, CIFAR-10 Batch 3:  Batch Loss= 1.069960, Training Accuracy= 0.86386\n",
      "Epoch 74, CIFAR-10 Batch 4:  Batch Loss= 1.110692, Training Accuracy= 0.86510\n",
      "Epoch 74, CIFAR-10 Batch 5:  Batch Loss= 0.777311, Training Accuracy= 0.89728\n",
      "Epoch 75, CIFAR-10 Batch 1:  Batch Loss= 1.135083, Training Accuracy= 0.86510\n",
      "Epoch 75, CIFAR-10 Batch 2:  Batch Loss= 0.955143, Training Accuracy= 0.86262\n",
      "Epoch 75, CIFAR-10 Batch 3:  Batch Loss= 1.037412, Training Accuracy= 0.86634\n",
      "Epoch 75, CIFAR-10 Batch 4:  Batch Loss= 0.972573, Training Accuracy= 0.88243\n",
      "Epoch 75, CIFAR-10 Batch 5:  Batch Loss= 0.864806, Training Accuracy= 0.87500\n"
     ]
    }
   ],
   "source": [
    "\"\"\"\n",
    "DON'T MODIFY ANYTHING IN THIS CELL\n",
    "\"\"\"\n",
    "save_model_path = './image_classification'\n",
    "\n",
    "print('Training...')\n",
    "with tf.Session() as sess:\n",
    "    # Initializing the variables\n",
    "    sess.run(tf.global_variables_initializer())\n",
    "    \n",
    "    # Training cycle\n",
    "    for epoch in range(epochs):\n",
    "        # Loop over all batches\n",
    "        n_batches = 5\n",
    "        for batch_i in range(1, n_batches + 1):\n",
    "            for batch_features, batch_labels in helper.load_preprocess_training_batch(batch_i, batch_size):\n",
    "                train_neural_network(sess, optimizer, keep_probability, batch_features, batch_labels)\n",
    "            print('Epoch {:>2}, CIFAR-10 Batch {}:  '.format(epoch + 1, batch_i), end='')\n",
    "            print_stats(sess, batch_features, batch_labels, cost, accuracy)\n",
    "            \n",
    "    # Save Model\n",
    "    saver = tf.train.Saver()\n",
    "    save_path = saver.save(sess, save_model_path)"
   ]
  },
  {
   "cell_type": "markdown",
   "metadata": {},
   "source": [
    "# Checkpoint\n",
    "The model has been saved to disk.\n",
    "## Test Model\n",
    "Test your model against the test dataset.  This will be your final accuracy. You should have an accuracy greater than 50%. If you don't, keep tweaking the model architecture and parameters."
   ]
  },
  {
   "cell_type": "code",
   "execution_count": 129,
   "metadata": {
    "collapsed": false
   },
   "outputs": [
    {
     "name": "stdout",
     "output_type": "stream",
     "text": [
      "Testing Accuracy: 0.5095306634902954\n",
      "\n"
     ]
    },
    {
     "data": {
      "image/png": "[encoded data removed]",
      "text/plain": [
       "<matplotlib.figure.Figure at 0x7fa4d1d19ac8>"
      ]
     },
     "metadata": {
      "image/png": {
       "height": 319,
       "width": 355
      }
     },
     "output_type": "display_data"
    }
   ],
   "source": [
    "\"\"\"\n",
    "DON'T MODIFY ANYTHING IN THIS CELL\n",
    "\"\"\"\n",
    "%matplotlib inline\n",
    "%config InlineBackend.figure_format = 'retina'\n",
    "\n",
    "import tensorflow as tf\n",
    "import pickle\n",
    "import helper\n",
    "import random\n",
    "\n",
    "# Set batch size if not already set\n",
    "try:\n",
    "    if batch_size:\n",
    "        pass\n",
    "except NameError:\n",
    "    batch_size = 64\n",
    "\n",
    "save_model_path = './image_classification'\n",
    "n_samples = 4\n",
    "top_n_predictions = 3\n",
    "\n",
    "def test_model():\n",
    "    \"\"\"\n",
    "    Test the saved model against the test dataset\n",
    "    \"\"\"\n",
    "\n",
    "    test_features, test_labels = pickle.load(open('preprocess_training.p', mode='rb'))\n",
    "    loaded_graph = tf.Graph()\n",
    "\n",
    "    with tf.Session(graph=loaded_graph) as sess:\n",
    "        # Load model\n",
    "        loader = tf.train.import_meta_graph(save_model_path + '.meta')\n",
    "        loader.restore(sess, save_model_path)\n",
    "\n",
    "        # Get Tensors from loaded model\n",
    "        loaded_x = loaded_graph.get_tensor_by_name('x:0')\n",
    "        loaded_y = loaded_graph.get_tensor_by_name('y:0')\n",
    "        loaded_keep_prob = loaded_graph.get_tensor_by_name('keep_prob:0')\n",
    "        loaded_logits = loaded_graph.get_tensor_by_name('logits:0')\n",
    "        loaded_acc = loaded_graph.get_tensor_by_name('accuracy:0')\n",
    "        \n",
    "        # Get accuracy in batches for memory limitations\n",
    "        test_batch_acc_total = 0\n",
    "        test_batch_count = 0\n",
    "        \n",
    "        for train_feature_batch, train_label_batch in helper.batch_features_labels(test_features, test_labels, batch_size):\n",
    "            test_batch_acc_total += sess.run(\n",
    "                loaded_acc,\n",
    "                feed_dict={loaded_x: train_feature_batch, loaded_y: train_label_batch, loaded_keep_prob: 1.0})\n",
    "            test_batch_count += 1\n",
    "\n",
    "        print('Testing Accuracy: {}\\n'.format(test_batch_acc_total/test_batch_count))\n",
    "\n",
    "        # Print Random Samples\n",
    "        random_test_features, random_test_labels = tuple(zip(*random.sample(list(zip(test_features, test_labels)), n_samples)))\n",
    "        random_test_predictions = sess.run(\n",
    "            tf.nn.top_k(tf.nn.softmax(loaded_logits), top_n_predictions),\n",
    "            feed_dict={loaded_x: random_test_features, loaded_y: random_test_labels, loaded_keep_prob: 1.0})\n",
    "        helper.display_image_predictions(random_test_features, random_test_labels, random_test_predictions)\n",
    "\n",
    "\n",
    "test_model()"
   ]
  },
  {
   "cell_type": "markdown",
   "metadata": {},
   "source": [
    "## Why 50-70% Accuracy?\n",
    "You might be wondering why you can't get an accuracy any higher. First things first, 50% isn't bad for a simple CNN.  Pure guessing would get you 10% accuracy. However, you might notice people are getting scores [well above 70%](http://rodrigob.github.io/are_we_there_yet/build/classification_datasets_results.html#43494641522d3130).  That's because we haven't taught you all there is to know about neural networks. We still need to cover a few more techniques.\n",
    "## Submitting This Project\n",
    "When submitting this project, make sure to run all the cells before saving the notebook.  Save the notebook file as \"dlnd_image_classification.ipynb\" and save it as a HTML file under \"File\" -> \"Download as\".  Include the \"helper.py\" and \"problem_unittests.py\" files in your submission."
   ]
  }
 ],
 "metadata": {
  "kernelspec": {
   "display_name": "Python 3",
   "language": "python",
   "name": "python3"
  },
  "language_info": {
   "codemirror_mode": {
    "name": "ipython",
    "version": 3
   },
   "file_extension": ".py",
   "mimetype": "text/x-python",
   "name": "python",
   "nbconvert_exporter": "python",
   "pygments_lexer": "ipython3",
   "version": "3.6.0"
  }
 },
 "nbformat": 4,
 "nbformat_minor": 0
}
